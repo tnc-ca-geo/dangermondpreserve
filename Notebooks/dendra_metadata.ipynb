{
 "cells": [
  {
   "cell_type": "markdown",
   "id": "89c38d3b",
   "metadata": {},
   "source": [
    "### Pulling in LEV files and to Construct Deployment, Well, and Data Models"
   ]
  },
  {
   "cell_type": "code",
   "execution_count": 1,
   "id": "5343b912",
   "metadata": {
    "ExecuteTime": {
     "end_time": "2023-02-15T18:06:23.149256Z",
     "start_time": "2023-02-15T18:06:13.958121Z"
    }
   },
   "outputs": [],
   "source": [
    "import pandas as pd\n",
    "import numpy as np\n",
    "import matplotlib.pyplot as plt\n",
    "import geopandas as gpd\n",
    "import os, glob, linecache, uuid, json\n",
    "import xml.etree.ElementTree as ETE\n",
    "import seaborn as sns\n",
    "from copy import deepcopy\n",
    "import shutil\n",
    "from scipy.stats import zscore\n",
    "import re\n",
    "import sys\n",
    "import ipdb\n",
    "import json\n",
    "from datetime import timedelta\n",
    "from hampel import hampel\n",
    "from sklearn.ensemble import IsolationForest\n",
    "uuid_gen = uuid.uuid4()\n",
    "\n",
    "den_api_lib_path = \"C:\\\\Users\\\\jinsu.elhance\\\\Box\\\\000. Jinsu Elhance\\\\Github\\\\dendra-api-client-python\"\n",
    "sys.path.append(den_api_lib_path)\n",
    "import dendra_api_client as dendra\n",
    "\n",
    "import warnings\n",
    "warnings.filterwarnings('ignore')"
   ]
  },
  {
   "cell_type": "code",
   "execution_count": 2,
   "id": "a41e51cd",
   "metadata": {},
   "outputs": [
    {
     "name": "stdout",
     "output_type": "stream",
     "text": [
      "········\n"
     ]
    }
   ],
   "source": [
    "# Authentication\n",
    "# If you have a login and the data is not public, you must authenticatte using your Dendra login\n",
    "dendra.authenticate('jinsu.elhance@tnc.org')"
   ]
  },
  {
   "cell_type": "code",
   "execution_count": 5,
   "id": "05f4f5ec",
   "metadata": {
    "ExecuteTime": {
     "end_time": "2023-02-15T18:06:23.197139Z",
     "start_time": "2023-02-15T18:06:23.183140Z"
    }
   },
   "outputs": [],
   "source": [
    "data_dir = \"C:/Users/jinsu.elhance/Box/Wells/WellsDatasheets/HistoricalWellSynthesis/Data/Dendra_Uploads\"\n",
    "well_info = pd.read_csv(f\"C:/Users/jinsu.elhance/Box/Wells/WellsDatasheets/HistoricalWellSynthesis/Data/JLDP_Wells_0.csv\")\n",
    "data_paths = glob.glob(\"C:/Users/jinsu.elhance/Box/Wells/WellsDatasheets/HistoricalWellSynthesis/Data/Dendra_Uploads/*.csv\")\n",
    "dendra_dir = \"C:/Users/jinsu.elhance/Box/000. Jinsu Elhance/DendraWork/\"\n",
    "well_info['Elevation_ft'] = well_info['Elevation_m'] * 3.28084 "
   ]
  },
  {
   "cell_type": "markdown",
   "id": "a0480d96",
   "metadata": {},
   "source": [
    "# Create a Station for each Well"
   ]
  },
  {
   "cell_type": "code",
   "execution_count": 4,
   "id": "c11174b8",
   "metadata": {},
   "outputs": [],
   "source": [
    "# template = {\n",
    "#     \"description\": \"Groundwater well @ Dangermond Preserve\",\n",
    "#     \"full_name\": \"Dangermond WELLNAME\",\n",
    "#     \"geo\": {\n",
    "#         \"type\": \"Point\",\n",
    "#         \"coordinates\": []\n",
    "#     },\n",
    "#     \"is_active\": True,\n",
    "#     \"is_enabled\": True,\n",
    "#     \"is_geo_protected\": False,\n",
    "#     \"is_hidden\": False,\n",
    "#     \"is_stationary\": True,\n",
    "#     \"name\": \"Dangermond WELL NAME\",\n",
    "#     \"slug\": \"dangermond-wellname\",\n",
    "#     \"state\": \"ready\",\n",
    "#     \"time_zone\": \"PST\",\n",
    "#     \"organization_id\": \"5eb41ff0883adf89568569d0\",\n",
    "#     \"utc_offset\": -28800,\n",
    "#     \"station_type\": \"weather\",\n",
    "#     \"version_id\": \"64d407aaf1438da10a4dd1fd\",\n",
    "#     \"created_at\": \"\",\n",
    "#     \"updated_at\": \"\",\n",
    "#     \"created_by\": \"6355f379b055ac27fb8427c7\",\n",
    "#     \"updated_by\": \"6355f379b055ac27fb8427c7\",\n",
    "#     \"access_levels_resolved\": {\n",
    "#         \"member_level\": 3,\n",
    "#         \"public_level\": 3\n",
    "#     },\n",
    "#     \"general_config_resolved\": {\n",
    "#         \"brand_color\": \"2E7D32\",\n",
    "#         \"default_time_zone\": \"PST\",\n",
    "#         \"loggernet_server\": \"csi.dendra.science:60601\",\n",
    "#         \"sample_interval\": 600000,\n",
    "#         \"station_offline_threshold\": 240\n",
    "#     },\n",
    "#     \"organization_lookup\": {\n",
    "#         \"name\": \"The Nature Conservancy\",\n",
    "#         \"slug\": \"tnc\"\n",
    "#     }\n",
    "# }\n",
    "\n",
    "# json_objects = []\n",
    "\n",
    "# for i, well in well_info.iterrows():\n",
    "#     well_data = deepcopy(template)\n",
    "#     well_data[\"full_name\"] = well_data[\"full_name\"].replace(\"WELLNAME\", well['Well_Name'])\n",
    "#     well_data[\"name\"] = well_data[\"name\"].replace(\"WELL NAME\", well['Well_Name'])\n",
    "#     well_data['slug'] = well_data['slug'].replace('wellname', well['Well_Name'].lower().replace(\" \",\"\"))\n",
    "#     well_data[\"geo\"] = {\n",
    "#         'type' : 'Point',\n",
    "#         'coordinates' : [float(well.x), float(well.y), float(well.Elevation_m)]\n",
    "#     }\n",
    "    \n",
    "#     # Write the JSON objects to a file\n",
    "#     with open(f\"C:/Users/jinsu.elhance/Box/000. Jinsu Elhance/DendraWork/Stations/{well['Well_Name']}.station.json\", 'w') as json_file:\n",
    "#         json.dump(well_data, json_file, indent=4)"
   ]
  }
 ],
 "metadata": {
  "kernelspec": {
   "display_name": "Python 3 (ipykernel)",
   "language": "python",
   "name": "python3"
  },
  "language_info": {
   "codemirror_mode": {
    "name": "ipython",
    "version": 3
   },
   "file_extension": ".py",
   "mimetype": "text/x-python",
   "name": "python",
   "nbconvert_exporter": "python",
   "pygments_lexer": "ipython3",
   "version": "3.9.12"
  },
  "toc": {
   "base_numbering": 1,
   "nav_menu": {},
   "number_sections": true,
   "sideBar": true,
   "skip_h1_title": false,
   "title_cell": "Table of Contents",
   "title_sidebar": "Contents",
   "toc_cell": false,
   "toc_position": {},
   "toc_section_display": true,
   "toc_window_display": false
  },
  "varInspector": {
   "cols": {
    "lenName": 16,
    "lenType": 16,
    "lenVar": 40
   },
   "kernels_config": {
    "python": {
     "delete_cmd_postfix": "",
     "delete_cmd_prefix": "del ",
     "library": "var_list.py",
     "varRefreshCmd": "print(var_dic_list())"
    },
    "r": {
     "delete_cmd_postfix": ") ",
     "delete_cmd_prefix": "rm(",
     "library": "var_list.r",
     "varRefreshCmd": "cat(var_dic_list()) "
    }
   },
   "types_to_exclude": [
    "module",
    "function",
    "builtin_function_or_method",
    "instance",
    "_Feature"
   ],
   "window_display": false
  }
 },
 "nbformat": 4,
 "nbformat_minor": 5
}
