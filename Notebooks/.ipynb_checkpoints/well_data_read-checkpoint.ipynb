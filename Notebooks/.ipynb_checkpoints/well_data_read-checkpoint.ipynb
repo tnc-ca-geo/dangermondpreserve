{
 "cells": [
  {
   "cell_type": "markdown",
   "id": "08a0f460",
   "metadata": {},
   "source": [
    "### Pulling in LEV files and to Construct Deployment, Well, and Data Models"
   ]
  },
  {
   "cell_type": "code",
   "execution_count": 176,
   "id": "58d3f241",
   "metadata": {
    "ExecuteTime": {
     "end_time": "2022-12-05T23:51:26.116038Z",
     "start_time": "2022-12-05T23:51:26.101676Z"
    }
   },
   "outputs": [],
   "source": [
    "import pandas as pd\n",
    "import numpy as np\n",
    "import os, glob, linecache, uuid\n",
    "import xml.etree.ElementTree as ETE\n",
    "import seaborn as sns\n",
    "import matplotlib.pyplot as plt\n",
    "\n",
    "uuid_gen = uuid.uuid4()"
   ]
  },
  {
   "cell_type": "code",
   "execution_count": 177,
   "id": "85af794e",
   "metadata": {
    "ExecuteTime": {
     "end_time": "2022-12-06T00:26:36.731320Z",
     "start_time": "2022-12-06T00:26:36.719274Z"
    }
   },
   "outputs": [],
   "source": [
    "data_dir = \"C:/Users/jinsu.elhance/Box/Wells/WellsDatasheets\""
   ]
  },
  {
   "cell_type": "code",
   "execution_count": 178,
   "id": "f9bc2622",
   "metadata": {
    "ExecuteTime": {
     "end_time": "2022-12-06T00:27:12.370226Z",
     "start_time": "2022-12-06T00:27:12.316226Z"
    }
   },
   "outputs": [],
   "source": [
    "LEV_dir_list = glob.glob(f\"{data_dir}/*/*.lev\")\n",
    "XLE_dir_list = glob.glob(f\"{data_dir}/*/*.xle\") + glob.glob(f\"{data_dir}/*/*/*.xle\")\n",
    "XLSX_dir_list = glob.glob(f\"{data_dir}/WellsData_Dudek_2009-2011/*.xlsx\")\n",
    "CSV_dir_2017_2018_list = glob.glob(f\"{data_dir}/WellsData_2017-2018/*.csv\")"
   ]
  },
  {
   "cell_type": "code",
   "execution_count": 179,
   "id": "994401af",
   "metadata": {},
   "outputs": [
    {
     "data": {
      "text/plain": [
       "{'2021-03-24-Oaks3.csv',\n",
       " 'Oaks1_2021_12_05.csv',\n",
       " 'Oaks3B_Level_SN2035479_2020-07-03Compensated_mat.xlsx',\n",
       " 'Sheep camp11-10excelDataExplained_Temperature.xlsx',\n",
       " 'Tinta5_2010_05_16.csv',\n",
       " 'Water Levels end March 2015.xlsx',\n",
       " 'quail cyn example data explained.xlsx'}"
      ]
     },
     "execution_count": 179,
     "metadata": {},
     "output_type": "execute_result"
    }
   ],
   "source": [
    "processed = set([os.path.basename(file) for file in LEV_dir_list + XLE_dir_list + XLSX_dir_list + CSV_dir_2017_2018_list])\n",
    "unprocessed_list = [glob.glob(f\"{data_dir}/*/*.{ext}\") for ext in [\"xlsx\", \"lev\", \"xle\", \"csv\"]] + [glob.glob(f\"{data_dir}/*/*/*.xle\")]\n",
    "unprocessed = set()\n",
    "for ext in unprocessed_list:\n",
    "    unprocessed.update([os.path.basename(file) for file in ext])\n",
    "\n",
    "unprocessed = unprocessed.difference(processed)\n",
    "unprocessed"
   ]
  },
  {
   "cell_type": "code",
   "execution_count": 180,
   "id": "29aa1205",
   "metadata": {},
   "outputs": [],
   "source": [
    "\n",
    "with open(f\"{data_dir}/SynthesisStatus.txt\", \"w\") as output:\n",
    "    output.write(\"Unprocessed datasheets \\n\")\n",
    "    for file in unprocessed:\n",
    "        output.write(str(file) + \"\\n\")\n",
    "    output.write(\"Emails\\n\")\n",
    "    output.write(\"\\nProcessed datasheets \\n\")\n",
    "    for file in processed:\n",
    "        output.write(str(file) + \"\\n\")"
   ]
  },
  {
   "cell_type": "code",
   "execution_count": 181,
   "id": "b45b088c",
   "metadata": {
    "ExecuteTime": {
     "end_time": "2022-12-06T00:27:12.711066Z",
     "start_time": "2022-12-06T00:27:12.693651Z"
    }
   },
   "outputs": [],
   "source": [
    "def find_data_rows(lines):\n",
    "    i = 0 \n",
    "    while i < len(lines):\n",
    "        if lines[i] == \"[Data]\\r\\n\":\n",
    "            return i \n",
    "        i += 1"
   ]
  },
  {
   "cell_type": "code",
   "execution_count": 182,
   "id": "7e140e0d",
   "metadata": {
    "ExecuteTime": {
     "end_time": "2022-12-06T00:27:30.300014Z",
     "start_time": "2022-12-06T00:27:13.283889Z"
    }
   },
   "outputs": [],
   "source": [
    "Wells = pd.DataFrame()\n",
    "Devices = pd.DataFrame()\n",
    "WellData = {}\n",
    "\n",
    "for lev in LEV_dir_list:\n",
    "    with open(lev, newline=\"\\n\") as lev_text:\n",
    "        lev_lines = lev_text.readlines()\n",
    "        _dataStart = find_data_rows(lev_lines) + 2\n",
    "        \n",
    "        _metadata = {}\n",
    "        for _mdx in lev_lines[10:_dataStart]:\n",
    "            _spltKeyDat = _mdx.replace(\" \", \"\").strip().split(\"=\")\n",
    "            if len(_spltKeyDat) > 1:\n",
    "                if _spltKeyDat[0] == \"Unit\" and \"LevelUnit\" in _metadata.keys() :\n",
    "                    _spltKeyDat[0] = \"TemperatureUnit\"\n",
    "                elif _spltKeyDat[0] == \"Unit\":\n",
    "                    _spltKeyDat[0] = \"LevelUnit\"\n",
    "                _metadata[_spltKeyDat[0]] = _spltKeyDat[1]\n",
    "        \n",
    "        instrumentType = _metadata.get(\"Instrumenttype\") or \"Unknown\"\n",
    "        location = (_metadata.get(\"Location\") or \"Unknown\").replace(\"/\", \"\").replace(\"#\", \"\")\n",
    "        altitude = _metadata.get(\"Altitude\", 0)\n",
    "        levelUnit = _metadata.get(\"LevelUnit\", \"unit\")\n",
    "        tempUnit = _metadata.get(\"TemperatureUnit\", \"unit\")\n",
    "        dateStarted = _metadata.get(\"StartTime\", None)\n",
    "        dateUpdated = _metadata.get(\"StopTime\", None)\n",
    "\n",
    "        ## Find Data Pointer\n",
    "\n",
    "        _df = pd.read_fwf(lev, skiprows=_dataStart, names=[\"date\", \"time\", \"level\", \"temperature\"], encoding='iso-8859-1')\n",
    "        _df = _df.iloc[:-1]\n",
    "        _df = _df.set_index(_df.agg(('{0[date]}{0[time]}' + f\"{location}{instrumentType}\").format, axis=1).apply(lambda x: hash(x)))\n",
    "\n",
    "        if os.path.exists(f\"{data_dir}/HistoricalWellSynthesis/Data/{location}/{location}.csv\") :\n",
    "            WellData[location] = pd.read_csv(f\"{data_dir}/HistoricalWellSynthesis/Data/{location}/{location}.csv\")\n",
    "        elif not os.path.exists(f\"{data_dir}/HistoricalWellSynthesis/Data/{location}\"):\n",
    "            os.makedirs(f\"{data_dir}/HistoricalWellSynthesis/Data/{location}\")\n",
    "            \n",
    "        if location in WellData.keys():\n",
    "            WellData[location] = pd.concat([WellData[location], _df], axis=0)\n",
    "        else: \n",
    "            WellData[location] = _df\n",
    "            \n",
    "        Devices = pd.concat([Devices, pd.DataFrame({\n",
    "            \"instrumentType\":instrumentType,\n",
    "            \"location\": location,\n",
    "            \"altitude\": altitude,\n",
    "            \"levelUnit\": levelUnit,\n",
    "            \"temperatureUnit\": tempUnit,\n",
    "            \"dateStarted\": dateStarted,\n",
    "            \"dateUpdated\": dateUpdated\n",
    "        }, index=[instrumentType+location])], ignore_index = True)\n",
    "        \n",
    "#         print(location)"
   ]
  },
  {
   "cell_type": "code",
   "execution_count": 183,
   "id": "01d238b1",
   "metadata": {
    "ExecuteTime": {
     "end_time": "2022-12-06T00:27:30.823131Z",
     "start_time": "2022-12-06T00:27:30.395002Z"
    },
    "collapsed": true
   },
   "outputs": [
    {
     "name": "stdout",
     "output_type": "stream",
     "text": [
      "C:/Users/jinsu.elhance/Box/Wells/WellsDatasheets\\2016-09-13_WellsDataDownload\\20160913esc#2.xle\n",
      "C:/Users/jinsu.elhance/Box/Wells/WellsDatasheets\\2016-09-13_WellsDataDownload\\20160913esc#5.xle\n",
      "C:/Users/jinsu.elhance/Box/Wells/WellsDatasheets\\2016-09-13_WellsDataDownload\\20160913escondido#3a.xle\n",
      "C:/Users/jinsu.elhance/Box/Wells/WellsDatasheets\\2016-09-13_WellsDataDownload\\20160913escondido#3b.xle\n",
      "C:/Users/jinsu.elhance/Box/Wells/WellsDatasheets\\2016-09-13_WellsDataDownload\\20160913venidito#2.xle\n",
      "C:/Users/jinsu.elhance/Box/Wells/WellsDatasheets\\2016-09-13_WellsDataDownload\\20160914lowerjalama_vaquero.xle\n",
      "C:/Users/jinsu.elhance/Box/Wells/WellsDatasheets\\2016-09-13_WellsDataDownload\\20160914oaks#1.xle\n",
      "C:/Users/jinsu.elhance/Box/Wells/WellsDatasheets\\2016-09-13_WellsDataDownload\\20160914oaks#2.xle\n",
      "C:/Users/jinsu.elhance/Box/Wells/WellsDatasheets\\2016-09-13_WellsDataDownload\\20160914oaks#3b.xle\n",
      "C:/Users/jinsu.elhance/Box/Wells/WellsDatasheets\\2016-09-13_WellsDataDownload\\20160914oaks#4.xle\n",
      "C:/Users/jinsu.elhance/Box/Wells/WellsDatasheets\\2016-09-13_WellsDataDownload\\20160914quail.xle\n",
      "C:/Users/jinsu.elhance/Box/Wells/WellsDatasheets\\2016-09-13_WellsDataDownload\\20160914tinta#11.xle\n",
      "C:/Users/jinsu.elhance/Box/Wells/WellsDatasheets\\2016-09-13_WellsDataDownload\\20160914tinta#11b.xle\n",
      "C:/Users/jinsu.elhance/Box/Wells/WellsDatasheets\\2016-09-13_WellsDataDownload\\20160914tinta#2.xle\n",
      "C:/Users/jinsu.elhance/Box/Wells/WellsDatasheets\\2016-09-13_WellsDataDownload\\20160914tinta#3.xle\n",
      "C:/Users/jinsu.elhance/Box/Wells/WellsDatasheets\\2016-09-13_WellsDataDownload\\20160914tinta#5b.xle\n",
      "C:/Users/jinsu.elhance/Box/Wells/WellsDatasheets\\2016-09-13_WellsDataDownload\\20160914tinta#6.xle\n",
      "C:/Users/jinsu.elhance/Box/Wells/WellsDatasheets\\2016-09-13_WellsDataDownload\\20160914tinta#7.xle\n",
      "C:/Users/jinsu.elhance/Box/Wells/WellsDatasheets\\2017-03-08_WellsDataDownload\\20170308esc#1.xle\n",
      "C:/Users/jinsu.elhance/Box/Wells/WellsDatasheets\\2017-03-08_WellsDataDownload\\20170308esc#2.xle\n",
      "C:/Users/jinsu.elhance/Box/Wells/WellsDatasheets\\2017-03-08_WellsDataDownload\\20170308esc#3a.xle\n",
      "C:/Users/jinsu.elhance/Box/Wells/WellsDatasheets\\2017-03-08_WellsDataDownload\\20170308esc#3b.xle\n",
      "C:/Users/jinsu.elhance/Box/Wells/WellsDatasheets\\2017-03-08_WellsDataDownload\\20170308esc#5.xle\n",
      "C:/Users/jinsu.elhance/Box/Wells/WellsDatasheets\\2017-03-08_WellsDataDownload\\20170308oaks#1.xle\n",
      "C:/Users/jinsu.elhance/Box/Wells/WellsDatasheets\\2017-03-08_WellsDataDownload\\20170308oaks#3b.xle\n",
      "C:/Users/jinsu.elhance/Box/Wells/WellsDatasheets\\2017-03-08_WellsDataDownload\\20170308oaks#4.xle\n",
      "C:/Users/jinsu.elhance/Box/Wells/WellsDatasheets\\2017-03-08_WellsDataDownload\\20170308quail.xle\n",
      "C:/Users/jinsu.elhance/Box/Wells/WellsDatasheets\\2017-03-08_WellsDataDownload\\20170309lowerjalama_vaq.xle\n",
      "C:/Users/jinsu.elhance/Box/Wells/WellsDatasheets\\2017-03-08_WellsDataDownload\\20170309tinta#11.xle\n",
      "C:/Users/jinsu.elhance/Box/Wells/WellsDatasheets\\2017-03-08_WellsDataDownload\\20170309tinta#11b.xle\n",
      "C:/Users/jinsu.elhance/Box/Wells/WellsDatasheets\\2017-03-08_WellsDataDownload\\20170309tinta#2.xle\n",
      "C:/Users/jinsu.elhance/Box/Wells/WellsDatasheets\\2017-03-08_WellsDataDownload\\20170309tinta#3.xle\n",
      "C:/Users/jinsu.elhance/Box/Wells/WellsDatasheets\\2017-03-08_WellsDataDownload\\20170309tinta#5b.xle\n",
      "C:/Users/jinsu.elhance/Box/Wells/WellsDatasheets\\2017-03-08_WellsDataDownload\\20170309tinta#6.xle\n",
      "C:/Users/jinsu.elhance/Box/Wells/WellsDatasheets\\2017-04-11_WellsDataDownload\\20170410oaks#1.xle\n",
      "C:/Users/jinsu.elhance/Box/Wells/WellsDatasheets\\2017-04-11_WellsDataDownload\\20170410oaks#3b.xle\n",
      "C:/Users/jinsu.elhance/Box/Wells/WellsDatasheets\\2017-04-11_WellsDataDownload\\20170411esc#1.xle\n",
      "C:/Users/jinsu.elhance/Box/Wells/WellsDatasheets\\2017-04-11_WellsDataDownload\\20170411esc#3a.xle\n",
      "C:/Users/jinsu.elhance/Box/Wells/WellsDatasheets\\2017-05-03_WellsDataDownload\\20170502lowerjalama_vaq.xle\n",
      "C:/Users/jinsu.elhance/Box/Wells/WellsDatasheets\\2017-05-03_WellsDataDownload\\20170502oaks#1.xle\n",
      "C:/Users/jinsu.elhance/Box/Wells/WellsDatasheets\\2017-05-03_WellsDataDownload\\20170502oaks#3b.xle\n",
      "C:/Users/jinsu.elhance/Box/Wells/WellsDatasheets\\2017-05-03_WellsDataDownload\\20170502oaks#4.xle\n",
      "C:/Users/jinsu.elhance/Box/Wells/WellsDatasheets\\2017-05-03_WellsDataDownload\\20170502quail.xle\n",
      "C:/Users/jinsu.elhance/Box/Wells/WellsDatasheets\\2017-05-03_WellsDataDownload\\20170503esc#3a.xle\n",
      "C:/Users/jinsu.elhance/Box/Wells/WellsDatasheets\\2017-05-03_WellsDataDownload\\20170503esc#3b.xle\n",
      "C:/Users/jinsu.elhance/Box/Wells/WellsDatasheets\\2017-05-03_WellsDataDownload\\20170503tinta#11.xle\n",
      "C:/Users/jinsu.elhance/Box/Wells/WellsDatasheets\\2017-05-03_WellsDataDownload\\20170503tinta#11b.xle\n",
      "C:/Users/jinsu.elhance/Box/Wells/WellsDatasheets\\2017-05-03_WellsDataDownload\\20170503tinta#2.xle\n",
      "C:/Users/jinsu.elhance/Box/Wells/WellsDatasheets\\2017-05-03_WellsDataDownload\\20170503tinta#3.xle\n",
      "C:/Users/jinsu.elhance/Box/Wells/WellsDatasheets\\2017-05-03_WellsDataDownload\\20170503tinta#5b.xle\n",
      "C:/Users/jinsu.elhance/Box/Wells/WellsDatasheets\\2017-05-03_WellsDataDownload\\20170503tinta#6.xle\n",
      "C:/Users/jinsu.elhance/Box/Wells/WellsDatasheets\\2020-07-03_WellsDataDownload\\Oaks3B_Baro_SN1064232_2020-07-03.xle\n",
      "C:/Users/jinsu.elhance/Box/Wells/WellsDatasheets\\2020-07-03_WellsDataDownload\\Oaks3B_Level_SN2035479_2020-07-03.xle\n",
      "C:/Users/jinsu.elhance/Box/Wells/WellsDatasheets\\2020-07-03_WellsDataDownload\\Oaks3B_Level_SN2035479_2020-07-03Compensated.xle\n",
      "C:/Users/jinsu.elhance/Box/Wells/WellsDatasheets\\2020-07-27-WellsDataDownload\\Tinta11A_Level_SN1063934_2020-07-17.xle\n",
      "C:/Users/jinsu.elhance/Box/Wells/WellsDatasheets\\2020-07-27-WellsDataDownload\\Tinta11B_Level_SN2002346_2020-07-17.xle\n",
      "C:/Users/jinsu.elhance/Box/Wells/WellsDatasheets\\2020-08-11-WellDataDownload\\Venadito2.xle\n",
      "C:/Users/jinsu.elhance/Box/Wells/WellsDatasheets\\2020_11_04_WellsDataDownload\\Escondido3A.xle\n",
      "C:/Users/jinsu.elhance/Box/Wells/WellsDatasheets\\2021-03-24_OaksCluster\\2021-03-24-Oaks3.xle\n",
      "C:/Users/jinsu.elhance/Box/Wells/WellsDatasheets\\2021_12_Oaks1\\Oaks1_2021_12_05.xle\n",
      "C:/Users/jinsu.elhance/Box/Wells/WellsDatasheets\\2020-07-17_Wells\\2020-07-27-WellsDataDownload\\Tinta11A_Level_SN1063934_2020-07-17.xle\n",
      "C:/Users/jinsu.elhance/Box/Wells/WellsDatasheets\\2020-07-17_Wells\\2020-07-27-WellsDataDownload\\Tinta11B_Level_SN2002346_2020-07-17.xle\n",
      "C:/Users/jinsu.elhance/Box/Wells/WellsDatasheets\\2022-06-07_WellDataDownload\\Escondido 3\\2037092_Escondido_3A_2021_12_26_033000.xle\n",
      "C:/Users/jinsu.elhance/Box/Wells/WellsDatasheets\\2022-06-07_WellDataDownload\\Escondido 3B\\212552_Esondido_3B_2021_12_26_031500.xle\n",
      "C:/Users/jinsu.elhance/Box/Wells/WellsDatasheets\\2022-06-07_WellDataDownload\\Escondido 4\\2116129_Escondido_4_2021_09_07_060000.xle\n",
      "C:/Users/jinsu.elhance/Box/Wells/WellsDatasheets\\2022-06-07_WellDataDownload\\Escondido5\\Esondido5.xle\n",
      "C:/Users/jinsu.elhance/Box/Wells/WellsDatasheets\\2022-06-07_WellDataDownload\\Oaks1\\2133420_Oaks_1_2021_12_05_154054.xle\n",
      "C:/Users/jinsu.elhance/Box/Wells/WellsDatasheets\\2022-06-07_WellDataDownload\\Oaks1\\2133420_Oaks_1_2022_07_15_154054.xle\n",
      "C:/Users/jinsu.elhance/Box/Wells/WellsDatasheets\\2022-06-07_WellDataDownload\\Oaks2\\2133414_Oaks2_2021_02_04_165951.xle\n",
      "C:/Users/jinsu.elhance/Box/Wells/WellsDatasheets\\2022-06-07_WellDataDownload\\Oaks3B\\2035479_Oaks3B_2021_08_24_063000.xle\n",
      "C:/Users/jinsu.elhance/Box/Wells/WellsDatasheets\\2022-06-07_WellDataDownload\\Oaks4\\2133406_Oaks_4_2021_02_24_170109.xle\n",
      "C:/Users/jinsu.elhance/Box/Wells/WellsDatasheets\\2022-06-07_WellDataDownload\\Oaks5\\2133410_Oaks5_2021_02_24_165913.xle\n",
      "C:/Users/jinsu.elhance/Box/Wells/WellsDatasheets\\2022-06-07_WellDataDownload\\Tinta 11\\2002346_Tinta_#11b_2021_09_07.xle\n",
      "C:/Users/jinsu.elhance/Box/Wells/WellsDatasheets\\2022-06-07_WellDataDownload\\Tinta2\\2115925_Tinta_2_2021_09_07_050000.xle\n",
      "C:/Users/jinsu.elhance/Box/Wells/WellsDatasheets\\2022-06-07_WellDataDownload\\Tinta3\\2125424_Tinta_3_2021_03_23_095000.xle\n",
      "C:/Users/jinsu.elhance/Box/Wells/WellsDatasheets\\2022-06-07_WellDataDownload\\Tinta7\\2123531_Tinta_7_2021_12_26_051500.xle\n",
      "C:/Users/jinsu.elhance/Box/Wells/WellsDatasheets\\WellsDatafromTracy\\2016_sept_wells\\20160913esc#2.xle\n",
      "C:/Users/jinsu.elhance/Box/Wells/WellsDatasheets\\WellsDatafromTracy\\2016_sept_wells\\20160913esc#5.xle\n",
      "C:/Users/jinsu.elhance/Box/Wells/WellsDatasheets\\WellsDatafromTracy\\2016_sept_wells\\20160913escondido#3a.xle\n"
     ]
    },
    {
     "name": "stdout",
     "output_type": "stream",
     "text": [
      "C:/Users/jinsu.elhance/Box/Wells/WellsDatasheets\\WellsDatafromTracy\\2016_sept_wells\\20160913escondido#3b.xle\n",
      "C:/Users/jinsu.elhance/Box/Wells/WellsDatasheets\\WellsDatafromTracy\\2016_sept_wells\\20160913venidito#2.xle\n",
      "C:/Users/jinsu.elhance/Box/Wells/WellsDatasheets\\WellsDatafromTracy\\2016_sept_wells\\20160914lowerjalama_vaquero.xle\n",
      "C:/Users/jinsu.elhance/Box/Wells/WellsDatasheets\\WellsDatafromTracy\\2016_sept_wells\\20160914oaks#1.xle\n",
      "C:/Users/jinsu.elhance/Box/Wells/WellsDatasheets\\WellsDatafromTracy\\2016_sept_wells\\20160914oaks#2.xle\n",
      "C:/Users/jinsu.elhance/Box/Wells/WellsDatasheets\\WellsDatafromTracy\\2016_sept_wells\\20160914oaks#3b.xle\n",
      "C:/Users/jinsu.elhance/Box/Wells/WellsDatasheets\\WellsDatafromTracy\\2016_sept_wells\\20160914oaks#4.xle\n",
      "C:/Users/jinsu.elhance/Box/Wells/WellsDatasheets\\WellsDatafromTracy\\2016_sept_wells\\20160914quail.xle\n",
      "C:/Users/jinsu.elhance/Box/Wells/WellsDatasheets\\WellsDatafromTracy\\2016_sept_wells\\20160914tinta#11.xle\n",
      "C:/Users/jinsu.elhance/Box/Wells/WellsDatasheets\\WellsDatafromTracy\\2016_sept_wells\\20160914tinta#11b.xle\n",
      "C:/Users/jinsu.elhance/Box/Wells/WellsDatasheets\\WellsDatafromTracy\\2016_sept_wells\\20160914tinta#2.xle\n",
      "C:/Users/jinsu.elhance/Box/Wells/WellsDatasheets\\WellsDatafromTracy\\2016_sept_wells\\20160914tinta#3.xle\n",
      "C:/Users/jinsu.elhance/Box/Wells/WellsDatasheets\\WellsDatafromTracy\\2016_sept_wells\\20160914tinta#5b.xle\n",
      "C:/Users/jinsu.elhance/Box/Wells/WellsDatasheets\\WellsDatafromTracy\\2016_sept_wells\\20160914tinta#6.xle\n",
      "C:/Users/jinsu.elhance/Box/Wells/WellsDatasheets\\WellsDatafromTracy\\2016_sept_wells\\20160914tinta#7.xle\n",
      "C:/Users/jinsu.elhance/Box/Wells/WellsDatasheets\\WellsDatafromTracy\\2017_april_wells\\20170410oaks#1.xle\n",
      "C:/Users/jinsu.elhance/Box/Wells/WellsDatasheets\\WellsDatafromTracy\\2017_april_wells\\20170410oaks#3b.xle\n",
      "C:/Users/jinsu.elhance/Box/Wells/WellsDatasheets\\WellsDatafromTracy\\2017_april_wells\\20170411esc#1.xle\n",
      "C:/Users/jinsu.elhance/Box/Wells/WellsDatasheets\\WellsDatafromTracy\\2017_april_wells\\20170411esc#3a.xle\n",
      "C:/Users/jinsu.elhance/Box/Wells/WellsDatasheets\\WellsDatafromTracy\\2017_march_wells\\20170308esc#1.xle\n",
      "C:/Users/jinsu.elhance/Box/Wells/WellsDatasheets\\WellsDatafromTracy\\2017_march_wells\\20170308esc#2.xle\n",
      "C:/Users/jinsu.elhance/Box/Wells/WellsDatasheets\\WellsDatafromTracy\\2017_march_wells\\20170308esc#3a.xle\n",
      "C:/Users/jinsu.elhance/Box/Wells/WellsDatasheets\\WellsDatafromTracy\\2017_march_wells\\20170308esc#3b.xle\n",
      "C:/Users/jinsu.elhance/Box/Wells/WellsDatasheets\\WellsDatafromTracy\\2017_march_wells\\20170308esc#5.xle\n",
      "C:/Users/jinsu.elhance/Box/Wells/WellsDatasheets\\WellsDatafromTracy\\2017_march_wells\\20170308oaks#1.xle\n",
      "C:/Users/jinsu.elhance/Box/Wells/WellsDatasheets\\WellsDatafromTracy\\2017_march_wells\\20170308oaks#3b.xle\n",
      "C:/Users/jinsu.elhance/Box/Wells/WellsDatasheets\\WellsDatafromTracy\\2017_march_wells\\20170308oaks#4.xle\n",
      "C:/Users/jinsu.elhance/Box/Wells/WellsDatasheets\\WellsDatafromTracy\\2017_march_wells\\20170308quail.xle\n",
      "C:/Users/jinsu.elhance/Box/Wells/WellsDatasheets\\WellsDatafromTracy\\2017_march_wells\\20170309lowerjalama_vaq.xle\n",
      "C:/Users/jinsu.elhance/Box/Wells/WellsDatasheets\\WellsDatafromTracy\\2017_march_wells\\20170309tinta#11.xle\n",
      "C:/Users/jinsu.elhance/Box/Wells/WellsDatasheets\\WellsDatafromTracy\\2017_march_wells\\20170309tinta#11b.xle\n",
      "C:/Users/jinsu.elhance/Box/Wells/WellsDatasheets\\WellsDatafromTracy\\2017_march_wells\\20170309tinta#2.xle\n",
      "C:/Users/jinsu.elhance/Box/Wells/WellsDatasheets\\WellsDatafromTracy\\2017_march_wells\\20170309tinta#3.xle\n",
      "C:/Users/jinsu.elhance/Box/Wells/WellsDatasheets\\WellsDatafromTracy\\2017_march_wells\\20170309tinta#5b.xle\n",
      "C:/Users/jinsu.elhance/Box/Wells/WellsDatasheets\\WellsDatafromTracy\\2017_march_wells\\20170309tinta#6.xle\n",
      "C:/Users/jinsu.elhance/Box/Wells/WellsDatasheets\\WellsDatafromTracy\\2017_may_wells\\20170502lowerjalama_vaq.xle\n",
      "C:/Users/jinsu.elhance/Box/Wells/WellsDatasheets\\WellsDatafromTracy\\2017_may_wells\\20170502oaks#1.xle\n",
      "C:/Users/jinsu.elhance/Box/Wells/WellsDatasheets\\WellsDatafromTracy\\2017_may_wells\\20170502oaks#3b.xle\n",
      "C:/Users/jinsu.elhance/Box/Wells/WellsDatasheets\\WellsDatafromTracy\\2017_may_wells\\20170502oaks#4.xle\n",
      "C:/Users/jinsu.elhance/Box/Wells/WellsDatasheets\\WellsDatafromTracy\\2017_may_wells\\20170502quail.xle\n",
      "C:/Users/jinsu.elhance/Box/Wells/WellsDatasheets\\WellsDatafromTracy\\2017_may_wells\\20170503esc#3a.xle\n",
      "C:/Users/jinsu.elhance/Box/Wells/WellsDatasheets\\WellsDatafromTracy\\2017_may_wells\\20170503esc#3b.xle\n",
      "C:/Users/jinsu.elhance/Box/Wells/WellsDatasheets\\WellsDatafromTracy\\2017_may_wells\\20170503tinta#11.xle\n",
      "C:/Users/jinsu.elhance/Box/Wells/WellsDatasheets\\WellsDatafromTracy\\2017_may_wells\\20170503tinta#11b.xle\n",
      "C:/Users/jinsu.elhance/Box/Wells/WellsDatasheets\\WellsDatafromTracy\\2017_may_wells\\20170503tinta#2.xle\n",
      "C:/Users/jinsu.elhance/Box/Wells/WellsDatasheets\\WellsDatafromTracy\\2017_may_wells\\20170503tinta#3.xle\n",
      "C:/Users/jinsu.elhance/Box/Wells/WellsDatasheets\\WellsDatafromTracy\\2017_may_wells\\20170503tinta#5b.xle\n",
      "C:/Users/jinsu.elhance/Box/Wells/WellsDatasheets\\WellsDatafromTracy\\2017_may_wells\\20170503tinta#6.xle\n"
     ]
    }
   ],
   "source": [
    "import xml_to_dict\n",
    "\n",
    "parser = xml_to_dict.XMLtoDict()\n",
    "\n",
    "for xle in XLE_dir_list:\n",
    "    \n",
    "    with open(xle, newline=\"\\n\") as xle_text:\n",
    "        xle_content = xle_text.read()\n",
    "        xle_dict = parser.parse(xle_content)['Body_xle']\n",
    "        \n",
    "        instrumentType = (xle_dict.get('Instrument_info', {}).get('Instrument_type') or \"Unknown\")\n",
    "        location = (xle_dict.get('Instrument_info_data_header', {}).get('Location') or \"Unknown\").replace(\"/\", \"\").replace(\"#\", \"\")\n",
    "        altitude = xle_dict.get('Ch1_data_header', {}).get('Parameters', {}).get('Altitude', 0)\n",
    "        \n",
    "        levelUnit = xle_dict.get('Ch1_data_header', {}).get('Unit', 'unit')\n",
    "        tempUnit = xle_dict.get('Ch2_data_header', {}).get('Unit', 'unit')\n",
    "        \n",
    "        dateUpdated = xle_dict.get(\"Instrument_info_data_header\", {}).get('Stop_time') or 'Unknown'\n",
    "        dateStarted = xle_dict.get(\"Insturment_info_data_header\", {}).get('Start_time') or 'Unknown'\n",
    "        \n",
    "        _df = pd.DataFrame(xle_dict.get('Data', {}).get('Log', {}))\n",
    "        _df = _df.set_index(_df.agg(('{0[Date]}{0[Time]}' + f\"{location}{instrumentType}\").format, axis=1).apply(lambda x: hash(x)))\n",
    "        _df = _df.rename(columns = {\"Date\": 'date', \"Time\":'time', \"ch1\":\"level\", 'ch2':'temperature' }).drop(['ms', '@id'], axis=1)\n",
    "        \n",
    "        if os.path.exists(f\"{data_dir}/HistoricalWellSynthesis/Data/{location}/{location}.csv\") :\n",
    "            WellData[location] = pd.read_csv(f\"{data_dir}/HistoricalWellSynthesis/Data/{location}/{location}.csv\")\n",
    "        elif not os.path.exists(f\"{data_dir}/HistoricalWellSynthesis/Data/{location}\"):\n",
    "            os.makedirs(f\"{data_dir}/HistoricalWellSynthesis/Data/{location}\")\n",
    "            \n",
    "        if location in WellData.keys():\n",
    "            WellData[location] = pd.concat([WellData[location], _df], axis=0)\n",
    "        else: \n",
    "            WellData[location] = _df\n",
    "            \n",
    "        Devices = pd.concat([Devices, pd.DataFrame({\n",
    "            \"instrumentType\":instrumentType,\n",
    "            \"location\": location,\n",
    "            \"altitude\": altitude,\n",
    "            \"levelUnit\": levelUnit,\n",
    "            \"temperatureUnit\": tempUnit,\n",
    "            \"dateStarted\": dateStarted,\n",
    "            \"dateUpdated\": dateUpdated\n",
    "        }, index=[instrumentType+location])], ignore_index = True)"
   ]
  },
  {
   "cell_type": "code",
   "execution_count": 184,
   "id": "1ce5c6d7",
   "metadata": {
    "ExecuteTime": {
     "end_time": "2022-12-06T00:30:48.862167Z",
     "start_time": "2022-12-06T00:27:32.910844Z"
    }
   },
   "outputs": [],
   "source": [
    "for xlsx in XLSX_dir_list:\n",
    "    _df = pd.read_excel(xlsx, sheet_name = \"data\")\n",
    "    _df = _df[[\"DATE TIME\", \"Level (ft)\", \"Temperature °C\", \"DATE TIME.1\", \"Barologger Level (ft)\", \"Barologger Corrected for Elevation\", \"Temperature °C.1\", \"Corrected Water Level (ft H2O)\", \"Groundwater Elevation (ft MSL)\"]]\n",
    "    \n",
    "    _df.loc[_df['DATE TIME.1'].isna(), 'DATE TIME.1'] = _df.loc[_df['DATE TIME.1'].isna(), 'DATE TIME']\n",
    "    _df.loc[_df['DATE TIME'].isna(), 'DATE TIME'] = _df.loc[_df['DATE TIME'].isna(), 'DATE TIME.1']\n",
    "    _df['date'] = _df['DATE TIME'].dt.date\n",
    "    _df['time'] = _df['DATE TIME'].dt.time\n",
    "    \n",
    "    _df = _df.rename(columns = {\n",
    "        'Level (ft)': 'level', \n",
    "        'Temperature °C':'temperature', \n",
    "        'Barologger Level (ft)':'barologger_level', \n",
    "        'Barologger Corrected for Elevation': 'barologger_level_c_elevation',\n",
    "        'Temperature °C.1':'temperature_surface',\n",
    "        'Corrected Water Level (ft H2O)': 'level_corrected',\n",
    "        'Groundwater Elevation (ft MSL)': 'groundwater_elevation'}\n",
    "        )[['date','time','level','temperature','barologger_level','barologger_level_c_elevation','temperature_surface','level_corrected','groundwater_elevation']]\n",
    "    \n",
    "    location = xlsx.split(\"\\\\\")[1][:-5].replace(\"_\",\"\")\n",
    "    \n",
    "    if os.path.exists(f\"{data_dir}/HistoricalWellSynthesis/Data/{location}/{location}.csv\") :\n",
    "        WellData[location] = pd.read_csv(f\"{data_dir}/HistoricalWellSynthesis/Data/{location}/{location}.csv\")\n",
    "    elif not os.path.exists(f\"{data_dir}/HistoricalWellSynthesis/Data/{location}\"):\n",
    "        os.makedirs(f\"{data_dir}/HistoricalWellSynthesis/Data/{location}\")\n",
    "\n",
    "    if location in WellData.keys():\n",
    "        WellData[location] = pd.concat([WellData[location], _df], axis=0)\n",
    "    else: \n",
    "        WellData[location] = _df\n",
    "        \n",
    "#     print(location)"
   ]
  },
  {
   "cell_type": "code",
   "execution_count": 185,
   "id": "4b54397d",
   "metadata": {
    "ExecuteTime": {
     "end_time": "2022-12-06T00:31:14.137722Z",
     "start_time": "2022-12-06T00:30:49.113670Z"
    }
   },
   "outputs": [],
   "source": [
    "# Devices = Devices.set_index(Devices[\"instrumentType\"] + Devices[\"location\"])\n",
    "#Write LEVs to csvs\n",
    "full_well_data = pd.DataFrame()\n",
    "for Well, Data in WellData.items():\n",
    "    Data.to_csv(f\"{data_dir}/HistoricalWellSynthesis/Data/{Well}/{Well}.csv\")\n",
    "    Data[\"Well\"] = Well\n",
    "    full_well_data = pd.concat([full_well_data, Data])\n",
    "# Devices.to_csv(\"Data/Devices.csv\")"
   ]
  },
  {
   "cell_type": "code",
   "execution_count": 186,
   "id": "6bea8a19",
   "metadata": {},
   "outputs": [],
   "source": [
    "full_well_data = full_well_data.loc[~full_well_data['time'].isna()]\n",
    "full_well_data['datetime'] = pd.to_datetime(full_well_data['date'].astype(str) + \" \" + full_well_data['time'].astype(str));"
   ]
  },
  {
   "cell_type": "code",
   "execution_count": 187,
   "id": "0b8dde1e",
   "metadata": {},
   "outputs": [
    {
     "data": {
      "image/png": "[encoded data removed]",
      "text/plain": [
       "<Figure size 500x500 with 1 Axes>"
      ]
     },
     "metadata": {},
     "output_type": "display_data"
    }
   ],
   "source": [
    "well_periods = sns.catplot(data=full_well_data, x='datetime', y='Well')\n",
    "plt.show()"
   ]
  }
 ],
 "metadata": {
  "kernelspec": {
   "display_name": "Python 3",
   "language": "python",
   "name": "python3"
  },
  "language_info": {
   "codemirror_mode": {
    "name": "ipython",
    "version": 3
   },
   "file_extension": ".py",
   "mimetype": "text/x-python",
   "name": "python",
   "nbconvert_exporter": "python",
   "pygments_lexer": "ipython3",
   "version": "3.9.11"
  },
  "toc": {
   "base_numbering": 1,
   "nav_menu": {},
   "number_sections": true,
   "sideBar": true,
   "skip_h1_title": false,
   "title_cell": "Table of Contents",
   "title_sidebar": "Contents",
   "toc_cell": false,
   "toc_position": {},
   "toc_section_display": true,
   "toc_window_display": false
  },
  "varInspector": {
   "cols": {
    "lenName": 16,
    "lenType": 16,
    "lenVar": 40
   },
   "kernels_config": {
    "python": {
     "delete_cmd_postfix": "",
     "delete_cmd_prefix": "del ",
     "library": "var_list.py",
     "varRefreshCmd": "print(var_dic_list())"
    },
    "r": {
     "delete_cmd_postfix": ") ",
     "delete_cmd_prefix": "rm(",
     "library": "var_list.r",
     "varRefreshCmd": "cat(var_dic_list()) "
    }
   },
   "types_to_exclude": [
    "module",
    "function",
    "builtin_function_or_method",
    "instance",
    "_Feature"
   ],
   "window_display": false
  }
 },
 "nbformat": 4,
 "nbformat_minor": 5
}
