{
 "cells": [
  {
   "cell_type": "markdown",
   "id": "4898105c",
   "metadata": {},
   "source": [
    "### Pulling in LEV files and to Construct Deployment, Well, and Data Models"
   ]
  },
  {
   "cell_type": "code",
   "execution_count": 37,
   "id": "7286adb2",
   "metadata": {
    "ExecuteTime": {
     "end_time": "2023-02-15T18:06:23.149256Z",
     "start_time": "2023-02-15T18:06:13.958121Z"
    }
   },
   "outputs": [],
   "source": [
    "import pandas as pd\n",
    "import numpy as np\n",
    "import matplotlib.pyplot as plt\n",
    "import geopandas as gpd\n",
    "import os, glob, linecache, uuid, json\n",
    "import xml.etree.ElementTree as ETE\n",
    "import seaborn as sns\n",
    "from copy import deepcopy\n",
    "import shutil\n",
    "from scipy.stats import zscore\n",
    "import re\n",
    "import sys\n",
    "import ipdb\n",
    "import json\n",
    "from datetime import timedelta\n",
    "from hampel import hampel\n",
    "from sklearn.ensemble import IsolationForest\n",
    "uuid_gen = uuid.uuid4()\n",
    "\n",
    "den_api_lib_path = \"C:\\\\Users\\\\jinsu.elhance\\\\Box\\\\000. Jinsu Elhance\\\\Github\\\\dendra-api-client-python\"\n",
    "sys.path.append(den_api_lib_path)\n",
    "import dendra_api_client as dendra\n",
    "\n",
    "import warnings\n",
    "warnings.filterwarnings('ignore')"
   ]
  },
  {
   "cell_type": "code",
   "execution_count": 2,
   "id": "bb4fff3f",
   "metadata": {},
   "outputs": [
    {
     "name": "stdout",
     "output_type": "stream",
     "text": [
      "········\n"
     ]
    }
   ],
   "source": [
    "# Authentication\n",
    "# If you have a login and the data is not public, you must authenticatte using your Dendra login\n",
    "dendra.authenticate('jinsu.elhance@tnc.org')"
   ]
  },
  {
   "cell_type": "code",
   "execution_count": 3,
   "id": "a7ca5deb",
   "metadata": {
    "ExecuteTime": {
     "end_time": "2023-02-15T18:06:23.197139Z",
     "start_time": "2023-02-15T18:06:23.183140Z"
    }
   },
   "outputs": [],
   "source": [
    "data_dir = \"C:/Users/jinsu.elhance/Box/Wells/WellsDatasheets/HistoricalWellSynthesis/Data/Dendra_Uploads\"\n",
    "well_info = pd.read_csv(f\"C:/Users/jinsu.elhance/Box/Wells/WellsDatasheets/HistoricalWellSynthesis/Data/JLDP_Wells_0.csv\")\n",
    "data_paths = glob.glob(\"C:/Users/jinsu.elhance/Box/Wells/WellsDatasheets/HistoricalWellSynthesis/Data/Dendra_Uploads/*.csv\")\n",
    "well_info['Elevation_ft'] = well_info['Elevation_m'] * 3.28084 "
   ]
  },
  {
   "cell_type": "markdown",
   "id": "50fe3511",
   "metadata": {},
   "source": [
    "# Create a Station for each Well"
   ]
  },
  {
   "cell_type": "code",
   "execution_count": 4,
   "id": "81b57561",
   "metadata": {},
   "outputs": [],
   "source": [
    "# template = {\n",
    "#     \"description\": \"Groundwater well @ Dangermond Preserve\",\n",
    "#     \"full_name\": \"Dangermond WELLNAME\",\n",
    "#     \"geo\": {\n",
    "#         \"type\": \"Point\",\n",
    "#         \"coordinates\": []\n",
    "#     },\n",
    "#     \"is_active\": True,\n",
    "#     \"is_enabled\": True,\n",
    "#     \"is_geo_protected\": False,\n",
    "#     \"is_hidden\": False,\n",
    "#     \"is_stationary\": True,\n",
    "#     \"name\": \"Dangermond WELL NAME\",\n",
    "#     \"slug\": \"dangermond-wellname\",\n",
    "#     \"state\": \"ready\",\n",
    "#     \"time_zone\": \"PST\",\n",
    "#     \"organization_id\": \"5eb41ff0883adf89568569d0\",\n",
    "#     \"utc_offset\": -28800,\n",
    "#     \"station_type\": \"weather\",\n",
    "#     \"version_id\": \"64d407aaf1438da10a4dd1fd\",\n",
    "#     \"created_at\": \"\",\n",
    "#     \"updated_at\": \"\",\n",
    "#     \"created_by\": \"6355f379b055ac27fb8427c7\",\n",
    "#     \"updated_by\": \"6355f379b055ac27fb8427c7\",\n",
    "#     \"access_levels_resolved\": {\n",
    "#         \"member_level\": 3,\n",
    "#         \"public_level\": 3\n",
    "#     },\n",
    "#     \"general_config_resolved\": {\n",
    "#         \"brand_color\": \"2E7D32\",\n",
    "#         \"default_time_zone\": \"PST\",\n",
    "#         \"loggernet_server\": \"csi.dendra.science:60601\",\n",
    "#         \"sample_interval\": 600000,\n",
    "#         \"station_offline_threshold\": 240\n",
    "#     },\n",
    "#     \"organization_lookup\": {\n",
    "#         \"name\": \"The Nature Conservancy\",\n",
    "#         \"slug\": \"tnc\"\n",
    "#     }\n",
    "# }\n",
    "\n",
    "# json_objects = []\n",
    "\n",
    "# for i, well in well_info.iterrows():\n",
    "#     well_data = deepcopy(template)\n",
    "#     well_data[\"full_name\"] = well_data[\"full_name\"].replace(\"WELLNAME\", well['Well_Name'])\n",
    "#     well_data[\"name\"] = well_data[\"name\"].replace(\"WELL NAME\", well['Well_Name'])\n",
    "#     well_data['slug'] = well_data['slug'].replace('wellname', well['Well_Name'].lower().replace(\" \",\"\"))\n",
    "#     well_data[\"geo\"] = {\n",
    "#         'type' : 'Point',\n",
    "#         'coordinates' : [float(well.x), float(well.y), float(well.Elevation_m)]\n",
    "#     }\n",
    "    \n",
    "#     # Write the JSON objects to a file\n",
    "#     with open(f\"C:/Users/jinsu.elhance/Box/000. Jinsu Elhance/DendraWork/Stations/{well['Well_Name']}.station.json\", 'w') as json_file:\n",
    "#         json.dump(well_data, json_file, indent=4)"
   ]
  },
  {
   "cell_type": "markdown",
   "id": "ab3ab91d",
   "metadata": {},
   "source": [
    "# Create Datastreams for each Well"
   ]
  },
  {
   "cell_type": "code",
   "execution_count": 5,
   "id": "e90780a6",
   "metadata": {},
   "outputs": [],
   "source": [
    "# datastreams = [(\"level\", \"xle_lev\"), (\"temperature\", \"xle_lev\"), (\"temperature\", \"xlsx\"), (\"level\", \"xlsx\")]\n",
    "# datastream_template_paths = [\"xle_lev_level.json\", \"xlsx_level.json\", \"xle_lev_temp.json\", \"xlsx_temp.json\"]\n",
    "# datastream_templates = []\n",
    "\n",
    "# for t in datastream_template_paths: \n",
    "#     with open(f\"C:/Users/jinsu.elhance/Box/000. Jinsu Elhance/DendraWork/Datastreams/{t}\") as template_raw:\n",
    "#         datastream_templates.append(deepcopy(json.load(template_raw)))\n",
    "        \n",
    "# #get station names and slugs\n",
    "# datastreams_glob = glob.glob(f\"C:/Users/jinsu.elhance/Box/000. Jinsu Elhance/DendraWork/Datastreams/Requests/*.json\")\n",
    "# station_glob = glob.glob(f\"C:/Users/jinsu.elhance/Box/000. Jinsu Elhance/DendraWork/Stations/64*.json\")\n",
    "\n",
    "# for station_path in station_glob:\n",
    "#     with open(station_path, \"r\") as station_file:\n",
    "#         station_data = json.load(station_file)\n",
    "#         station_name = station_data['slug'].lower().replace(\"dangermond-\", \"\")\n",
    "#         for i in range(4):\n",
    "#             datastream = datastreams[i]\n",
    "#             if os.path.exists(f\"C:/Users/jinsu.elhance/Box/Wells/WellsDatasheets/HistoricalWellSynthesis/Data/Dendra_Uploads/{station_name}_dendra_{datastream[1]}.csv\"):\n",
    "# #                 print(station_name, datastream)\n",
    "#                 datastream_template = deepcopy(datastream_templates[i])\n",
    "#                 datastream_template['datapoints_config'][0][\"params\"][\"query\"][\"fc\"] = datastream_template['datapoints_config'][0][\"params\"][\"query\"][\"fc\"].replace(\"WELL\", station_name)\n",
    "#                 datastream_template['description'] = datastream_template['description'].replace(\"STATIONNAME\", station_data['full_name'].replace(\"Dangermond \", \"\"))\n",
    "#                 datastream_template['datapoints_config_refd'][0]['params']['query']['fc'] = datastream_template['datapoints_config'][0][\"params\"][\"query\"][\"fc\"]\n",
    "#                 datastream_template['station_id'] = station_data['_id']\n",
    "    #              Write the JSON objects to a file\n",
    "#                 with open(f\"C:/Users/jinsu.elhance/Box/000. Jinsu Elhance/DendraWork/Datastreams/Requests/{station_name}.{datastream[0]}.{datastream[1]}.datastream.json\", 'w') as json_file:\n",
    "#                     json.dump(datastream_template, json_file, indent=4)"
   ]
  },
  {
   "cell_type": "markdown",
   "id": "957d2bb8",
   "metadata": {},
   "source": [
    "## Hide Empty Datastreams (Troubleshooting)"
   ]
  },
  {
   "cell_type": "code",
   "execution_count": 6,
   "id": "46b18dff",
   "metadata": {},
   "outputs": [],
   "source": [
    "#Hide datastreams on hidden stations\n",
    "# hidden_stations = []\n",
    "\n",
    "# station_glob = glob.glob(f\"C:/Users/jinsu.elhance/Box/000. Jinsu Elhance/DendraWork/Stations/64*.json\")\n",
    "\n",
    "# for station_path in station_glob:\n",
    "#     with open(station_path, \"r\") as station_file:\n",
    "#         station_data = json.load(station_file)\n",
    "#         if station_data['is_hidden'] == True:\n",
    "#             hidden_stations.append(station_data[\"_id\"])\n",
    "            \n",
    "# datastreams_glob = glob.glob(f\"C:/Users/jinsu.elhance/Box/000. Jinsu Elhance/DendraWork/Datastreams/Requests/64*.json\")\n",
    "\n",
    "# for datastream_path in datastreams_glob:\n",
    "#     with open(datastream_path, \"r\") as datastream_file:\n",
    "#         datastream_data = json.load(datastream_file)\n",
    "#         if datastream_data['station_id'] in hidden_stations:\n",
    "#             datastream_data['is_hidden'] = True\n",
    "#     #              Write the JSON objects to a file\n",
    "#             with open(f\"C:/Users/jinsu.elhance/Box/000. Jinsu Elhance/DendraWork/Datastreams/Requests/patch.{datastream_data['_id']}.datastream.json\", 'w') as json_file:\n",
    "#                 json.dump(datastream_data, json_file, indent=4)"
   ]
  },
  {
   "cell_type": "markdown",
   "id": "efa5eab6",
   "metadata": {},
   "source": [
    "# Create Annotations for Data Gaps"
   ]
  },
  {
   "cell_type": "code",
   "execution_count": 7,
   "id": "46aee1e0",
   "metadata": {},
   "outputs": [],
   "source": [
    "# dendra_data_dir = \"C:\\\\Users\\\\jinsu.elhance\\\\Box\\\\Wells\\\\WellsDatasheets\\\\HistoricalWellSynthesis\\\\Data\\\\Dendra_Uploads\"\n",
    "\n",
    "# dendra_data_glob = glob.glob(dendra_data_dir + \"\\*.csv\")"
   ]
  },
  {
   "cell_type": "code",
   "execution_count": 8,
   "id": "c20d8ad1",
   "metadata": {},
   "outputs": [],
   "source": [
    "#Using well data uploaded to dendra, find starts and ends of data gaps to create annotations with\n",
    "# gap_markers = pd.read_csv(\"Dendra_Anno_Gap_Markers.csv\")\n",
    "\n",
    "#The code below writes gap_markers\n",
    "# well_data_list = []\n",
    "\n",
    "# for data_f in dendra_data_glob:\n",
    "#     well = os.path.basename(data_f).replace(\"_dendra\", \"\").replace(\"_xle_lev.csv\", \"\").replace(\"_xlsx.csv\", \"\")\n",
    "#     well_data = pd.read_csv(data_f)\n",
    "#     well_data['well'] = well\n",
    "#     well_data['TIMESTAMP'] = pd.to_datetime(well_data['TIMESTAMP'])\n",
    "#     well_data['tdelta'] = well_data['TIMESTAMP'].diff()\n",
    "#     well_data_list.append(well_data)\n",
    "    \n",
    "# well_data_full = pd.concat(well_data_list)\n",
    "# well_data_full.head()\n",
    "\n",
    "# gap_finder = well_data_full.loc[well_data_full['tdelta'] > timedelta(days=1)]\n",
    "# gap_finder['gap_start'] = gap_finder['TIMESTAMP'] - gap_finder['tdelta']\n",
    "# gap_ends = gap_finder.groupby(gap_finder['TIMESTAMP'].map(lambda x: (x.year, x.month, x.day)))['well'].agg(lambda x: set(x))\n",
    "# gap_starts = gap_finder.groupby(gap_finder['gap_start'].map(lambda x: (x.year, x.month, x.day)))['well'].agg(lambda x: set(x))"
   ]
  },
  {
   "cell_type": "code",
   "execution_count": 4,
   "id": "62ee39aa",
   "metadata": {},
   "outputs": [],
   "source": [
    "#Hide datastreams on hidden stations\n",
    "stations_dict = {}\n",
    "\n",
    "station_glob = glob.glob(f\"C:/Users/jinsu.elhance/Box/000. Jinsu Elhance/DendraWork/Stations/64*.json\")\n",
    "\n",
    "for station_path in station_glob:\n",
    "    with open(station_path, \"r\") as station_file:\n",
    "        station_data = json.load(station_file)\n",
    "        stations_dict[station_data['slug'].replace(\"dangermond-\", \"\")] = (station_data[\"_id\"])\n",
    "            \n",
    "# datastreams_glob = glob.glob(f\"C:/Users/jinsu.elhance/Box/000. Jinsu Elhance/DendraWork/Datastreams/Requests/64*.json\")\n",
    "\n",
    "# for datastream_path in datastreams_glob:\n",
    "#     with open(datastream_path, \"r\") as datastream_file:\n",
    "#         datastream_data = json.load(datastream_file)\n",
    "#         if datastream_data['station_id'] in hidden_stations:\n",
    "#             datastream_data['is_hidden'] = True\n",
    "#     #              Write the JSON objects to a file\n",
    "#             with open(f\"C:/Users/jinsu.elhance/Box/000. Jinsu Elhance/DendraWork/Datastreams/Requests/patch.{datastream_data['_id']}.datastream.json\", 'w') as json_file:\n",
    "#                 json.dump(datastream_data, json_file, indent=4)"
   ]
  },
  {
   "cell_type": "code",
   "execution_count": 10,
   "id": "2a990b70",
   "metadata": {},
   "outputs": [],
   "source": [
    "# with open(f\"C:\\\\Users\\\\jinsu.elhance\\\\Box\\\\000. Jinsu Elhance\\\\DendraWork\\\\Annotations\\\\template.annotation.json\", encoding=\"utf-8\") as anno_template_file:\n",
    "    \n",
    "#     anno_template_json = json.load(anno_template_file)\n",
    "#     anno_template_json['station_ids'] = []\n",
    "#     anno_template_json['intervals'] = []\n",
    "    \n",
    "#     for i, anno in gap_markers.iterrows():\n",
    "#         anno_template = deepcopy(anno_template_json)\n",
    "#         wells = anno['wells'].split(\"-\")\n",
    "#         anno_template['intervals'].append({\n",
    "#             \"begins_at\":f\"{anno['BEGIN_DATE']}T00:00:00.000Z\",\n",
    "#             \"ends_before\":f\"{anno['END_DATE']}T23:59:00.000Z\",\n",
    "#         })\n",
    "#         anno_template['title'] = anno_template['title'].replace(\"START\", str(anno['BEGIN_DATE'])).replace(\"END\", str(anno['END_DATE']))\n",
    "#         anno_template['station_ids'] = [stations_dict[well] for well in wells]\n",
    "        \n",
    "#       Write the JSON objects to a file\n",
    "#         with open(f\"C:/Users/jinsu.elhance/Box/000. Jinsu Elhance/DendraWork/Annotations/{anno['BEGIN_DATE']}.annotation.json\", 'w') as json_file:\n",
    "#             json.dump(anno_template, json_file, indent=4)"
   ]
  },
  {
   "cell_type": "code",
   "execution_count": 134,
   "id": "29fbdacf",
   "metadata": {},
   "outputs": [],
   "source": [
    "def find_discrete_ts(df):\n",
    "    df['tdelta'] = df['timestamp_utc'].diff()\n",
    "    gap_finder = df.loc[df['tdelta'] > timedelta(days=7)]\n",
    "    tseries = []\n",
    "\n",
    "    indices = np.append([0], gap_finder.index.values)\n",
    "    indices = np.append(indices, df.index.values[-1]+1)\n",
    "\n",
    "    indexr = [(indices[i-1], indices[i]-1) for i in range(1, len(indices))]\n",
    "    \n",
    "#     For each gap, section our the data\n",
    "    for _indexr in indexr:\n",
    "        tseries.append(df[_indexr[0]:_indexr[1]])\n",
    "        \n",
    "    return tseries"
   ]
  },
  {
   "cell_type": "code",
   "execution_count": 210,
   "id": "c86a9886",
   "metadata": {
    "scrolled": true
   },
   "outputs": [
    {
     "name": "stdout",
     "output_type": "stream",
     "text": [
      "[(0, 22179), (22180, 30137)]\n"
     ]
    },
    {
     "name": "stderr",
     "output_type": "stream",
     "text": [
      "C:\\Program Files\\ArcGIS\\Pro\\bin\\Python\\envs\\arcgeopy\\lib\\site-packages\\sklearn\\base.py:409: UserWarning: X does not have valid feature names, but IsolationForest was fitted with feature names\n",
      "  warnings.warn(\n",
      "C:\\Users\\jinsu.elhance\\AppData\\Local\\Temp\\ipykernel_16152\\2764186386.py:39: SettingWithCopyWarning: \n",
      "A value is trying to be set on a copy of a slice from a DataFrame.\n",
      "Try using .loc[row_indexer,col_indexer] = value instead\n",
      "\n",
      "See the caveats in the documentation: https://pandas.pydata.org/pandas-docs/stable/user_guide/indexing.html#returning-a-view-versus-a-copy\n",
      "  ts.loc[:, 'outlier'] = clf.predict(ts[['v']])\n",
      "C:\\Program Files\\ArcGIS\\Pro\\bin\\Python\\envs\\arcgeopy\\lib\\site-packages\\sklearn\\base.py:409: UserWarning: X does not have valid feature names, but IsolationForest was fitted with feature names\n",
      "  warnings.warn(\n",
      "C:\\Users\\jinsu.elhance\\AppData\\Local\\Temp\\ipykernel_16152\\2764186386.py:39: SettingWithCopyWarning: \n",
      "A value is trying to be set on a copy of a slice from a DataFrame.\n",
      "Try using .loc[row_indexer,col_indexer] = value instead\n",
      "\n",
      "See the caveats in the documentation: https://pandas.pydata.org/pandas-docs/stable/user_guide/indexing.html#returning-a-view-versus-a-copy\n",
      "  ts.loc[:, 'outlier'] = clf.predict(ts[['v']])\n"
     ]
    },
    {
     "name": "stdout",
     "output_type": "stream",
     "text": [
      "escondido1:Well Water Level xle/lev:15 outliers found\n",
      "[(0, 25827), (25828, 54023)]\n"
     ]
    },
    {
     "name": "stderr",
     "output_type": "stream",
     "text": [
      "C:\\Program Files\\ArcGIS\\Pro\\bin\\Python\\envs\\arcgeopy\\lib\\site-packages\\sklearn\\base.py:409: UserWarning: X does not have valid feature names, but IsolationForest was fitted with feature names\n",
      "  warnings.warn(\n",
      "C:\\Users\\jinsu.elhance\\AppData\\Local\\Temp\\ipykernel_16152\\2764186386.py:39: SettingWithCopyWarning: \n",
      "A value is trying to be set on a copy of a slice from a DataFrame.\n",
      "Try using .loc[row_indexer,col_indexer] = value instead\n",
      "\n",
      "See the caveats in the documentation: https://pandas.pydata.org/pandas-docs/stable/user_guide/indexing.html#returning-a-view-versus-a-copy\n",
      "  ts.loc[:, 'outlier'] = clf.predict(ts[['v']])\n",
      "C:\\Program Files\\ArcGIS\\Pro\\bin\\Python\\envs\\arcgeopy\\lib\\site-packages\\sklearn\\base.py:409: UserWarning: X does not have valid feature names, but IsolationForest was fitted with feature names\n",
      "  warnings.warn(\n",
      "C:\\Users\\jinsu.elhance\\AppData\\Local\\Temp\\ipykernel_16152\\2764186386.py:39: SettingWithCopyWarning: \n",
      "A value is trying to be set on a copy of a slice from a DataFrame.\n",
      "Try using .loc[row_indexer,col_indexer] = value instead\n",
      "\n",
      "See the caveats in the documentation: https://pandas.pydata.org/pandas-docs/stable/user_guide/indexing.html#returning-a-view-versus-a-copy\n",
      "  ts.loc[:, 'outlier'] = clf.predict(ts[['v']])\n"
     ]
    },
    {
     "name": "stdout",
     "output_type": "stream",
     "text": [
      "escondido1:Well Water Level xlsx:16 outliers found\n",
      "[(0, 22179), (22180, 30137)]\n"
     ]
    },
    {
     "name": "stderr",
     "output_type": "stream",
     "text": [
      "C:\\Program Files\\ArcGIS\\Pro\\bin\\Python\\envs\\arcgeopy\\lib\\site-packages\\sklearn\\base.py:409: UserWarning: X does not have valid feature names, but IsolationForest was fitted with feature names\n",
      "  warnings.warn(\n",
      "C:\\Users\\jinsu.elhance\\AppData\\Local\\Temp\\ipykernel_16152\\2764186386.py:39: SettingWithCopyWarning: \n",
      "A value is trying to be set on a copy of a slice from a DataFrame.\n",
      "Try using .loc[row_indexer,col_indexer] = value instead\n",
      "\n",
      "See the caveats in the documentation: https://pandas.pydata.org/pandas-docs/stable/user_guide/indexing.html#returning-a-view-versus-a-copy\n",
      "  ts.loc[:, 'outlier'] = clf.predict(ts[['v']])\n",
      "C:\\Program Files\\ArcGIS\\Pro\\bin\\Python\\envs\\arcgeopy\\lib\\site-packages\\sklearn\\base.py:409: UserWarning: X does not have valid feature names, but IsolationForest was fitted with feature names\n",
      "  warnings.warn(\n",
      "C:\\Users\\jinsu.elhance\\AppData\\Local\\Temp\\ipykernel_16152\\2764186386.py:39: SettingWithCopyWarning: \n",
      "A value is trying to be set on a copy of a slice from a DataFrame.\n",
      "Try using .loc[row_indexer,col_indexer] = value instead\n",
      "\n",
      "See the caveats in the documentation: https://pandas.pydata.org/pandas-docs/stable/user_guide/indexing.html#returning-a-view-versus-a-copy\n",
      "  ts.loc[:, 'outlier'] = clf.predict(ts[['v']])\n"
     ]
    },
    {
     "name": "stdout",
     "output_type": "stream",
     "text": [
      "escondido1:Well Water Temperature xle/lev:13 outliers found\n",
      "[(0, 25827), (25828, 54023)]\n"
     ]
    },
    {
     "name": "stderr",
     "output_type": "stream",
     "text": [
      "C:\\Program Files\\ArcGIS\\Pro\\bin\\Python\\envs\\arcgeopy\\lib\\site-packages\\sklearn\\base.py:409: UserWarning: X does not have valid feature names, but IsolationForest was fitted with feature names\n",
      "  warnings.warn(\n",
      "C:\\Users\\jinsu.elhance\\AppData\\Local\\Temp\\ipykernel_16152\\2764186386.py:39: SettingWithCopyWarning: \n",
      "A value is trying to be set on a copy of a slice from a DataFrame.\n",
      "Try using .loc[row_indexer,col_indexer] = value instead\n",
      "\n",
      "See the caveats in the documentation: https://pandas.pydata.org/pandas-docs/stable/user_guide/indexing.html#returning-a-view-versus-a-copy\n",
      "  ts.loc[:, 'outlier'] = clf.predict(ts[['v']])\n",
      "C:\\Program Files\\ArcGIS\\Pro\\bin\\Python\\envs\\arcgeopy\\lib\\site-packages\\sklearn\\base.py:409: UserWarning: X does not have valid feature names, but IsolationForest was fitted with feature names\n",
      "  warnings.warn(\n",
      "C:\\Users\\jinsu.elhance\\AppData\\Local\\Temp\\ipykernel_16152\\2764186386.py:39: SettingWithCopyWarning: \n",
      "A value is trying to be set on a copy of a slice from a DataFrame.\n",
      "Try using .loc[row_indexer,col_indexer] = value instead\n",
      "\n",
      "See the caveats in the documentation: https://pandas.pydata.org/pandas-docs/stable/user_guide/indexing.html#returning-a-view-versus-a-copy\n",
      "  ts.loc[:, 'outlier'] = clf.predict(ts[['v']])\n"
     ]
    },
    {
     "name": "stdout",
     "output_type": "stream",
     "text": [
      "escondido1:Well Water Temperature xlsx:26 outliers found\n",
      "[(0, 21714), (21715, 30269), (30270, 39962), (39963, 79943)]\n"
     ]
    },
    {
     "name": "stderr",
     "output_type": "stream",
     "text": [
      "C:\\Program Files\\ArcGIS\\Pro\\bin\\Python\\envs\\arcgeopy\\lib\\site-packages\\sklearn\\base.py:409: UserWarning: X does not have valid feature names, but IsolationForest was fitted with feature names\n",
      "  warnings.warn(\n",
      "C:\\Users\\jinsu.elhance\\AppData\\Local\\Temp\\ipykernel_16152\\2764186386.py:39: SettingWithCopyWarning: \n",
      "A value is trying to be set on a copy of a slice from a DataFrame.\n",
      "Try using .loc[row_indexer,col_indexer] = value instead\n",
      "\n",
      "See the caveats in the documentation: https://pandas.pydata.org/pandas-docs/stable/user_guide/indexing.html#returning-a-view-versus-a-copy\n",
      "  ts.loc[:, 'outlier'] = clf.predict(ts[['v']])\n",
      "C:\\Program Files\\ArcGIS\\Pro\\bin\\Python\\envs\\arcgeopy\\lib\\site-packages\\sklearn\\base.py:409: UserWarning: X does not have valid feature names, but IsolationForest was fitted with feature names\n",
      "  warnings.warn(\n",
      "C:\\Users\\jinsu.elhance\\AppData\\Local\\Temp\\ipykernel_16152\\2764186386.py:39: SettingWithCopyWarning: \n",
      "A value is trying to be set on a copy of a slice from a DataFrame.\n",
      "Try using .loc[row_indexer,col_indexer] = value instead\n",
      "\n",
      "See the caveats in the documentation: https://pandas.pydata.org/pandas-docs/stable/user_guide/indexing.html#returning-a-view-versus-a-copy\n",
      "  ts.loc[:, 'outlier'] = clf.predict(ts[['v']])\n",
      "C:\\Program Files\\ArcGIS\\Pro\\bin\\Python\\envs\\arcgeopy\\lib\\site-packages\\sklearn\\base.py:409: UserWarning: X does not have valid feature names, but IsolationForest was fitted with feature names\n",
      "  warnings.warn(\n",
      "C:\\Users\\jinsu.elhance\\AppData\\Local\\Temp\\ipykernel_16152\\2764186386.py:39: SettingWithCopyWarning: \n",
      "A value is trying to be set on a copy of a slice from a DataFrame.\n",
      "Try using .loc[row_indexer,col_indexer] = value instead\n",
      "\n",
      "See the caveats in the documentation: https://pandas.pydata.org/pandas-docs/stable/user_guide/indexing.html#returning-a-view-versus-a-copy\n",
      "  ts.loc[:, 'outlier'] = clf.predict(ts[['v']])\n",
      "C:\\Program Files\\ArcGIS\\Pro\\bin\\Python\\envs\\arcgeopy\\lib\\site-packages\\sklearn\\base.py:409: UserWarning: X does not have valid feature names, but IsolationForest was fitted with feature names\n",
      "  warnings.warn(\n",
      "C:\\Users\\jinsu.elhance\\AppData\\Local\\Temp\\ipykernel_16152\\2764186386.py:39: SettingWithCopyWarning: \n",
      "A value is trying to be set on a copy of a slice from a DataFrame.\n",
      "Try using .loc[row_indexer,col_indexer] = value instead\n",
      "\n",
      "See the caveats in the documentation: https://pandas.pydata.org/pandas-docs/stable/user_guide/indexing.html#returning-a-view-versus-a-copy\n",
      "  ts.loc[:, 'outlier'] = clf.predict(ts[['v']])\n"
     ]
    },
    {
     "name": "stdout",
     "output_type": "stream",
     "text": [
      "escondido3b:Well Water Level xle/lev:17784 outliers found\n",
      "[(0, 25362), (25363, 52790)]\n"
     ]
    },
    {
     "name": "stderr",
     "output_type": "stream",
     "text": [
      "C:\\Program Files\\ArcGIS\\Pro\\bin\\Python\\envs\\arcgeopy\\lib\\site-packages\\sklearn\\base.py:409: UserWarning: X does not have valid feature names, but IsolationForest was fitted with feature names\n",
      "  warnings.warn(\n",
      "C:\\Users\\jinsu.elhance\\AppData\\Local\\Temp\\ipykernel_16152\\2764186386.py:39: SettingWithCopyWarning: \n",
      "A value is trying to be set on a copy of a slice from a DataFrame.\n",
      "Try using .loc[row_indexer,col_indexer] = value instead\n",
      "\n",
      "See the caveats in the documentation: https://pandas.pydata.org/pandas-docs/stable/user_guide/indexing.html#returning-a-view-versus-a-copy\n",
      "  ts.loc[:, 'outlier'] = clf.predict(ts[['v']])\n",
      "C:\\Program Files\\ArcGIS\\Pro\\bin\\Python\\envs\\arcgeopy\\lib\\site-packages\\sklearn\\base.py:409: UserWarning: X does not have valid feature names, but IsolationForest was fitted with feature names\n",
      "  warnings.warn(\n",
      "C:\\Users\\jinsu.elhance\\AppData\\Local\\Temp\\ipykernel_16152\\2764186386.py:39: SettingWithCopyWarning: \n",
      "A value is trying to be set on a copy of a slice from a DataFrame.\n",
      "Try using .loc[row_indexer,col_indexer] = value instead\n",
      "\n",
      "See the caveats in the documentation: https://pandas.pydata.org/pandas-docs/stable/user_guide/indexing.html#returning-a-view-versus-a-copy\n",
      "  ts.loc[:, 'outlier'] = clf.predict(ts[['v']])\n"
     ]
    },
    {
     "name": "stdout",
     "output_type": "stream",
     "text": [
      "escondido3b:Well Water Level xlsx:16 outliers found\n",
      "[(0, 21714), (21715, 30269), (30270, 39962), (39963, 79943)]\n"
     ]
    },
    {
     "name": "stderr",
     "output_type": "stream",
     "text": [
      "C:\\Program Files\\ArcGIS\\Pro\\bin\\Python\\envs\\arcgeopy\\lib\\site-packages\\sklearn\\base.py:409: UserWarning: X does not have valid feature names, but IsolationForest was fitted with feature names\n",
      "  warnings.warn(\n",
      "C:\\Users\\jinsu.elhance\\AppData\\Local\\Temp\\ipykernel_16152\\2764186386.py:39: SettingWithCopyWarning: \n",
      "A value is trying to be set on a copy of a slice from a DataFrame.\n",
      "Try using .loc[row_indexer,col_indexer] = value instead\n",
      "\n",
      "See the caveats in the documentation: https://pandas.pydata.org/pandas-docs/stable/user_guide/indexing.html#returning-a-view-versus-a-copy\n",
      "  ts.loc[:, 'outlier'] = clf.predict(ts[['v']])\n",
      "C:\\Program Files\\ArcGIS\\Pro\\bin\\Python\\envs\\arcgeopy\\lib\\site-packages\\sklearn\\base.py:409: UserWarning: X does not have valid feature names, but IsolationForest was fitted with feature names\n",
      "  warnings.warn(\n",
      "C:\\Users\\jinsu.elhance\\AppData\\Local\\Temp\\ipykernel_16152\\2764186386.py:39: SettingWithCopyWarning: \n",
      "A value is trying to be set on a copy of a slice from a DataFrame.\n",
      "Try using .loc[row_indexer,col_indexer] = value instead\n",
      "\n",
      "See the caveats in the documentation: https://pandas.pydata.org/pandas-docs/stable/user_guide/indexing.html#returning-a-view-versus-a-copy\n",
      "  ts.loc[:, 'outlier'] = clf.predict(ts[['v']])\n",
      "C:\\Program Files\\ArcGIS\\Pro\\bin\\Python\\envs\\arcgeopy\\lib\\site-packages\\sklearn\\base.py:409: UserWarning: X does not have valid feature names, but IsolationForest was fitted with feature names\n",
      "  warnings.warn(\n",
      "C:\\Users\\jinsu.elhance\\AppData\\Local\\Temp\\ipykernel_16152\\2764186386.py:39: SettingWithCopyWarning: \n",
      "A value is trying to be set on a copy of a slice from a DataFrame.\n",
      "Try using .loc[row_indexer,col_indexer] = value instead\n",
      "\n",
      "See the caveats in the documentation: https://pandas.pydata.org/pandas-docs/stable/user_guide/indexing.html#returning-a-view-versus-a-copy\n",
      "  ts.loc[:, 'outlier'] = clf.predict(ts[['v']])\n",
      "C:\\Program Files\\ArcGIS\\Pro\\bin\\Python\\envs\\arcgeopy\\lib\\site-packages\\sklearn\\base.py:409: UserWarning: X does not have valid feature names, but IsolationForest was fitted with feature names\n",
      "  warnings.warn(\n",
      "C:\\Users\\jinsu.elhance\\AppData\\Local\\Temp\\ipykernel_16152\\2764186386.py:39: SettingWithCopyWarning: \n",
      "A value is trying to be set on a copy of a slice from a DataFrame.\n",
      "Try using .loc[row_indexer,col_indexer] = value instead\n",
      "\n",
      "See the caveats in the documentation: https://pandas.pydata.org/pandas-docs/stable/user_guide/indexing.html#returning-a-view-versus-a-copy\n",
      "  ts.loc[:, 'outlier'] = clf.predict(ts[['v']])\n"
     ]
    },
    {
     "name": "stdout",
     "output_type": "stream",
     "text": [
      "escondido3b:Well Water Temperature xle/lev:35 outliers found\n",
      "[(0, 25362), (25363, 52790)]\n"
     ]
    },
    {
     "name": "stderr",
     "output_type": "stream",
     "text": [
      "C:\\Program Files\\ArcGIS\\Pro\\bin\\Python\\envs\\arcgeopy\\lib\\site-packages\\sklearn\\base.py:409: UserWarning: X does not have valid feature names, but IsolationForest was fitted with feature names\n",
      "  warnings.warn(\n",
      "C:\\Users\\jinsu.elhance\\AppData\\Local\\Temp\\ipykernel_16152\\2764186386.py:39: SettingWithCopyWarning: \n",
      "A value is trying to be set on a copy of a slice from a DataFrame.\n",
      "Try using .loc[row_indexer,col_indexer] = value instead\n",
      "\n",
      "See the caveats in the documentation: https://pandas.pydata.org/pandas-docs/stable/user_guide/indexing.html#returning-a-view-versus-a-copy\n",
      "  ts.loc[:, 'outlier'] = clf.predict(ts[['v']])\n",
      "C:\\Program Files\\ArcGIS\\Pro\\bin\\Python\\envs\\arcgeopy\\lib\\site-packages\\sklearn\\base.py:409: UserWarning: X does not have valid feature names, but IsolationForest was fitted with feature names\n",
      "  warnings.warn(\n",
      "C:\\Users\\jinsu.elhance\\AppData\\Local\\Temp\\ipykernel_16152\\2764186386.py:39: SettingWithCopyWarning: \n",
      "A value is trying to be set on a copy of a slice from a DataFrame.\n",
      "Try using .loc[row_indexer,col_indexer] = value instead\n",
      "\n",
      "See the caveats in the documentation: https://pandas.pydata.org/pandas-docs/stable/user_guide/indexing.html#returning-a-view-versus-a-copy\n",
      "  ts.loc[:, 'outlier'] = clf.predict(ts[['v']])\n"
     ]
    },
    {
     "name": "stdout",
     "output_type": "stream",
     "text": [
      "escondido3b:Well Water Temperature xlsx:20 outliers found\n",
      "[(0, 21709), (21710, 30267), (30268, 38222)]\n"
     ]
    },
    {
     "name": "stderr",
     "output_type": "stream",
     "text": [
      "C:\\Program Files\\ArcGIS\\Pro\\bin\\Python\\envs\\arcgeopy\\lib\\site-packages\\sklearn\\base.py:409: UserWarning: X does not have valid feature names, but IsolationForest was fitted with feature names\n",
      "  warnings.warn(\n",
      "C:\\Users\\jinsu.elhance\\AppData\\Local\\Temp\\ipykernel_16152\\2764186386.py:39: SettingWithCopyWarning: \n",
      "A value is trying to be set on a copy of a slice from a DataFrame.\n",
      "Try using .loc[row_indexer,col_indexer] = value instead\n",
      "\n",
      "See the caveats in the documentation: https://pandas.pydata.org/pandas-docs/stable/user_guide/indexing.html#returning-a-view-versus-a-copy\n",
      "  ts.loc[:, 'outlier'] = clf.predict(ts[['v']])\n",
      "C:\\Program Files\\ArcGIS\\Pro\\bin\\Python\\envs\\arcgeopy\\lib\\site-packages\\sklearn\\base.py:409: UserWarning: X does not have valid feature names, but IsolationForest was fitted with feature names\n",
      "  warnings.warn(\n",
      "C:\\Users\\jinsu.elhance\\AppData\\Local\\Temp\\ipykernel_16152\\2764186386.py:39: SettingWithCopyWarning: \n",
      "A value is trying to be set on a copy of a slice from a DataFrame.\n",
      "Try using .loc[row_indexer,col_indexer] = value instead\n",
      "\n",
      "See the caveats in the documentation: https://pandas.pydata.org/pandas-docs/stable/user_guide/indexing.html#returning-a-view-versus-a-copy\n",
      "  ts.loc[:, 'outlier'] = clf.predict(ts[['v']])\n",
      "C:\\Program Files\\ArcGIS\\Pro\\bin\\Python\\envs\\arcgeopy\\lib\\site-packages\\sklearn\\base.py:409: UserWarning: X does not have valid feature names, but IsolationForest was fitted with feature names\n",
      "  warnings.warn(\n",
      "C:\\Users\\jinsu.elhance\\AppData\\Local\\Temp\\ipykernel_16152\\2764186386.py:39: SettingWithCopyWarning: \n",
      "A value is trying to be set on a copy of a slice from a DataFrame.\n",
      "Try using .loc[row_indexer,col_indexer] = value instead\n",
      "\n",
      "See the caveats in the documentation: https://pandas.pydata.org/pandas-docs/stable/user_guide/indexing.html#returning-a-view-versus-a-copy\n",
      "  ts.loc[:, 'outlier'] = clf.predict(ts[['v']])\n"
     ]
    },
    {
     "name": "stdout",
     "output_type": "stream",
     "text": [
      "escondido2:Well Water Level xle/lev:1 outliers found\n",
      "[(0, 42925), (42926, 47025)]\n"
     ]
    },
    {
     "name": "stderr",
     "output_type": "stream",
     "text": [
      "C:\\Program Files\\ArcGIS\\Pro\\bin\\Python\\envs\\arcgeopy\\lib\\site-packages\\sklearn\\base.py:409: UserWarning: X does not have valid feature names, but IsolationForest was fitted with feature names\n",
      "  warnings.warn(\n",
      "C:\\Users\\jinsu.elhance\\AppData\\Local\\Temp\\ipykernel_16152\\2764186386.py:39: SettingWithCopyWarning: \n",
      "A value is trying to be set on a copy of a slice from a DataFrame.\n",
      "Try using .loc[row_indexer,col_indexer] = value instead\n",
      "\n",
      "See the caveats in the documentation: https://pandas.pydata.org/pandas-docs/stable/user_guide/indexing.html#returning-a-view-versus-a-copy\n",
      "  ts.loc[:, 'outlier'] = clf.predict(ts[['v']])\n",
      "C:\\Program Files\\ArcGIS\\Pro\\bin\\Python\\envs\\arcgeopy\\lib\\site-packages\\sklearn\\base.py:409: UserWarning: X does not have valid feature names, but IsolationForest was fitted with feature names\n",
      "  warnings.warn(\n",
      "C:\\Users\\jinsu.elhance\\AppData\\Local\\Temp\\ipykernel_16152\\2764186386.py:39: SettingWithCopyWarning: \n",
      "A value is trying to be set on a copy of a slice from a DataFrame.\n",
      "Try using .loc[row_indexer,col_indexer] = value instead\n",
      "\n",
      "See the caveats in the documentation: https://pandas.pydata.org/pandas-docs/stable/user_guide/indexing.html#returning-a-view-versus-a-copy\n",
      "  ts.loc[:, 'outlier'] = clf.predict(ts[['v']])\n"
     ]
    },
    {
     "name": "stdout",
     "output_type": "stream",
     "text": [
      "escondido2:Well Water Level xlsx:5011 outliers found\n",
      "[(0, 21709), (21710, 30267), (30268, 38222)]\n"
     ]
    },
    {
     "name": "stderr",
     "output_type": "stream",
     "text": [
      "C:\\Program Files\\ArcGIS\\Pro\\bin\\Python\\envs\\arcgeopy\\lib\\site-packages\\sklearn\\base.py:409: UserWarning: X does not have valid feature names, but IsolationForest was fitted with feature names\n",
      "  warnings.warn(\n",
      "C:\\Users\\jinsu.elhance\\AppData\\Local\\Temp\\ipykernel_16152\\2764186386.py:39: SettingWithCopyWarning: \n",
      "A value is trying to be set on a copy of a slice from a DataFrame.\n",
      "Try using .loc[row_indexer,col_indexer] = value instead\n",
      "\n",
      "See the caveats in the documentation: https://pandas.pydata.org/pandas-docs/stable/user_guide/indexing.html#returning-a-view-versus-a-copy\n",
      "  ts.loc[:, 'outlier'] = clf.predict(ts[['v']])\n",
      "C:\\Program Files\\ArcGIS\\Pro\\bin\\Python\\envs\\arcgeopy\\lib\\site-packages\\sklearn\\base.py:409: UserWarning: X does not have valid feature names, but IsolationForest was fitted with feature names\n",
      "  warnings.warn(\n",
      "C:\\Users\\jinsu.elhance\\AppData\\Local\\Temp\\ipykernel_16152\\2764186386.py:39: SettingWithCopyWarning: \n",
      "A value is trying to be set on a copy of a slice from a DataFrame.\n",
      "Try using .loc[row_indexer,col_indexer] = value instead\n",
      "\n",
      "See the caveats in the documentation: https://pandas.pydata.org/pandas-docs/stable/user_guide/indexing.html#returning-a-view-versus-a-copy\n",
      "  ts.loc[:, 'outlier'] = clf.predict(ts[['v']])\n",
      "C:\\Program Files\\ArcGIS\\Pro\\bin\\Python\\envs\\arcgeopy\\lib\\site-packages\\sklearn\\base.py:409: UserWarning: X does not have valid feature names, but IsolationForest was fitted with feature names\n",
      "  warnings.warn(\n",
      "C:\\Users\\jinsu.elhance\\AppData\\Local\\Temp\\ipykernel_16152\\2764186386.py:39: SettingWithCopyWarning: \n",
      "A value is trying to be set on a copy of a slice from a DataFrame.\n",
      "Try using .loc[row_indexer,col_indexer] = value instead\n",
      "\n",
      "See the caveats in the documentation: https://pandas.pydata.org/pandas-docs/stable/user_guide/indexing.html#returning-a-view-versus-a-copy\n",
      "  ts.loc[:, 'outlier'] = clf.predict(ts[['v']])\n"
     ]
    },
    {
     "name": "stdout",
     "output_type": "stream",
     "text": [
      "escondido2:Well Water Temperature xle/lev:9 outliers found\n",
      "[(0, 42925), (42926, 47025)]\n"
     ]
    },
    {
     "name": "stderr",
     "output_type": "stream",
     "text": [
      "C:\\Program Files\\ArcGIS\\Pro\\bin\\Python\\envs\\arcgeopy\\lib\\site-packages\\sklearn\\base.py:409: UserWarning: X does not have valid feature names, but IsolationForest was fitted with feature names\n",
      "  warnings.warn(\n",
      "C:\\Users\\jinsu.elhance\\AppData\\Local\\Temp\\ipykernel_16152\\2764186386.py:39: SettingWithCopyWarning: \n",
      "A value is trying to be set on a copy of a slice from a DataFrame.\n",
      "Try using .loc[row_indexer,col_indexer] = value instead\n",
      "\n",
      "See the caveats in the documentation: https://pandas.pydata.org/pandas-docs/stable/user_guide/indexing.html#returning-a-view-versus-a-copy\n",
      "  ts.loc[:, 'outlier'] = clf.predict(ts[['v']])\n",
      "C:\\Program Files\\ArcGIS\\Pro\\bin\\Python\\envs\\arcgeopy\\lib\\site-packages\\sklearn\\base.py:409: UserWarning: X does not have valid feature names, but IsolationForest was fitted with feature names\n",
      "  warnings.warn(\n",
      "C:\\Users\\jinsu.elhance\\AppData\\Local\\Temp\\ipykernel_16152\\2764186386.py:39: SettingWithCopyWarning: \n",
      "A value is trying to be set on a copy of a slice from a DataFrame.\n",
      "Try using .loc[row_indexer,col_indexer] = value instead\n",
      "\n",
      "See the caveats in the documentation: https://pandas.pydata.org/pandas-docs/stable/user_guide/indexing.html#returning-a-view-versus-a-copy\n",
      "  ts.loc[:, 'outlier'] = clf.predict(ts[['v']])\n"
     ]
    },
    {
     "name": "stdout",
     "output_type": "stream",
     "text": [
      "escondido2:Well Water Temperature xlsx:5003 outliers found\n",
      "[(0, 21503), (21504, 61495)]\n"
     ]
    },
    {
     "name": "stderr",
     "output_type": "stream",
     "text": [
      "C:\\Program Files\\ArcGIS\\Pro\\bin\\Python\\envs\\arcgeopy\\lib\\site-packages\\sklearn\\base.py:409: UserWarning: X does not have valid feature names, but IsolationForest was fitted with feature names\n",
      "  warnings.warn(\n",
      "C:\\Users\\jinsu.elhance\\AppData\\Local\\Temp\\ipykernel_16152\\2764186386.py:39: SettingWithCopyWarning: \n",
      "A value is trying to be set on a copy of a slice from a DataFrame.\n",
      "Try using .loc[row_indexer,col_indexer] = value instead\n",
      "\n",
      "See the caveats in the documentation: https://pandas.pydata.org/pandas-docs/stable/user_guide/indexing.html#returning-a-view-versus-a-copy\n",
      "  ts.loc[:, 'outlier'] = clf.predict(ts[['v']])\n",
      "C:\\Program Files\\ArcGIS\\Pro\\bin\\Python\\envs\\arcgeopy\\lib\\site-packages\\sklearn\\base.py:409: UserWarning: X does not have valid feature names, but IsolationForest was fitted with feature names\n",
      "  warnings.warn(\n",
      "C:\\Users\\jinsu.elhance\\AppData\\Local\\Temp\\ipykernel_16152\\2764186386.py:39: SettingWithCopyWarning: \n",
      "A value is trying to be set on a copy of a slice from a DataFrame.\n",
      "Try using .loc[row_indexer,col_indexer] = value instead\n",
      "\n",
      "See the caveats in the documentation: https://pandas.pydata.org/pandas-docs/stable/user_guide/indexing.html#returning-a-view-versus-a-copy\n",
      "  ts.loc[:, 'outlier'] = clf.predict(ts[['v']])\n"
     ]
    },
    {
     "name": "stdout",
     "output_type": "stream",
     "text": [
      "[(0, 25151), (25152, 53348)]\n"
     ]
    },
    {
     "name": "stderr",
     "output_type": "stream",
     "text": [
      "C:\\Program Files\\ArcGIS\\Pro\\bin\\Python\\envs\\arcgeopy\\lib\\site-packages\\sklearn\\base.py:409: UserWarning: X does not have valid feature names, but IsolationForest was fitted with feature names\n",
      "  warnings.warn(\n",
      "C:\\Users\\jinsu.elhance\\AppData\\Local\\Temp\\ipykernel_16152\\2764186386.py:39: SettingWithCopyWarning: \n",
      "A value is trying to be set on a copy of a slice from a DataFrame.\n",
      "Try using .loc[row_indexer,col_indexer] = value instead\n",
      "\n",
      "See the caveats in the documentation: https://pandas.pydata.org/pandas-docs/stable/user_guide/indexing.html#returning-a-view-versus-a-copy\n",
      "  ts.loc[:, 'outlier'] = clf.predict(ts[['v']])\n",
      "C:\\Program Files\\ArcGIS\\Pro\\bin\\Python\\envs\\arcgeopy\\lib\\site-packages\\sklearn\\base.py:409: UserWarning: X does not have valid feature names, but IsolationForest was fitted with feature names\n",
      "  warnings.warn(\n",
      "C:\\Users\\jinsu.elhance\\AppData\\Local\\Temp\\ipykernel_16152\\2764186386.py:39: SettingWithCopyWarning: \n",
      "A value is trying to be set on a copy of a slice from a DataFrame.\n",
      "Try using .loc[row_indexer,col_indexer] = value instead\n",
      "\n",
      "See the caveats in the documentation: https://pandas.pydata.org/pandas-docs/stable/user_guide/indexing.html#returning-a-view-versus-a-copy\n",
      "  ts.loc[:, 'outlier'] = clf.predict(ts[['v']])\n"
     ]
    },
    {
     "name": "stdout",
     "output_type": "stream",
     "text": [
      "escondido4:Well Water Level xlsx:8 outliers found\n",
      "[(0, 21503), (21504, 61495)]\n"
     ]
    },
    {
     "name": "stderr",
     "output_type": "stream",
     "text": [
      "C:\\Program Files\\ArcGIS\\Pro\\bin\\Python\\envs\\arcgeopy\\lib\\site-packages\\sklearn\\base.py:409: UserWarning: X does not have valid feature names, but IsolationForest was fitted with feature names\n",
      "  warnings.warn(\n",
      "C:\\Users\\jinsu.elhance\\AppData\\Local\\Temp\\ipykernel_16152\\2764186386.py:39: SettingWithCopyWarning: \n",
      "A value is trying to be set on a copy of a slice from a DataFrame.\n",
      "Try using .loc[row_indexer,col_indexer] = value instead\n",
      "\n",
      "See the caveats in the documentation: https://pandas.pydata.org/pandas-docs/stable/user_guide/indexing.html#returning-a-view-versus-a-copy\n",
      "  ts.loc[:, 'outlier'] = clf.predict(ts[['v']])\n",
      "C:\\Program Files\\ArcGIS\\Pro\\bin\\Python\\envs\\arcgeopy\\lib\\site-packages\\sklearn\\base.py:409: UserWarning: X does not have valid feature names, but IsolationForest was fitted with feature names\n",
      "  warnings.warn(\n",
      "C:\\Users\\jinsu.elhance\\AppData\\Local\\Temp\\ipykernel_16152\\2764186386.py:39: SettingWithCopyWarning: \n",
      "A value is trying to be set on a copy of a slice from a DataFrame.\n",
      "Try using .loc[row_indexer,col_indexer] = value instead\n",
      "\n",
      "See the caveats in the documentation: https://pandas.pydata.org/pandas-docs/stable/user_guide/indexing.html#returning-a-view-versus-a-copy\n",
      "  ts.loc[:, 'outlier'] = clf.predict(ts[['v']])\n"
     ]
    },
    {
     "name": "stdout",
     "output_type": "stream",
     "text": [
      "escondido4:Well Water Temperature xle/lev:27 outliers found\n",
      "[(0, 25151), (25152, 53348)]\n"
     ]
    },
    {
     "name": "stderr",
     "output_type": "stream",
     "text": [
      "C:\\Program Files\\ArcGIS\\Pro\\bin\\Python\\envs\\arcgeopy\\lib\\site-packages\\sklearn\\base.py:409: UserWarning: X does not have valid feature names, but IsolationForest was fitted with feature names\n",
      "  warnings.warn(\n",
      "C:\\Users\\jinsu.elhance\\AppData\\Local\\Temp\\ipykernel_16152\\2764186386.py:39: SettingWithCopyWarning: \n",
      "A value is trying to be set on a copy of a slice from a DataFrame.\n",
      "Try using .loc[row_indexer,col_indexer] = value instead\n",
      "\n",
      "See the caveats in the documentation: https://pandas.pydata.org/pandas-docs/stable/user_guide/indexing.html#returning-a-view-versus-a-copy\n",
      "  ts.loc[:, 'outlier'] = clf.predict(ts[['v']])\n",
      "C:\\Program Files\\ArcGIS\\Pro\\bin\\Python\\envs\\arcgeopy\\lib\\site-packages\\sklearn\\base.py:409: UserWarning: X does not have valid feature names, but IsolationForest was fitted with feature names\n",
      "  warnings.warn(\n",
      "C:\\Users\\jinsu.elhance\\AppData\\Local\\Temp\\ipykernel_16152\\2764186386.py:39: SettingWithCopyWarning: \n",
      "A value is trying to be set on a copy of a slice from a DataFrame.\n",
      "Try using .loc[row_indexer,col_indexer] = value instead\n",
      "\n",
      "See the caveats in the documentation: https://pandas.pydata.org/pandas-docs/stable/user_guide/indexing.html#returning-a-view-versus-a-copy\n",
      "  ts.loc[:, 'outlier'] = clf.predict(ts[['v']])\n"
     ]
    },
    {
     "name": "stdout",
     "output_type": "stream",
     "text": [
      "escondido4:Well Water Temperature xlsx:23 outliers found\n",
      "[(0, 8561), (8562, 16322), (16323, 56318)]\n"
     ]
    },
    {
     "name": "stderr",
     "output_type": "stream",
     "text": [
      "C:\\Program Files\\ArcGIS\\Pro\\bin\\Python\\envs\\arcgeopy\\lib\\site-packages\\sklearn\\base.py:409: UserWarning: X does not have valid feature names, but IsolationForest was fitted with feature names\n",
      "  warnings.warn(\n",
      "C:\\Users\\jinsu.elhance\\AppData\\Local\\Temp\\ipykernel_16152\\2764186386.py:39: SettingWithCopyWarning: \n",
      "A value is trying to be set on a copy of a slice from a DataFrame.\n",
      "Try using .loc[row_indexer,col_indexer] = value instead\n",
      "\n",
      "See the caveats in the documentation: https://pandas.pydata.org/pandas-docs/stable/user_guide/indexing.html#returning-a-view-versus-a-copy\n",
      "  ts.loc[:, 'outlier'] = clf.predict(ts[['v']])\n",
      "C:\\Program Files\\ArcGIS\\Pro\\bin\\Python\\envs\\arcgeopy\\lib\\site-packages\\sklearn\\base.py:409: UserWarning: X does not have valid feature names, but IsolationForest was fitted with feature names\n",
      "  warnings.warn(\n",
      "C:\\Users\\jinsu.elhance\\AppData\\Local\\Temp\\ipykernel_16152\\2764186386.py:39: SettingWithCopyWarning: \n",
      "A value is trying to be set on a copy of a slice from a DataFrame.\n",
      "Try using .loc[row_indexer,col_indexer] = value instead\n",
      "\n",
      "See the caveats in the documentation: https://pandas.pydata.org/pandas-docs/stable/user_guide/indexing.html#returning-a-view-versus-a-copy\n",
      "  ts.loc[:, 'outlier'] = clf.predict(ts[['v']])\n",
      "C:\\Program Files\\ArcGIS\\Pro\\bin\\Python\\envs\\arcgeopy\\lib\\site-packages\\sklearn\\base.py:409: UserWarning: X does not have valid feature names, but IsolationForest was fitted with feature names\n",
      "  warnings.warn(\n",
      "C:\\Users\\jinsu.elhance\\AppData\\Local\\Temp\\ipykernel_16152\\2764186386.py:39: SettingWithCopyWarning: \n",
      "A value is trying to be set on a copy of a slice from a DataFrame.\n",
      "Try using .loc[row_indexer,col_indexer] = value instead\n",
      "\n",
      "See the caveats in the documentation: https://pandas.pydata.org/pandas-docs/stable/user_guide/indexing.html#returning-a-view-versus-a-copy\n",
      "  ts.loc[:, 'outlier'] = clf.predict(ts[['v']])\n"
     ]
    },
    {
     "name": "stdout",
     "output_type": "stream",
     "text": [
      "escondido5:Well Water Level xle/lev:4 outliers found\n",
      "[(0, 8561), (8562, 16322), (16323, 56318)]\n"
     ]
    },
    {
     "name": "stderr",
     "output_type": "stream",
     "text": [
      "C:\\Program Files\\ArcGIS\\Pro\\bin\\Python\\envs\\arcgeopy\\lib\\site-packages\\sklearn\\base.py:409: UserWarning: X does not have valid feature names, but IsolationForest was fitted with feature names\n",
      "  warnings.warn(\n",
      "C:\\Users\\jinsu.elhance\\AppData\\Local\\Temp\\ipykernel_16152\\2764186386.py:39: SettingWithCopyWarning: \n",
      "A value is trying to be set on a copy of a slice from a DataFrame.\n",
      "Try using .loc[row_indexer,col_indexer] = value instead\n",
      "\n",
      "See the caveats in the documentation: https://pandas.pydata.org/pandas-docs/stable/user_guide/indexing.html#returning-a-view-versus-a-copy\n",
      "  ts.loc[:, 'outlier'] = clf.predict(ts[['v']])\n",
      "C:\\Program Files\\ArcGIS\\Pro\\bin\\Python\\envs\\arcgeopy\\lib\\site-packages\\sklearn\\base.py:409: UserWarning: X does not have valid feature names, but IsolationForest was fitted with feature names\n",
      "  warnings.warn(\n",
      "C:\\Users\\jinsu.elhance\\AppData\\Local\\Temp\\ipykernel_16152\\2764186386.py:39: SettingWithCopyWarning: \n",
      "A value is trying to be set on a copy of a slice from a DataFrame.\n",
      "Try using .loc[row_indexer,col_indexer] = value instead\n",
      "\n",
      "See the caveats in the documentation: https://pandas.pydata.org/pandas-docs/stable/user_guide/indexing.html#returning-a-view-versus-a-copy\n",
      "  ts.loc[:, 'outlier'] = clf.predict(ts[['v']])\n",
      "C:\\Program Files\\ArcGIS\\Pro\\bin\\Python\\envs\\arcgeopy\\lib\\site-packages\\sklearn\\base.py:409: UserWarning: X does not have valid feature names, but IsolationForest was fitted with feature names\n",
      "  warnings.warn(\n",
      "C:\\Users\\jinsu.elhance\\AppData\\Local\\Temp\\ipykernel_16152\\2764186386.py:39: SettingWithCopyWarning: \n",
      "A value is trying to be set on a copy of a slice from a DataFrame.\n",
      "Try using .loc[row_indexer,col_indexer] = value instead\n",
      "\n",
      "See the caveats in the documentation: https://pandas.pydata.org/pandas-docs/stable/user_guide/indexing.html#returning-a-view-versus-a-copy\n",
      "  ts.loc[:, 'outlier'] = clf.predict(ts[['v']])\n"
     ]
    },
    {
     "name": "stdout",
     "output_type": "stream",
     "text": [
      "escondido5:Well Water Temperature xle/lev:25 outliers found\n",
      "[(0, 19007), (19008, 27469), (27470, 37249)]\n"
     ]
    },
    {
     "name": "stderr",
     "output_type": "stream",
     "text": [
      "C:\\Program Files\\ArcGIS\\Pro\\bin\\Python\\envs\\arcgeopy\\lib\\site-packages\\sklearn\\base.py:409: UserWarning: X does not have valid feature names, but IsolationForest was fitted with feature names\n",
      "  warnings.warn(\n",
      "C:\\Users\\jinsu.elhance\\AppData\\Local\\Temp\\ipykernel_16152\\2764186386.py:39: SettingWithCopyWarning: \n",
      "A value is trying to be set on a copy of a slice from a DataFrame.\n",
      "Try using .loc[row_indexer,col_indexer] = value instead\n",
      "\n",
      "See the caveats in the documentation: https://pandas.pydata.org/pandas-docs/stable/user_guide/indexing.html#returning-a-view-versus-a-copy\n",
      "  ts.loc[:, 'outlier'] = clf.predict(ts[['v']])\n",
      "C:\\Program Files\\ArcGIS\\Pro\\bin\\Python\\envs\\arcgeopy\\lib\\site-packages\\sklearn\\base.py:409: UserWarning: X does not have valid feature names, but IsolationForest was fitted with feature names\n",
      "  warnings.warn(\n",
      "C:\\Users\\jinsu.elhance\\AppData\\Local\\Temp\\ipykernel_16152\\2764186386.py:39: SettingWithCopyWarning: \n",
      "A value is trying to be set on a copy of a slice from a DataFrame.\n",
      "Try using .loc[row_indexer,col_indexer] = value instead\n",
      "\n",
      "See the caveats in the documentation: https://pandas.pydata.org/pandas-docs/stable/user_guide/indexing.html#returning-a-view-versus-a-copy\n",
      "  ts.loc[:, 'outlier'] = clf.predict(ts[['v']])\n",
      "C:\\Program Files\\ArcGIS\\Pro\\bin\\Python\\envs\\arcgeopy\\lib\\site-packages\\sklearn\\base.py:409: UserWarning: X does not have valid feature names, but IsolationForest was fitted with feature names\n",
      "  warnings.warn(\n",
      "C:\\Users\\jinsu.elhance\\AppData\\Local\\Temp\\ipykernel_16152\\2764186386.py:39: SettingWithCopyWarning: \n",
      "A value is trying to be set on a copy of a slice from a DataFrame.\n",
      "Try using .loc[row_indexer,col_indexer] = value instead\n",
      "\n",
      "See the caveats in the documentation: https://pandas.pydata.org/pandas-docs/stable/user_guide/indexing.html#returning-a-view-versus-a-copy\n",
      "  ts.loc[:, 'outlier'] = clf.predict(ts[['v']])\n"
     ]
    },
    {
     "name": "stdout",
     "output_type": "stream",
     "text": [
      "lowerjalamavaqueros:Well Water Level xle/lev:15 outliers found\n",
      "[(0, 19007), (19008, 23105)]\n"
     ]
    },
    {
     "name": "stderr",
     "output_type": "stream",
     "text": [
      "C:\\Program Files\\ArcGIS\\Pro\\bin\\Python\\envs\\arcgeopy\\lib\\site-packages\\sklearn\\base.py:409: UserWarning: X does not have valid feature names, but IsolationForest was fitted with feature names\n",
      "  warnings.warn(\n",
      "C:\\Users\\jinsu.elhance\\AppData\\Local\\Temp\\ipykernel_16152\\2764186386.py:39: SettingWithCopyWarning: \n",
      "A value is trying to be set on a copy of a slice from a DataFrame.\n",
      "Try using .loc[row_indexer,col_indexer] = value instead\n",
      "\n",
      "See the caveats in the documentation: https://pandas.pydata.org/pandas-docs/stable/user_guide/indexing.html#returning-a-view-versus-a-copy\n",
      "  ts.loc[:, 'outlier'] = clf.predict(ts[['v']])\n",
      "C:\\Program Files\\ArcGIS\\Pro\\bin\\Python\\envs\\arcgeopy\\lib\\site-packages\\sklearn\\base.py:409: UserWarning: X does not have valid feature names, but IsolationForest was fitted with feature names\n",
      "  warnings.warn(\n",
      "C:\\Users\\jinsu.elhance\\AppData\\Local\\Temp\\ipykernel_16152\\2764186386.py:39: SettingWithCopyWarning: \n",
      "A value is trying to be set on a copy of a slice from a DataFrame.\n",
      "Try using .loc[row_indexer,col_indexer] = value instead\n",
      "\n",
      "See the caveats in the documentation: https://pandas.pydata.org/pandas-docs/stable/user_guide/indexing.html#returning-a-view-versus-a-copy\n",
      "  ts.loc[:, 'outlier'] = clf.predict(ts[['v']])\n"
     ]
    },
    {
     "name": "stdout",
     "output_type": "stream",
     "text": [
      "lowerjalamavaqueros:Well Water Level xlsx:11 outliers found\n",
      "[(0, 19007), (19008, 27469), (27470, 37249)]\n"
     ]
    },
    {
     "name": "stderr",
     "output_type": "stream",
     "text": [
      "C:\\Program Files\\ArcGIS\\Pro\\bin\\Python\\envs\\arcgeopy\\lib\\site-packages\\sklearn\\base.py:409: UserWarning: X does not have valid feature names, but IsolationForest was fitted with feature names\n",
      "  warnings.warn(\n",
      "C:\\Users\\jinsu.elhance\\AppData\\Local\\Temp\\ipykernel_16152\\2764186386.py:39: SettingWithCopyWarning: \n",
      "A value is trying to be set on a copy of a slice from a DataFrame.\n",
      "Try using .loc[row_indexer,col_indexer] = value instead\n",
      "\n",
      "See the caveats in the documentation: https://pandas.pydata.org/pandas-docs/stable/user_guide/indexing.html#returning-a-view-versus-a-copy\n",
      "  ts.loc[:, 'outlier'] = clf.predict(ts[['v']])\n",
      "C:\\Program Files\\ArcGIS\\Pro\\bin\\Python\\envs\\arcgeopy\\lib\\site-packages\\sklearn\\base.py:409: UserWarning: X does not have valid feature names, but IsolationForest was fitted with feature names\n",
      "  warnings.warn(\n",
      "C:\\Users\\jinsu.elhance\\AppData\\Local\\Temp\\ipykernel_16152\\2764186386.py:39: SettingWithCopyWarning: \n",
      "A value is trying to be set on a copy of a slice from a DataFrame.\n",
      "Try using .loc[row_indexer,col_indexer] = value instead\n",
      "\n",
      "See the caveats in the documentation: https://pandas.pydata.org/pandas-docs/stable/user_guide/indexing.html#returning-a-view-versus-a-copy\n",
      "  ts.loc[:, 'outlier'] = clf.predict(ts[['v']])\n",
      "C:\\Program Files\\ArcGIS\\Pro\\bin\\Python\\envs\\arcgeopy\\lib\\site-packages\\sklearn\\base.py:409: UserWarning: X does not have valid feature names, but IsolationForest was fitted with feature names\n",
      "  warnings.warn(\n",
      "C:\\Users\\jinsu.elhance\\AppData\\Local\\Temp\\ipykernel_16152\\2764186386.py:39: SettingWithCopyWarning: \n",
      "A value is trying to be set on a copy of a slice from a DataFrame.\n",
      "Try using .loc[row_indexer,col_indexer] = value instead\n",
      "\n",
      "See the caveats in the documentation: https://pandas.pydata.org/pandas-docs/stable/user_guide/indexing.html#returning-a-view-versus-a-copy\n",
      "  ts.loc[:, 'outlier'] = clf.predict(ts[['v']])\n"
     ]
    },
    {
     "name": "stdout",
     "output_type": "stream",
     "text": [
      "lowerjalamavaqueros:Well Water Temperature xle/lev:13 outliers found\n",
      "[(0, 19007), (19008, 23105)]\n"
     ]
    },
    {
     "name": "stderr",
     "output_type": "stream",
     "text": [
      "C:\\Program Files\\ArcGIS\\Pro\\bin\\Python\\envs\\arcgeopy\\lib\\site-packages\\sklearn\\base.py:409: UserWarning: X does not have valid feature names, but IsolationForest was fitted with feature names\n",
      "  warnings.warn(\n",
      "C:\\Users\\jinsu.elhance\\AppData\\Local\\Temp\\ipykernel_16152\\2764186386.py:39: SettingWithCopyWarning: \n",
      "A value is trying to be set on a copy of a slice from a DataFrame.\n",
      "Try using .loc[row_indexer,col_indexer] = value instead\n",
      "\n",
      "See the caveats in the documentation: https://pandas.pydata.org/pandas-docs/stable/user_guide/indexing.html#returning-a-view-versus-a-copy\n",
      "  ts.loc[:, 'outlier'] = clf.predict(ts[['v']])\n",
      "C:\\Program Files\\ArcGIS\\Pro\\bin\\Python\\envs\\arcgeopy\\lib\\site-packages\\sklearn\\base.py:409: UserWarning: X does not have valid feature names, but IsolationForest was fitted with feature names\n",
      "  warnings.warn(\n",
      "C:\\Users\\jinsu.elhance\\AppData\\Local\\Temp\\ipykernel_16152\\2764186386.py:39: SettingWithCopyWarning: \n",
      "A value is trying to be set on a copy of a slice from a DataFrame.\n",
      "Try using .loc[row_indexer,col_indexer] = value instead\n",
      "\n",
      "See the caveats in the documentation: https://pandas.pydata.org/pandas-docs/stable/user_guide/indexing.html#returning-a-view-versus-a-copy\n",
      "  ts.loc[:, 'outlier'] = clf.predict(ts[['v']])\n"
     ]
    },
    {
     "name": "stdout",
     "output_type": "stream",
     "text": [
      "lowerjalamavaqueros:Well Water Temperature xlsx:7 outliers found\n",
      "[(0, 22279), (22280, 47623), (47624, 93498)]\n"
     ]
    },
    {
     "name": "stderr",
     "output_type": "stream",
     "text": [
      "C:\\Program Files\\ArcGIS\\Pro\\bin\\Python\\envs\\arcgeopy\\lib\\site-packages\\sklearn\\base.py:409: UserWarning: X does not have valid feature names, but IsolationForest was fitted with feature names\n",
      "  warnings.warn(\n",
      "C:\\Users\\jinsu.elhance\\AppData\\Local\\Temp\\ipykernel_16152\\2764186386.py:39: SettingWithCopyWarning: \n",
      "A value is trying to be set on a copy of a slice from a DataFrame.\n",
      "Try using .loc[row_indexer,col_indexer] = value instead\n",
      "\n",
      "See the caveats in the documentation: https://pandas.pydata.org/pandas-docs/stable/user_guide/indexing.html#returning-a-view-versus-a-copy\n",
      "  ts.loc[:, 'outlier'] = clf.predict(ts[['v']])\n",
      "C:\\Program Files\\ArcGIS\\Pro\\bin\\Python\\envs\\arcgeopy\\lib\\site-packages\\sklearn\\base.py:409: UserWarning: X does not have valid feature names, but IsolationForest was fitted with feature names\n",
      "  warnings.warn(\n",
      "C:\\Users\\jinsu.elhance\\AppData\\Local\\Temp\\ipykernel_16152\\2764186386.py:39: SettingWithCopyWarning: \n",
      "A value is trying to be set on a copy of a slice from a DataFrame.\n",
      "Try using .loc[row_indexer,col_indexer] = value instead\n",
      "\n",
      "See the caveats in the documentation: https://pandas.pydata.org/pandas-docs/stable/user_guide/indexing.html#returning-a-view-versus-a-copy\n",
      "  ts.loc[:, 'outlier'] = clf.predict(ts[['v']])\n",
      "C:\\Program Files\\ArcGIS\\Pro\\bin\\Python\\envs\\arcgeopy\\lib\\site-packages\\sklearn\\base.py:409: UserWarning: X does not have valid feature names, but IsolationForest was fitted with feature names\n",
      "  warnings.warn(\n",
      "C:\\Users\\jinsu.elhance\\AppData\\Local\\Temp\\ipykernel_16152\\2764186386.py:39: SettingWithCopyWarning: \n",
      "A value is trying to be set on a copy of a slice from a DataFrame.\n",
      "Try using .loc[row_indexer,col_indexer] = value instead\n",
      "\n",
      "See the caveats in the documentation: https://pandas.pydata.org/pandas-docs/stable/user_guide/indexing.html#returning-a-view-versus-a-copy\n",
      "  ts.loc[:, 'outlier'] = clf.predict(ts[['v']])\n"
     ]
    },
    {
     "name": "stdout",
     "output_type": "stream",
     "text": [
      "oaks2:Well Water Level xle/lev:10 outliers found\n",
      "[(0, 25927), (25928, 53953)]\n"
     ]
    },
    {
     "name": "stderr",
     "output_type": "stream",
     "text": [
      "C:\\Program Files\\ArcGIS\\Pro\\bin\\Python\\envs\\arcgeopy\\lib\\site-packages\\sklearn\\base.py:409: UserWarning: X does not have valid feature names, but IsolationForest was fitted with feature names\n",
      "  warnings.warn(\n",
      "C:\\Users\\jinsu.elhance\\AppData\\Local\\Temp\\ipykernel_16152\\2764186386.py:39: SettingWithCopyWarning: \n",
      "A value is trying to be set on a copy of a slice from a DataFrame.\n",
      "Try using .loc[row_indexer,col_indexer] = value instead\n",
      "\n",
      "See the caveats in the documentation: https://pandas.pydata.org/pandas-docs/stable/user_guide/indexing.html#returning-a-view-versus-a-copy\n",
      "  ts.loc[:, 'outlier'] = clf.predict(ts[['v']])\n",
      "C:\\Program Files\\ArcGIS\\Pro\\bin\\Python\\envs\\arcgeopy\\lib\\site-packages\\sklearn\\base.py:409: UserWarning: X does not have valid feature names, but IsolationForest was fitted with feature names\n",
      "  warnings.warn(\n",
      "C:\\Users\\jinsu.elhance\\AppData\\Local\\Temp\\ipykernel_16152\\2764186386.py:39: SettingWithCopyWarning: \n",
      "A value is trying to be set on a copy of a slice from a DataFrame.\n",
      "Try using .loc[row_indexer,col_indexer] = value instead\n",
      "\n",
      "See the caveats in the documentation: https://pandas.pydata.org/pandas-docs/stable/user_guide/indexing.html#returning-a-view-versus-a-copy\n",
      "  ts.loc[:, 'outlier'] = clf.predict(ts[['v']])\n"
     ]
    },
    {
     "name": "stdout",
     "output_type": "stream",
     "text": [
      "oaks2:Well Water Level xlsx:20 outliers found\n",
      "[(0, 22279), (22280, 47623), (47624, 93498)]\n"
     ]
    },
    {
     "name": "stderr",
     "output_type": "stream",
     "text": [
      "C:\\Program Files\\ArcGIS\\Pro\\bin\\Python\\envs\\arcgeopy\\lib\\site-packages\\sklearn\\base.py:409: UserWarning: X does not have valid feature names, but IsolationForest was fitted with feature names\n",
      "  warnings.warn(\n",
      "C:\\Users\\jinsu.elhance\\AppData\\Local\\Temp\\ipykernel_16152\\2764186386.py:39: SettingWithCopyWarning: \n",
      "A value is trying to be set on a copy of a slice from a DataFrame.\n",
      "Try using .loc[row_indexer,col_indexer] = value instead\n",
      "\n",
      "See the caveats in the documentation: https://pandas.pydata.org/pandas-docs/stable/user_guide/indexing.html#returning-a-view-versus-a-copy\n",
      "  ts.loc[:, 'outlier'] = clf.predict(ts[['v']])\n",
      "C:\\Program Files\\ArcGIS\\Pro\\bin\\Python\\envs\\arcgeopy\\lib\\site-packages\\sklearn\\base.py:409: UserWarning: X does not have valid feature names, but IsolationForest was fitted with feature names\n",
      "  warnings.warn(\n",
      "C:\\Users\\jinsu.elhance\\AppData\\Local\\Temp\\ipykernel_16152\\2764186386.py:39: SettingWithCopyWarning: \n",
      "A value is trying to be set on a copy of a slice from a DataFrame.\n",
      "Try using .loc[row_indexer,col_indexer] = value instead\n",
      "\n",
      "See the caveats in the documentation: https://pandas.pydata.org/pandas-docs/stable/user_guide/indexing.html#returning-a-view-versus-a-copy\n",
      "  ts.loc[:, 'outlier'] = clf.predict(ts[['v']])\n",
      "C:\\Program Files\\ArcGIS\\Pro\\bin\\Python\\envs\\arcgeopy\\lib\\site-packages\\sklearn\\base.py:409: UserWarning: X does not have valid feature names, but IsolationForest was fitted with feature names\n",
      "  warnings.warn(\n",
      "C:\\Users\\jinsu.elhance\\AppData\\Local\\Temp\\ipykernel_16152\\2764186386.py:39: SettingWithCopyWarning: \n",
      "A value is trying to be set on a copy of a slice from a DataFrame.\n",
      "Try using .loc[row_indexer,col_indexer] = value instead\n",
      "\n",
      "See the caveats in the documentation: https://pandas.pydata.org/pandas-docs/stable/user_guide/indexing.html#returning-a-view-versus-a-copy\n",
      "  ts.loc[:, 'outlier'] = clf.predict(ts[['v']])\n"
     ]
    },
    {
     "name": "stdout",
     "output_type": "stream",
     "text": [
      "oaks2:Well Water Temperature xle/lev:36 outliers found\n",
      "[(0, 25927), (25928, 53953)]\n"
     ]
    },
    {
     "name": "stderr",
     "output_type": "stream",
     "text": [
      "C:\\Program Files\\ArcGIS\\Pro\\bin\\Python\\envs\\arcgeopy\\lib\\site-packages\\sklearn\\base.py:409: UserWarning: X does not have valid feature names, but IsolationForest was fitted with feature names\n",
      "  warnings.warn(\n",
      "C:\\Users\\jinsu.elhance\\AppData\\Local\\Temp\\ipykernel_16152\\2764186386.py:39: SettingWithCopyWarning: \n",
      "A value is trying to be set on a copy of a slice from a DataFrame.\n",
      "Try using .loc[row_indexer,col_indexer] = value instead\n",
      "\n",
      "See the caveats in the documentation: https://pandas.pydata.org/pandas-docs/stable/user_guide/indexing.html#returning-a-view-versus-a-copy\n",
      "  ts.loc[:, 'outlier'] = clf.predict(ts[['v']])\n",
      "C:\\Program Files\\ArcGIS\\Pro\\bin\\Python\\envs\\arcgeopy\\lib\\site-packages\\sklearn\\base.py:409: UserWarning: X does not have valid feature names, but IsolationForest was fitted with feature names\n",
      "  warnings.warn(\n",
      "C:\\Users\\jinsu.elhance\\AppData\\Local\\Temp\\ipykernel_16152\\2764186386.py:39: SettingWithCopyWarning: \n",
      "A value is trying to be set on a copy of a slice from a DataFrame.\n",
      "Try using .loc[row_indexer,col_indexer] = value instead\n",
      "\n",
      "See the caveats in the documentation: https://pandas.pydata.org/pandas-docs/stable/user_guide/indexing.html#returning-a-view-versus-a-copy\n",
      "  ts.loc[:, 'outlier'] = clf.predict(ts[['v']])\n"
     ]
    },
    {
     "name": "stdout",
     "output_type": "stream",
     "text": [
      "oaks2:Well Water Temperature xlsx:26 outliers found\n"
     ]
    },
    {
     "ename": "ConnectionError",
     "evalue": "HTTPSConnectionPool(host='api.edge.dendra.science', port=443): Max retries exceeded with url: /v2/datapoints?datastream_id=64dd3e8280818790e3c90538&time%5B%24gte%5D=2000-01-01T00%3A00%3A00&time%5B%24lt%5D=2023-09-05T09%3A10%3A45&%24sort%5Btime%5D=1&%24limit=2016&time_local=true&time%5B%24gt%5D=2021-05-25T12%3A15%3A00.000 (Caused by NewConnectionError('<urllib3.connection.HTTPSConnection object at 0x00000181BD3BB460>: Failed to establish a new connection: [Errno 11001] getaddrinfo failed'))",
     "output_type": "error",
     "traceback": [
      "\u001b[1;31m---------------------------------------------------------------------------\u001b[0m",
      "\u001b[1;31mgaierror\u001b[0m                                  Traceback (most recent call last)",
      "File \u001b[1;32mC:\\Program Files\\ArcGIS\\Pro\\bin\\Python\\envs\\arcgeopy\\lib\\site-packages\\urllib3\\connection.py:174\u001b[0m, in \u001b[0;36mHTTPConnection._new_conn\u001b[1;34m(self)\u001b[0m\n\u001b[0;32m    173\u001b[0m \u001b[38;5;28;01mtry\u001b[39;00m:\n\u001b[1;32m--> 174\u001b[0m     conn \u001b[38;5;241m=\u001b[39m connection\u001b[38;5;241m.\u001b[39mcreate_connection(\n\u001b[0;32m    175\u001b[0m         (\u001b[38;5;28mself\u001b[39m\u001b[38;5;241m.\u001b[39m_dns_host, \u001b[38;5;28mself\u001b[39m\u001b[38;5;241m.\u001b[39mport), \u001b[38;5;28mself\u001b[39m\u001b[38;5;241m.\u001b[39mtimeout, \u001b[38;5;241m*\u001b[39m\u001b[38;5;241m*\u001b[39mextra_kw\n\u001b[0;32m    176\u001b[0m     )\n\u001b[0;32m    178\u001b[0m \u001b[38;5;28;01mexcept\u001b[39;00m SocketTimeout:\n",
      "File \u001b[1;32mC:\\Program Files\\ArcGIS\\Pro\\bin\\Python\\envs\\arcgeopy\\lib\\site-packages\\urllib3\\util\\connection.py:72\u001b[0m, in \u001b[0;36mcreate_connection\u001b[1;34m(address, timeout, source_address, socket_options)\u001b[0m\n\u001b[0;32m     68\u001b[0m     \u001b[38;5;28;01mreturn\u001b[39;00m six\u001b[38;5;241m.\u001b[39mraise_from(\n\u001b[0;32m     69\u001b[0m         LocationParseError(\u001b[38;5;124mu\u001b[39m\u001b[38;5;124m\"\u001b[39m\u001b[38;5;124m'\u001b[39m\u001b[38;5;132;01m%s\u001b[39;00m\u001b[38;5;124m'\u001b[39m\u001b[38;5;124m, label empty or too long\u001b[39m\u001b[38;5;124m\"\u001b[39m \u001b[38;5;241m%\u001b[39m host), \u001b[38;5;28;01mNone\u001b[39;00m\n\u001b[0;32m     70\u001b[0m     )\n\u001b[1;32m---> 72\u001b[0m \u001b[38;5;28;01mfor\u001b[39;00m res \u001b[38;5;129;01min\u001b[39;00m \u001b[43msocket\u001b[49m\u001b[38;5;241;43m.\u001b[39;49m\u001b[43mgetaddrinfo\u001b[49m\u001b[43m(\u001b[49m\u001b[43mhost\u001b[49m\u001b[43m,\u001b[49m\u001b[43m \u001b[49m\u001b[43mport\u001b[49m\u001b[43m,\u001b[49m\u001b[43m \u001b[49m\u001b[43mfamily\u001b[49m\u001b[43m,\u001b[49m\u001b[43m \u001b[49m\u001b[43msocket\u001b[49m\u001b[38;5;241;43m.\u001b[39;49m\u001b[43mSOCK_STREAM\u001b[49m\u001b[43m)\u001b[49m:\n\u001b[0;32m     73\u001b[0m     af, socktype, proto, canonname, sa \u001b[38;5;241m=\u001b[39m res\n",
      "File \u001b[1;32mC:\\Program Files\\ArcGIS\\Pro\\bin\\Python\\envs\\arcgeopy\\lib\\socket.py:954\u001b[0m, in \u001b[0;36mgetaddrinfo\u001b[1;34m(host, port, family, type, proto, flags)\u001b[0m\n\u001b[0;32m    953\u001b[0m addrlist \u001b[38;5;241m=\u001b[39m []\n\u001b[1;32m--> 954\u001b[0m \u001b[38;5;28;01mfor\u001b[39;00m res \u001b[38;5;129;01min\u001b[39;00m \u001b[43m_socket\u001b[49m\u001b[38;5;241;43m.\u001b[39;49m\u001b[43mgetaddrinfo\u001b[49m\u001b[43m(\u001b[49m\u001b[43mhost\u001b[49m\u001b[43m,\u001b[49m\u001b[43m \u001b[49m\u001b[43mport\u001b[49m\u001b[43m,\u001b[49m\u001b[43m \u001b[49m\u001b[43mfamily\u001b[49m\u001b[43m,\u001b[49m\u001b[43m \u001b[49m\u001b[38;5;28;43mtype\u001b[39;49m\u001b[43m,\u001b[49m\u001b[43m \u001b[49m\u001b[43mproto\u001b[49m\u001b[43m,\u001b[49m\u001b[43m \u001b[49m\u001b[43mflags\u001b[49m\u001b[43m)\u001b[49m:\n\u001b[0;32m    955\u001b[0m     af, socktype, proto, canonname, sa \u001b[38;5;241m=\u001b[39m res\n",
      "\u001b[1;31mgaierror\u001b[0m: [Errno 11001] getaddrinfo failed",
      "\nDuring handling of the above exception, another exception occurred:\n",
      "\u001b[1;31mNewConnectionError\u001b[0m                        Traceback (most recent call last)",
      "File \u001b[1;32mC:\\Program Files\\ArcGIS\\Pro\\bin\\Python\\envs\\arcgeopy\\lib\\site-packages\\urllib3\\connectionpool.py:703\u001b[0m, in \u001b[0;36mHTTPConnectionPool.urlopen\u001b[1;34m(self, method, url, body, headers, retries, redirect, assert_same_host, timeout, pool_timeout, release_conn, chunked, body_pos, **response_kw)\u001b[0m\n\u001b[0;32m    702\u001b[0m \u001b[38;5;66;03m# Make the request on the httplib connection object.\u001b[39;00m\n\u001b[1;32m--> 703\u001b[0m httplib_response \u001b[38;5;241m=\u001b[39m \u001b[38;5;28;43mself\u001b[39;49m\u001b[38;5;241;43m.\u001b[39;49m\u001b[43m_make_request\u001b[49m\u001b[43m(\u001b[49m\n\u001b[0;32m    704\u001b[0m \u001b[43m    \u001b[49m\u001b[43mconn\u001b[49m\u001b[43m,\u001b[49m\n\u001b[0;32m    705\u001b[0m \u001b[43m    \u001b[49m\u001b[43mmethod\u001b[49m\u001b[43m,\u001b[49m\n\u001b[0;32m    706\u001b[0m \u001b[43m    \u001b[49m\u001b[43murl\u001b[49m\u001b[43m,\u001b[49m\n\u001b[0;32m    707\u001b[0m \u001b[43m    \u001b[49m\u001b[43mtimeout\u001b[49m\u001b[38;5;241;43m=\u001b[39;49m\u001b[43mtimeout_obj\u001b[49m\u001b[43m,\u001b[49m\n\u001b[0;32m    708\u001b[0m \u001b[43m    \u001b[49m\u001b[43mbody\u001b[49m\u001b[38;5;241;43m=\u001b[39;49m\u001b[43mbody\u001b[49m\u001b[43m,\u001b[49m\n\u001b[0;32m    709\u001b[0m \u001b[43m    \u001b[49m\u001b[43mheaders\u001b[49m\u001b[38;5;241;43m=\u001b[39;49m\u001b[43mheaders\u001b[49m\u001b[43m,\u001b[49m\n\u001b[0;32m    710\u001b[0m \u001b[43m    \u001b[49m\u001b[43mchunked\u001b[49m\u001b[38;5;241;43m=\u001b[39;49m\u001b[43mchunked\u001b[49m\u001b[43m,\u001b[49m\n\u001b[0;32m    711\u001b[0m \u001b[43m\u001b[49m\u001b[43m)\u001b[49m\n\u001b[0;32m    713\u001b[0m \u001b[38;5;66;03m# If we're going to release the connection in ``finally:``, then\u001b[39;00m\n\u001b[0;32m    714\u001b[0m \u001b[38;5;66;03m# the response doesn't need to know about the connection. Otherwise\u001b[39;00m\n\u001b[0;32m    715\u001b[0m \u001b[38;5;66;03m# it will also try to release it and we'll have a double-release\u001b[39;00m\n\u001b[0;32m    716\u001b[0m \u001b[38;5;66;03m# mess.\u001b[39;00m\n",
      "File \u001b[1;32mC:\\Program Files\\ArcGIS\\Pro\\bin\\Python\\envs\\arcgeopy\\lib\\site-packages\\urllib3\\connectionpool.py:386\u001b[0m, in \u001b[0;36mHTTPConnectionPool._make_request\u001b[1;34m(self, conn, method, url, timeout, chunked, **httplib_request_kw)\u001b[0m\n\u001b[0;32m    385\u001b[0m \u001b[38;5;28;01mtry\u001b[39;00m:\n\u001b[1;32m--> 386\u001b[0m     \u001b[38;5;28;43mself\u001b[39;49m\u001b[38;5;241;43m.\u001b[39;49m\u001b[43m_validate_conn\u001b[49m\u001b[43m(\u001b[49m\u001b[43mconn\u001b[49m\u001b[43m)\u001b[49m\n\u001b[0;32m    387\u001b[0m \u001b[38;5;28;01mexcept\u001b[39;00m (SocketTimeout, BaseSSLError) \u001b[38;5;28;01mas\u001b[39;00m e:\n\u001b[0;32m    388\u001b[0m     \u001b[38;5;66;03m# Py2 raises this as a BaseSSLError, Py3 raises it as socket timeout.\u001b[39;00m\n",
      "File \u001b[1;32mC:\\Program Files\\ArcGIS\\Pro\\bin\\Python\\envs\\arcgeopy\\lib\\site-packages\\urllib3\\connectionpool.py:1042\u001b[0m, in \u001b[0;36mHTTPSConnectionPool._validate_conn\u001b[1;34m(self, conn)\u001b[0m\n\u001b[0;32m   1041\u001b[0m \u001b[38;5;28;01mif\u001b[39;00m \u001b[38;5;129;01mnot\u001b[39;00m \u001b[38;5;28mgetattr\u001b[39m(conn, \u001b[38;5;124m\"\u001b[39m\u001b[38;5;124msock\u001b[39m\u001b[38;5;124m\"\u001b[39m, \u001b[38;5;28;01mNone\u001b[39;00m):  \u001b[38;5;66;03m# AppEngine might not have  `.sock`\u001b[39;00m\n\u001b[1;32m-> 1042\u001b[0m     \u001b[43mconn\u001b[49m\u001b[38;5;241;43m.\u001b[39;49m\u001b[43mconnect\u001b[49m\u001b[43m(\u001b[49m\u001b[43m)\u001b[49m\n\u001b[0;32m   1044\u001b[0m \u001b[38;5;28;01mif\u001b[39;00m \u001b[38;5;129;01mnot\u001b[39;00m conn\u001b[38;5;241m.\u001b[39mis_verified:\n",
      "File \u001b[1;32mC:\\Program Files\\ArcGIS\\Pro\\bin\\Python\\envs\\arcgeopy\\lib\\site-packages\\urllib3\\connection.py:363\u001b[0m, in \u001b[0;36mHTTPSConnection.connect\u001b[1;34m(self)\u001b[0m\n\u001b[0;32m    361\u001b[0m \u001b[38;5;28;01mdef\u001b[39;00m \u001b[38;5;21mconnect\u001b[39m(\u001b[38;5;28mself\u001b[39m):\n\u001b[0;32m    362\u001b[0m     \u001b[38;5;66;03m# Add certificate verification\u001b[39;00m\n\u001b[1;32m--> 363\u001b[0m     \u001b[38;5;28mself\u001b[39m\u001b[38;5;241m.\u001b[39msock \u001b[38;5;241m=\u001b[39m conn \u001b[38;5;241m=\u001b[39m \u001b[38;5;28;43mself\u001b[39;49m\u001b[38;5;241;43m.\u001b[39;49m\u001b[43m_new_conn\u001b[49m\u001b[43m(\u001b[49m\u001b[43m)\u001b[49m\n\u001b[0;32m    364\u001b[0m     hostname \u001b[38;5;241m=\u001b[39m \u001b[38;5;28mself\u001b[39m\u001b[38;5;241m.\u001b[39mhost\n",
      "File \u001b[1;32mC:\\Program Files\\ArcGIS\\Pro\\bin\\Python\\envs\\arcgeopy\\lib\\site-packages\\urllib3\\connection.py:186\u001b[0m, in \u001b[0;36mHTTPConnection._new_conn\u001b[1;34m(self)\u001b[0m\n\u001b[0;32m    185\u001b[0m \u001b[38;5;28;01mexcept\u001b[39;00m SocketError \u001b[38;5;28;01mas\u001b[39;00m e:\n\u001b[1;32m--> 186\u001b[0m     \u001b[38;5;28;01mraise\u001b[39;00m NewConnectionError(\n\u001b[0;32m    187\u001b[0m         \u001b[38;5;28mself\u001b[39m, \u001b[38;5;124m\"\u001b[39m\u001b[38;5;124mFailed to establish a new connection: \u001b[39m\u001b[38;5;132;01m%s\u001b[39;00m\u001b[38;5;124m\"\u001b[39m \u001b[38;5;241m%\u001b[39m e\n\u001b[0;32m    188\u001b[0m     )\n\u001b[0;32m    190\u001b[0m \u001b[38;5;28;01mreturn\u001b[39;00m conn\n",
      "\u001b[1;31mNewConnectionError\u001b[0m: <urllib3.connection.HTTPSConnection object at 0x00000181BD3BB460>: Failed to establish a new connection: [Errno 11001] getaddrinfo failed",
      "\nDuring handling of the above exception, another exception occurred:\n",
      "\u001b[1;31mMaxRetryError\u001b[0m                             Traceback (most recent call last)",
      "File \u001b[1;32mC:\\Program Files\\ArcGIS\\Pro\\bin\\Python\\envs\\arcgeopy\\lib\\site-packages\\requests\\adapters.py:489\u001b[0m, in \u001b[0;36mHTTPAdapter.send\u001b[1;34m(self, request, stream, timeout, verify, cert, proxies)\u001b[0m\n\u001b[0;32m    488\u001b[0m \u001b[38;5;28;01mif\u001b[39;00m \u001b[38;5;129;01mnot\u001b[39;00m chunked:\n\u001b[1;32m--> 489\u001b[0m     resp \u001b[38;5;241m=\u001b[39m \u001b[43mconn\u001b[49m\u001b[38;5;241;43m.\u001b[39;49m\u001b[43murlopen\u001b[49m\u001b[43m(\u001b[49m\n\u001b[0;32m    490\u001b[0m \u001b[43m        \u001b[49m\u001b[43mmethod\u001b[49m\u001b[38;5;241;43m=\u001b[39;49m\u001b[43mrequest\u001b[49m\u001b[38;5;241;43m.\u001b[39;49m\u001b[43mmethod\u001b[49m\u001b[43m,\u001b[49m\n\u001b[0;32m    491\u001b[0m \u001b[43m        \u001b[49m\u001b[43murl\u001b[49m\u001b[38;5;241;43m=\u001b[39;49m\u001b[43murl\u001b[49m\u001b[43m,\u001b[49m\n\u001b[0;32m    492\u001b[0m \u001b[43m        \u001b[49m\u001b[43mbody\u001b[49m\u001b[38;5;241;43m=\u001b[39;49m\u001b[43mrequest\u001b[49m\u001b[38;5;241;43m.\u001b[39;49m\u001b[43mbody\u001b[49m\u001b[43m,\u001b[49m\n\u001b[0;32m    493\u001b[0m \u001b[43m        \u001b[49m\u001b[43mheaders\u001b[49m\u001b[38;5;241;43m=\u001b[39;49m\u001b[43mrequest\u001b[49m\u001b[38;5;241;43m.\u001b[39;49m\u001b[43mheaders\u001b[49m\u001b[43m,\u001b[49m\n\u001b[0;32m    494\u001b[0m \u001b[43m        \u001b[49m\u001b[43mredirect\u001b[49m\u001b[38;5;241;43m=\u001b[39;49m\u001b[38;5;28;43;01mFalse\u001b[39;49;00m\u001b[43m,\u001b[49m\n\u001b[0;32m    495\u001b[0m \u001b[43m        \u001b[49m\u001b[43massert_same_host\u001b[49m\u001b[38;5;241;43m=\u001b[39;49m\u001b[38;5;28;43;01mFalse\u001b[39;49;00m\u001b[43m,\u001b[49m\n\u001b[0;32m    496\u001b[0m \u001b[43m        \u001b[49m\u001b[43mpreload_content\u001b[49m\u001b[38;5;241;43m=\u001b[39;49m\u001b[38;5;28;43;01mFalse\u001b[39;49;00m\u001b[43m,\u001b[49m\n\u001b[0;32m    497\u001b[0m \u001b[43m        \u001b[49m\u001b[43mdecode_content\u001b[49m\u001b[38;5;241;43m=\u001b[39;49m\u001b[38;5;28;43;01mFalse\u001b[39;49;00m\u001b[43m,\u001b[49m\n\u001b[0;32m    498\u001b[0m \u001b[43m        \u001b[49m\u001b[43mretries\u001b[49m\u001b[38;5;241;43m=\u001b[39;49m\u001b[38;5;28;43mself\u001b[39;49m\u001b[38;5;241;43m.\u001b[39;49m\u001b[43mmax_retries\u001b[49m\u001b[43m,\u001b[49m\n\u001b[0;32m    499\u001b[0m \u001b[43m        \u001b[49m\u001b[43mtimeout\u001b[49m\u001b[38;5;241;43m=\u001b[39;49m\u001b[43mtimeout\u001b[49m\u001b[43m,\u001b[49m\n\u001b[0;32m    500\u001b[0m \u001b[43m    \u001b[49m\u001b[43m)\u001b[49m\n\u001b[0;32m    502\u001b[0m \u001b[38;5;66;03m# Send the request.\u001b[39;00m\n\u001b[0;32m    503\u001b[0m \u001b[38;5;28;01melse\u001b[39;00m:\n",
      "File \u001b[1;32mC:\\Program Files\\ArcGIS\\Pro\\bin\\Python\\envs\\arcgeopy\\lib\\site-packages\\urllib3\\connectionpool.py:787\u001b[0m, in \u001b[0;36mHTTPConnectionPool.urlopen\u001b[1;34m(self, method, url, body, headers, retries, redirect, assert_same_host, timeout, pool_timeout, release_conn, chunked, body_pos, **response_kw)\u001b[0m\n\u001b[0;32m    785\u001b[0m     e \u001b[38;5;241m=\u001b[39m ProtocolError(\u001b[38;5;124m\"\u001b[39m\u001b[38;5;124mConnection aborted.\u001b[39m\u001b[38;5;124m\"\u001b[39m, e)\n\u001b[1;32m--> 787\u001b[0m retries \u001b[38;5;241m=\u001b[39m \u001b[43mretries\u001b[49m\u001b[38;5;241;43m.\u001b[39;49m\u001b[43mincrement\u001b[49m\u001b[43m(\u001b[49m\n\u001b[0;32m    788\u001b[0m \u001b[43m    \u001b[49m\u001b[43mmethod\u001b[49m\u001b[43m,\u001b[49m\u001b[43m \u001b[49m\u001b[43murl\u001b[49m\u001b[43m,\u001b[49m\u001b[43m \u001b[49m\u001b[43merror\u001b[49m\u001b[38;5;241;43m=\u001b[39;49m\u001b[43me\u001b[49m\u001b[43m,\u001b[49m\u001b[43m \u001b[49m\u001b[43m_pool\u001b[49m\u001b[38;5;241;43m=\u001b[39;49m\u001b[38;5;28;43mself\u001b[39;49m\u001b[43m,\u001b[49m\u001b[43m \u001b[49m\u001b[43m_stacktrace\u001b[49m\u001b[38;5;241;43m=\u001b[39;49m\u001b[43msys\u001b[49m\u001b[38;5;241;43m.\u001b[39;49m\u001b[43mexc_info\u001b[49m\u001b[43m(\u001b[49m\u001b[43m)\u001b[49m\u001b[43m[\u001b[49m\u001b[38;5;241;43m2\u001b[39;49m\u001b[43m]\u001b[49m\n\u001b[0;32m    789\u001b[0m \u001b[43m\u001b[49m\u001b[43m)\u001b[49m\n\u001b[0;32m    790\u001b[0m retries\u001b[38;5;241m.\u001b[39msleep()\n",
      "File \u001b[1;32mC:\\Program Files\\ArcGIS\\Pro\\bin\\Python\\envs\\arcgeopy\\lib\\site-packages\\urllib3\\util\\retry.py:592\u001b[0m, in \u001b[0;36mRetry.increment\u001b[1;34m(self, method, url, response, error, _pool, _stacktrace)\u001b[0m\n\u001b[0;32m    591\u001b[0m \u001b[38;5;28;01mif\u001b[39;00m new_retry\u001b[38;5;241m.\u001b[39mis_exhausted():\n\u001b[1;32m--> 592\u001b[0m     \u001b[38;5;28;01mraise\u001b[39;00m MaxRetryError(_pool, url, error \u001b[38;5;129;01mor\u001b[39;00m ResponseError(cause))\n\u001b[0;32m    594\u001b[0m log\u001b[38;5;241m.\u001b[39mdebug(\u001b[38;5;124m\"\u001b[39m\u001b[38;5;124mIncremented Retry for (url=\u001b[39m\u001b[38;5;124m'\u001b[39m\u001b[38;5;132;01m%s\u001b[39;00m\u001b[38;5;124m'\u001b[39m\u001b[38;5;124m): \u001b[39m\u001b[38;5;132;01m%r\u001b[39;00m\u001b[38;5;124m\"\u001b[39m, url, new_retry)\n",
      "\u001b[1;31mMaxRetryError\u001b[0m: HTTPSConnectionPool(host='api.edge.dendra.science', port=443): Max retries exceeded with url: /v2/datapoints?datastream_id=64dd3e8280818790e3c90538&time%5B%24gte%5D=2000-01-01T00%3A00%3A00&time%5B%24lt%5D=2023-09-05T09%3A10%3A45&%24sort%5Btime%5D=1&%24limit=2016&time_local=true&time%5B%24gt%5D=2021-05-25T12%3A15%3A00.000 (Caused by NewConnectionError('<urllib3.connection.HTTPSConnection object at 0x00000181BD3BB460>: Failed to establish a new connection: [Errno 11001] getaddrinfo failed'))",
      "\nDuring handling of the above exception, another exception occurred:\n",
      "\u001b[1;31mConnectionError\u001b[0m                           Traceback (most recent call last)",
      "Cell \u001b[1;32mIn[210], line 27\u001b[0m\n\u001b[0;32m     25\u001b[0m \u001b[38;5;28;01mfor\u001b[39;00m datastream \u001b[38;5;129;01min\u001b[39;00m station_datastreams: \n\u001b[0;32m     26\u001b[0m     datastream_id \u001b[38;5;241m=\u001b[39m datastream[\u001b[38;5;124m'\u001b[39m\u001b[38;5;124m_id\u001b[39m\u001b[38;5;124m'\u001b[39m]\n\u001b[1;32m---> 27\u001b[0m     dendra_fetch \u001b[38;5;241m=\u001b[39m \u001b[43mdendra\u001b[49m\u001b[38;5;241;43m.\u001b[39;49m\u001b[43mget_datapoints\u001b[49m\u001b[43m(\u001b[49m\u001b[43mdatastream_id\u001b[49m\u001b[43m,\u001b[49m\u001b[43m \u001b[49m\u001b[43mbegins_at\u001b[49m\u001b[38;5;241;43m=\u001b[39;49m\u001b[38;5;124;43m\"\u001b[39;49m\u001b[38;5;124;43m2000-01-01T00:00:00\u001b[39;49m\u001b[38;5;124;43m\"\u001b[39;49m\u001b[43m,\u001b[49m\u001b[43m \u001b[49m\u001b[43mtime_type\u001b[49m\u001b[38;5;241;43m=\u001b[39;49m\u001b[38;5;124;43m\"\u001b[39;49m\u001b[38;5;124;43mlocal\u001b[39;49m\u001b[38;5;124;43m\"\u001b[39;49m\u001b[43m)\u001b[49m\u001b[38;5;241m.\u001b[39mreset_index()\n\u001b[0;32m     28\u001b[0m     dendra_fetch \u001b[38;5;241m=\u001b[39m dendra_fetch\u001b[38;5;241m.\u001b[39mrename(columns\u001b[38;5;241m=\u001b[39m{dendra_fetch\u001b[38;5;241m.\u001b[39mcolumns[\u001b[38;5;241m2\u001b[39m]:\u001b[38;5;124m\"\u001b[39m\u001b[38;5;124mv\u001b[39m\u001b[38;5;124m\"\u001b[39m})\n\u001b[0;32m     30\u001b[0m     \u001b[38;5;28;01mif\u001b[39;00m dendra_fetch\u001b[38;5;241m.\u001b[39mshape[\u001b[38;5;241m0\u001b[39m] \u001b[38;5;241m==\u001b[39m \u001b[38;5;241m0\u001b[39m:\n",
      "File \u001b[1;32m~\\Box\\000. Jinsu Elhance\\Github\\dendra-api-client-python\\dendra_api_client.py:415\u001b[0m, in \u001b[0;36mget_datapoints\u001b[1;34m(datastream_id, begins_at, ends_before, time_type, name)\u001b[0m\n\u001b[0;32m    413\u001b[0m time_last \u001b[38;5;241m=\u001b[39m df[time_col]\u001b[38;5;241m.\u001b[39mmax()  \u001b[38;5;66;03m# issue#1 miguel\u001b[39;00m\n\u001b[0;32m    414\u001b[0m query[\u001b[38;5;124m'\u001b[39m\u001b[38;5;124mtime[$gt]\u001b[39m\u001b[38;5;124m'\u001b[39m] \u001b[38;5;241m=\u001b[39m time_last\n\u001b[1;32m--> 415\u001b[0m r \u001b[38;5;241m=\u001b[39m \u001b[43mrequests\u001b[49m\u001b[38;5;241;43m.\u001b[39;49m\u001b[43mget\u001b[49m\u001b[43m(\u001b[49m\u001b[43murl\u001b[49m\u001b[43m \u001b[49m\u001b[38;5;241;43m+\u001b[39;49m\u001b[43m \u001b[49m\u001b[38;5;124;43m'\u001b[39;49m\u001b[38;5;124;43mdatapoints\u001b[39;49m\u001b[38;5;124;43m'\u001b[39;49m\u001b[43m,\u001b[49m\u001b[43m \u001b[49m\u001b[43mheaders\u001b[49m\u001b[38;5;241;43m=\u001b[39;49m\u001b[43mheaders\u001b[49m\u001b[43m,\u001b[49m\u001b[43m \u001b[49m\u001b[43mparams\u001b[49m\u001b[38;5;241;43m=\u001b[39;49m\u001b[43mquery\u001b[49m\u001b[43m)\u001b[49m\n\u001b[0;32m    416\u001b[0m \u001b[38;5;28;01massert\u001b[39;00m r\u001b[38;5;241m.\u001b[39mstatus_code \u001b[38;5;241m==\u001b[39m \u001b[38;5;241m200\u001b[39m\n\u001b[0;32m    417\u001b[0m rjson \u001b[38;5;241m=\u001b[39m r\u001b[38;5;241m.\u001b[39mjson()\n",
      "File \u001b[1;32mC:\\Program Files\\ArcGIS\\Pro\\bin\\Python\\envs\\arcgeopy\\lib\\site-packages\\requests\\api.py:73\u001b[0m, in \u001b[0;36mget\u001b[1;34m(url, params, **kwargs)\u001b[0m\n\u001b[0;32m     62\u001b[0m \u001b[38;5;28;01mdef\u001b[39;00m \u001b[38;5;21mget\u001b[39m(url, params\u001b[38;5;241m=\u001b[39m\u001b[38;5;28;01mNone\u001b[39;00m, \u001b[38;5;241m*\u001b[39m\u001b[38;5;241m*\u001b[39mkwargs):\n\u001b[0;32m     63\u001b[0m \u001b[38;5;250m    \u001b[39m\u001b[38;5;124mr\u001b[39m\u001b[38;5;124;03m\"\"\"Sends a GET request.\u001b[39;00m\n\u001b[0;32m     64\u001b[0m \n\u001b[0;32m     65\u001b[0m \u001b[38;5;124;03m    :param url: URL for the new :class:`Request` object.\u001b[39;00m\n\u001b[1;32m   (...)\u001b[0m\n\u001b[0;32m     70\u001b[0m \u001b[38;5;124;03m    :rtype: requests.Response\u001b[39;00m\n\u001b[0;32m     71\u001b[0m \u001b[38;5;124;03m    \"\"\"\u001b[39;00m\n\u001b[1;32m---> 73\u001b[0m     \u001b[38;5;28;01mreturn\u001b[39;00m request(\u001b[38;5;124m\"\u001b[39m\u001b[38;5;124mget\u001b[39m\u001b[38;5;124m\"\u001b[39m, url, params\u001b[38;5;241m=\u001b[39mparams, \u001b[38;5;241m*\u001b[39m\u001b[38;5;241m*\u001b[39mkwargs)\n",
      "File \u001b[1;32mC:\\Program Files\\ArcGIS\\Pro\\bin\\Python\\envs\\arcgeopy\\lib\\site-packages\\requests\\api.py:59\u001b[0m, in \u001b[0;36mrequest\u001b[1;34m(method, url, **kwargs)\u001b[0m\n\u001b[0;32m     55\u001b[0m \u001b[38;5;66;03m# By using the 'with' statement we are sure the session is closed, thus we\u001b[39;00m\n\u001b[0;32m     56\u001b[0m \u001b[38;5;66;03m# avoid leaving sockets open which can trigger a ResourceWarning in some\u001b[39;00m\n\u001b[0;32m     57\u001b[0m \u001b[38;5;66;03m# cases, and look like a memory leak in others.\u001b[39;00m\n\u001b[0;32m     58\u001b[0m \u001b[38;5;28;01mwith\u001b[39;00m sessions\u001b[38;5;241m.\u001b[39mSession() \u001b[38;5;28;01mas\u001b[39;00m session:\n\u001b[1;32m---> 59\u001b[0m     \u001b[38;5;28;01mreturn\u001b[39;00m session\u001b[38;5;241m.\u001b[39mrequest(method\u001b[38;5;241m=\u001b[39mmethod, url\u001b[38;5;241m=\u001b[39murl, \u001b[38;5;241m*\u001b[39m\u001b[38;5;241m*\u001b[39mkwargs)\n",
      "File \u001b[1;32mC:\\Program Files\\ArcGIS\\Pro\\bin\\Python\\envs\\arcgeopy\\lib\\site-packages\\requests\\sessions.py:587\u001b[0m, in \u001b[0;36mSession.request\u001b[1;34m(self, method, url, params, data, headers, cookies, files, auth, timeout, allow_redirects, proxies, hooks, stream, verify, cert, json)\u001b[0m\n\u001b[0;32m    582\u001b[0m send_kwargs \u001b[38;5;241m=\u001b[39m {\n\u001b[0;32m    583\u001b[0m     \u001b[38;5;124m\"\u001b[39m\u001b[38;5;124mtimeout\u001b[39m\u001b[38;5;124m\"\u001b[39m: timeout,\n\u001b[0;32m    584\u001b[0m     \u001b[38;5;124m\"\u001b[39m\u001b[38;5;124mallow_redirects\u001b[39m\u001b[38;5;124m\"\u001b[39m: allow_redirects,\n\u001b[0;32m    585\u001b[0m }\n\u001b[0;32m    586\u001b[0m send_kwargs\u001b[38;5;241m.\u001b[39mupdate(settings)\n\u001b[1;32m--> 587\u001b[0m resp \u001b[38;5;241m=\u001b[39m \u001b[38;5;28mself\u001b[39m\u001b[38;5;241m.\u001b[39msend(prep, \u001b[38;5;241m*\u001b[39m\u001b[38;5;241m*\u001b[39msend_kwargs)\n\u001b[0;32m    589\u001b[0m \u001b[38;5;28;01mreturn\u001b[39;00m resp\n",
      "File \u001b[1;32mC:\\Program Files\\ArcGIS\\Pro\\bin\\Python\\envs\\arcgeopy\\lib\\site-packages\\requests\\sessions.py:701\u001b[0m, in \u001b[0;36mSession.send\u001b[1;34m(self, request, **kwargs)\u001b[0m\n\u001b[0;32m    698\u001b[0m start \u001b[38;5;241m=\u001b[39m preferred_clock()\n\u001b[0;32m    700\u001b[0m \u001b[38;5;66;03m# Send the request\u001b[39;00m\n\u001b[1;32m--> 701\u001b[0m r \u001b[38;5;241m=\u001b[39m adapter\u001b[38;5;241m.\u001b[39msend(request, \u001b[38;5;241m*\u001b[39m\u001b[38;5;241m*\u001b[39mkwargs)\n\u001b[0;32m    703\u001b[0m \u001b[38;5;66;03m# Total elapsed time of the request (approximately)\u001b[39;00m\n\u001b[0;32m    704\u001b[0m elapsed \u001b[38;5;241m=\u001b[39m preferred_clock() \u001b[38;5;241m-\u001b[39m start\n",
      "File \u001b[1;32mC:\\Program Files\\ArcGIS\\Pro\\bin\\Python\\envs\\arcgeopy\\lib\\site-packages\\requests\\adapters.py:565\u001b[0m, in \u001b[0;36mHTTPAdapter.send\u001b[1;34m(self, request, stream, timeout, verify, cert, proxies)\u001b[0m\n\u001b[0;32m    561\u001b[0m     \u001b[38;5;28;01mif\u001b[39;00m \u001b[38;5;28misinstance\u001b[39m(e\u001b[38;5;241m.\u001b[39mreason, _SSLError):\n\u001b[0;32m    562\u001b[0m         \u001b[38;5;66;03m# This branch is for urllib3 v1.22 and later.\u001b[39;00m\n\u001b[0;32m    563\u001b[0m         \u001b[38;5;28;01mraise\u001b[39;00m SSLError(e, request\u001b[38;5;241m=\u001b[39mrequest)\n\u001b[1;32m--> 565\u001b[0m     \u001b[38;5;28;01mraise\u001b[39;00m \u001b[38;5;167;01mConnectionError\u001b[39;00m(e, request\u001b[38;5;241m=\u001b[39mrequest)\n\u001b[0;32m    567\u001b[0m \u001b[38;5;28;01mexcept\u001b[39;00m ClosedPoolError \u001b[38;5;28;01mas\u001b[39;00m e:\n\u001b[0;32m    568\u001b[0m     \u001b[38;5;28;01mraise\u001b[39;00m \u001b[38;5;167;01mConnectionError\u001b[39;00m(e, request\u001b[38;5;241m=\u001b[39mrequest)\n",
      "\u001b[1;31mConnectionError\u001b[0m: HTTPSConnectionPool(host='api.edge.dendra.science', port=443): Max retries exceeded with url: /v2/datapoints?datastream_id=64dd3e8280818790e3c90538&time%5B%24gte%5D=2000-01-01T00%3A00%3A00&time%5B%24lt%5D=2023-09-05T09%3A10%3A45&%24sort%5Btime%5D=1&%24limit=2016&time_local=true&time%5B%24gt%5D=2021-05-25T12%3A15%3A00.000 (Caused by NewConnectionError('<urllib3.connection.HTTPSConnection object at 0x00000181BD3BB460>: Failed to establish a new connection: [Errno 11001] getaddrinfo failed'))"
     ]
    }
   ],
   "source": [
    "# datastream_df_dict = {}\n",
    "\n",
    "#Create empty anno json\n",
    "with open(f\"C:\\\\Users\\\\jinsu.elhance\\\\Box\\\\000. Jinsu Elhance\\\\DendraWork\\\\Annotations\\\\outlier_template.annotation.json\", encoding=\"utf-8\") as anno_template_file:\n",
    "    \n",
    "    anno_template_json = json.load(anno_template_file)\n",
    "    \n",
    "anno_template_json = deepcopy(anno_template_json)\n",
    "anno_template_json['datastream_ids'] = []\n",
    "\n",
    "#Interval looks like:\n",
    "\"\"\"\n",
    "'intervals':[\n",
    "{'begins_at' : '2010-02-23T19:30:00.000',\n",
    " 'ends_before' : '2010-02-23T19:30:00.000'},\n",
    " ...\n",
    "]\n",
    "\"\"\"\n",
    "\n",
    "#Query Dendra API to fetch Datapoints for each stream (from Station IDs)\n",
    "for station_name in stations_dict:\n",
    "    station_id = stations_dict[station_name]\n",
    "    station_datastreams = dendra.list_datastreams_by_station_id(station_id)\n",
    "    \n",
    "    for datastream in station_datastreams: \n",
    "        datastream_id = datastream['_id']\n",
    "        dendra_fetch = dendra.get_datapoints(datastream_id, begins_at=\"2000-01-01T00:00:00\", time_type=\"local\").reset_index()\n",
    "        dendra_fetch = dendra_fetch.rename(columns={dendra_fetch.columns[2]:\"v\"})\n",
    "        \n",
    "        if dendra_fetch.shape[0] == 0:\n",
    "            continue\n",
    "            \n",
    "        outlier_anno = deepcopy(anno_template_json)\n",
    "        outlier_indices = []\n",
    "        \n",
    "        #Iterate over any contiguous sections of timeseries data and find outliers.\n",
    "        for ts in find_discrete_ts(dendra_fetch):\n",
    "            clf = IsolationForest(random_state=0, contamination=0.0005).fit(ts[['v']])\n",
    "            ts.loc[:, 'outlier'] = clf.predict(ts[['v']])\n",
    "            outlier_indices = np.append(outlier_indices, ts.loc[ts['outlier'] == -1].index)\n",
    "        \n",
    "        #Add indices where values are non-positive\n",
    "        outlier_indices = np.append(outlier_indices, list(dendra_fetch.loc[dendra_fetch.v <= 0].index.values)).astype(int)\n",
    "        \n",
    "        if len(outlier_indices) == 0:\n",
    "            continue\n",
    "        \n",
    "        #Create outlier anno timestamp objects\n",
    "        time_stamps = [{\n",
    "            'begins_at': str(dendra_fetch.iloc[index]['timestamp_utc']).replace(\" \",\"T\").replace(\"+00:00\",\".000Z\"),\n",
    "            'ends_before': str(dendra_fetch.iloc[index]['timestamp_utc']).replace(\" \",\"T\").replace(\"+00:00\",\".000Z\")\n",
    "        } for index in outlier_indices]\n",
    "        \n",
    "        #Create annotation object\n",
    "        outlier_anno['datastream_ids'] = [datastream_id]\n",
    "        outlier_anno['intervals'] = time_stamps\n",
    "        outlier_anno['station_ids'] = [station_id]\n",
    "        outlier_anno['title'] = f\"Outlier Filter for {station_id}:{datastream['name']}\"\n",
    "        outlier_anno['description'] = \"Isolation Forest Outlier Filter + Removing Negative Points\"\n",
    "\n",
    "        print(f\"{station_name}:{datastream['name']}:{len(time_stamps)} outliers found\")\n",
    "#         Write the JSON objects to a file\n",
    "        with open(f\"C:/Users/jinsu.elhance/Box/000. Jinsu Elhance/DendraWork/Annotations/{datastream_id}.outliers.annotation.json\", 'w') as json_file:\n",
    "            json.dump(outlier_anno, json_file, indent=4)"
   ]
  },
  {
   "cell_type": "markdown",
   "id": "d928b2c5",
   "metadata": {},
   "source": [
    "# Create Derived Datastreams"
   ]
  }
 ],
 "metadata": {
  "kernelspec": {
   "display_name": "Python 3 (ipykernel)",
   "language": "python",
   "name": "python3"
  },
  "language_info": {
   "codemirror_mode": {
    "name": "ipython",
    "version": 3
   },
   "file_extension": ".py",
   "mimetype": "text/x-python",
   "name": "python",
   "nbconvert_exporter": "python",
   "pygments_lexer": "ipython3",
   "version": "3.9.11"
  },
  "toc": {
   "base_numbering": 1,
   "nav_menu": {},
   "number_sections": true,
   "sideBar": true,
   "skip_h1_title": false,
   "title_cell": "Table of Contents",
   "title_sidebar": "Contents",
   "toc_cell": false,
   "toc_position": {},
   "toc_section_display": true,
   "toc_window_display": false
  },
  "varInspector": {
   "cols": {
    "lenName": 16,
    "lenType": 16,
    "lenVar": 40
   },
   "kernels_config": {
    "python": {
     "delete_cmd_postfix": "",
     "delete_cmd_prefix": "del ",
     "library": "var_list.py",
     "varRefreshCmd": "print(var_dic_list())"
    },
    "r": {
     "delete_cmd_postfix": ") ",
     "delete_cmd_prefix": "rm(",
     "library": "var_list.r",
     "varRefreshCmd": "cat(var_dic_list()) "
    }
   },
   "types_to_exclude": [
    "module",
    "function",
    "builtin_function_or_method",
    "instance",
    "_Feature"
   ],
   "window_display": false
  }
 },
 "nbformat": 4,
 "nbformat_minor": 5
}
