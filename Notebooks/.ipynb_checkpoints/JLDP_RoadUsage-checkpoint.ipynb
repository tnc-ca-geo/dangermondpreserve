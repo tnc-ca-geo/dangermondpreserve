{
 "cells": [
  {
   "cell_type": "markdown",
   "id": "2f81d42e",
   "metadata": {},
   "source": [
    "# Road Usage Analysis Notebook\n",
    "This notebook walks you through the work flow for how road usage data on the Dangermond Preserve was collected, analyzed, and published. This script will require you to point certain variables to relative paths on your machine. As such, running it without setting these paths will fail."
   ]
  },
  {
   "cell_type": "markdown",
   "id": "ed987c8b",
   "metadata": {},
   "source": [
    "## Include Required Python Packages and Libraries"
   ]
  },
  {
   "cell_type": "code",
   "execution_count": 25,
   "id": "c71c1e06",
   "metadata": {},
   "outputs": [],
   "source": [
    "import arcpy\n",
    "import os\n",
    "import glob\n",
    "import pandas as pd\n",
    "import numpy as np\n",
    "import geopandas as gpd\n",
    "from arcgis.features import GeoAccessor, GeoSeriesAccessor\n",
    "from arcgis.gis import GIS\n",
    "from shapely import Point\n",
    "import ipdb\n",
    "import dotenv"
   ]
  },
  {
   "cell_type": "markdown",
   "id": "30a7432f",
   "metadata": {},
   "source": [
    "## Use .env to store and reference local paths"
   ]
  },
  {
   "cell_type": "code",
   "execution_count": 33,
   "id": "40b862ec",
   "metadata": {
    "scrolled": true
   },
   "outputs": [],
   "source": [
    "from dotenv import load_dotenv\n",
    "\n",
    "load_dotenv()\n",
    "PROJECT_DIR = dotenv.get_key(\".env\", key_to_get = \"PROJECT_DIR\")"
   ]
  },
  {
   "cell_type": "markdown",
   "id": "551bec3e",
   "metadata": {},
   "source": [
    "## Attach notebook to your ArcGIS Project\n",
    "This notebook references an already created ArcGIS Pro Project. In order to run this script properly, please create an ArcGIS Project with the two following layers added:\n",
    "\n",
    "- 1st - JLDP Roads: https://tnc.maps.arcgis.com/home/item.html?id=000625f21f054e93b67ef44bd4026a49\n",
    "- 2nd - JLDP LoRa Vehicle Tracking: https://tnc.maps.arcgis.com/home/item.html?id=f77e630cfe914483929f2a0bfba230c3\n",
    "\n",
    "If you do not have permissions to access these datasets please contact: Jinsu.elhance@tnc.org with information regarding your usage and institution. "
   ]
  },
  {
   "cell_type": "code",
   "execution_count": 34,
   "id": "00def5fc",
   "metadata": {},
   "outputs": [],
   "source": [
    "project_dir = f\"{PROJECT_DIR}/FinalRoadUse/\"\n",
    "aprx = arcpy.mp.ArcGISProject(f\"{project_dir}/FinalRoadUse.aprx\")\n",
    "\n",
    "try:\n",
    "    mp = aprx.listMaps()[0]\n",
    "except IndexError:\n",
    "    print(\"Please add a map to your project\")\n",
    "    \n",
    "arcpy.env.workspace = f\"{project_dir}/FinalRoadUse.gdb\""
   ]
  },
  {
   "cell_type": "markdown",
   "id": "edc16dd2",
   "metadata": {},
   "source": [
    "## Create or Identify Directories for GeoJSON and Shapefile Outputs"
   ]
  },
  {
   "cell_type": "code",
   "execution_count": 17,
   "id": "e6dfe917",
   "metadata": {},
   "outputs": [],
   "source": [
    "if not os.path.exists(f\"{project_dir}/GeoJSONs\"):\n",
    "    os.makedirs(f\"{project_dir}/GeoJSONs\")\n",
    "geojson_dir = f\"{project_dir}/GeoJSONs\"\n",
    "    \n",
    "if not os.path.exists(f\"{project_dir}/Shapefiles\"):\n",
    "    os.makedirs(f\"{project_dir}/Shapefiles\")\n",
    "shapefile_dir = f\"{project_dir}/Shapefiles\""
   ]
  },
  {
   "cell_type": "markdown",
   "id": "5d679c0c",
   "metadata": {},
   "source": [
    "# Useful Functions"
   ]
  },
  {
   "cell_type": "code",
   "execution_count": 22,
   "id": "82044073",
   "metadata": {},
   "outputs": [],
   "source": [
    "def getFields(layer):\n",
    "    assert type(layer) == arcpy._mp.Layer\n",
    "    _dsc = arcpy.da.Describe(layer)\n",
    "    if _dsc.get('children', False):\n",
    "        print(\"This layer is a grouped layer\")\n",
    "        return None\n",
    "    return arcpy.da.Describe(layer)['fields']\n",
    "\n",
    "def getFieldNames(layer):\n",
    "    assert type(layer) == arcpy._mp.Layer\n",
    "    _dsc = arcpy.da.Describe(layer)\n",
    "    if _dsc.get('children', False):\n",
    "        print(\"This layer is a grouped layer\")\n",
    "        return None\n",
    "    return [field.name for field in arcpy.da.Describe(layer)['fields']]\n",
    "\n",
    "def LayerToGDF(project, layer, crs):\n",
    "    \"\"\"\n",
    "    Input: \n",
    "    project (arcpy._mp.ArcGISProject) : Current working project\n",
    "    layer (arc._mp.Layer) : layer with data to be converted to a geodataframe\n",
    "    crs (string) : EPSG crs that you want layer to be projected to. Defaults to 'EPSG:4326'\n",
    "    Output:\n",
    "    returns geopandas geodataframe from layer\n",
    "    \"\"\"\n",
    "    assert type(project) == arcpy._mp.ArcGISProject and geojson_dir\n",
    "    output_file = arcpy.da.Describe(layer)['aliasName']\n",
    "    \n",
    "    if (os.path.exists(f\"{geojson_dir}/{output_file}.geojson\")):\n",
    "        _owrite = input(f\"This GeoJSON ({output_file}) has already been created, would you like to overwite (y/n)\").lower()\n",
    "        if _owrite == \"y\":\n",
    "            os.remove(f\"{geojson_dir}/{output_file}.geojson\")\n",
    "            LayerToGDF(project, layer, crs)\n",
    "        else:\n",
    "            return gpd.GeoDataFrame.from_file(f\"{geojson_dir}/{output_file}.geojson\").to_crs(crs)\n",
    "\n",
    "    arcpy.conversion.FeaturesToJSON(layer, f\"{geojson_dir}/{output_file}.geojson\", geoJSON = True)\n",
    "    return gpd.GeoDataFrame.from_file(f\"{geojson_dir}/{output_file}.geojson\").to_crs(crs)\n",
    "\n",
    "def GDFToLayer(gdf, out_features, geometry_type, project):\n",
    "    \"\"\"\n",
    "    Inputs:\n",
    "    gdf (GeoDataFrame)\n",
    "    out_features (string)\n",
    "    geometry_type (string)\n",
    "    project (arcpy._mp.ArcGISProject)\n",
    "    Output:\n",
    "    None -> Prints status message\n",
    "    \"\"\"\n",
    "    #Assert Geojson dir and shapefile dir are defined\n",
    "    assert geojson_dir and shapefile_dir\n",
    "    \n",
    "    if (os.path.exists(f\"{shapefile_dir}/{out_features}.shp\")):\n",
    "        _owrite = input(f\"This Shapefile ({out_features}) has already been created, would you like to overwite (y/n)\").lower()\n",
    "        if _owrite == \"y\":\n",
    "            os.remove(f\"{geojson_dir}/{out_features}.geojson\")\n",
    "            for f in glob.glob(f\"{shapefile_dir}/{out_features}.*\"):\n",
    "                os.remove(f)\n",
    "            GDFToLayer(gdf, out_features, geometry_type, project)\n",
    "        else: \n",
    "            arcpy.conversion.FeatureClassToGeodatabase(f\"{shapefile_dir}/{out_features}.shp\", project.defaultGeodatabase)\n",
    "            return\n",
    "        \n",
    "    else: #Create new GeoJSON and shp\n",
    "        #Write GeoDataFrame to a GeoJSON in the geojson_dir \n",
    "        gdf.to_file(f\"{geojson_dir}/{out_features}.geojson\", driver=\"GeoJSON\")\n",
    "        #Read new GeoJSON to a shapefile\n",
    "        arcpy.conversion.JSONToFeatures(f\"{geojson_dir}/{out_features}.geojson\", f\"{shapefile_dir}/{out_features}\", geometry_type = geometry_type)\n",
    "    \n",
    "    #Add shapefile to project as a layer\n",
    "    arcpy.conversion.FeatureClassToGeodatabase(f\"{shapefile_dir}/{out_features}.shp\", project.defaultGeodatabase)\n",
    "    \n",
    "    print(\"Successfully added to geodatabase\")\n",
    "    return"
   ]
  },
  {
   "cell_type": "markdown",
   "id": "91c7220a",
   "metadata": {},
   "source": [
    "# Perform Analysis"
   ]
  },
  {
   "cell_type": "markdown",
   "id": "9307be29",
   "metadata": {},
   "source": [
    "### Pull Layers into GeoDataFrames"
   ]
  },
  {
   "cell_type": "code",
   "execution_count": 23,
   "id": "293cd138",
   "metadata": {},
   "outputs": [
    {
     "name": "stdout",
     "output_type": "stream",
     "text": [
      "This GeoJSON (jldp_roads_root_2022_02) has already been created, would you like to overwite (y/n)n\n",
      "This GeoJSON (lora_tracking_3) has already been created, would you like to overwite (y/n)n\n"
     ]
    }
   ],
   "source": [
    "layer_list = [layer.name for layer in mp.listLayers()]\n",
    "roads_jldp = mp.listLayers()[0]\n",
    "lora_tracking_jldp = mp.listLayers()[1]\n",
    "\n",
    "roads_jldp_gdf = LayerToGDF(aprx, roads_jldp, \"EPSG:4326\")\n",
    "lora_jldp_gdf = LayerToGDF(aprx, lora_tracking_jldp, \"EPSG:4326\")"
   ]
  },
  {
   "cell_type": "markdown",
   "id": "4097a96b",
   "metadata": {},
   "source": [
    "### Clip Data to JLDP Boundary"
   ]
  },
  {
   "cell_type": "code",
   "execution_count": 24,
   "id": "e9e59acb",
   "metadata": {},
   "outputs": [],
   "source": [
    "jldp_bounds = gpd.read_file(\"C:/Users/jinsu.elhance/Box/000. Jinsu Elhance/HelpfulShapes/Shapefiles/DP_Boundary.shp\")\n",
    "\n",
    "lora_jldp_gdf_clipped = gpd.clip(lora_jldp_gdf, jldp_bounds)\n",
    "roads_jldp_gdf_clipped = gpd.clip(roads_jldp_gdf, jldp_bounds)"
   ]
  },
  {
   "cell_type": "markdown",
   "id": "5eb47e03",
   "metadata": {},
   "source": [
    "### Generate Near Table"
   ]
  },
  {
   "cell_type": "code",
   "execution_count": 25,
   "id": "2d009c97",
   "metadata": {},
   "outputs": [
    {
     "name": "stdout",
     "output_type": "stream",
     "text": [
      "File already exists\n"
     ]
    }
   ],
   "source": [
    "try:\n",
    "    arcpy.analysis.GenerateNearTable(lora_tracking_jldp, roads_jldp, \"lora_road_near_table\", \"20 meters\", closest=True)\n",
    "except:\n",
    "    print(\"File already exists\")"
   ]
  },
  {
   "cell_type": "code",
   "execution_count": 26,
   "id": "bae1ea8d",
   "metadata": {},
   "outputs": [],
   "source": [
    "near_table_ptr = arcpy.ListTables(\"lora_road_near_table\")[0]\n",
    "_fieldnames = [field.name for field in arcpy.da.Describe(near_table_ptr)['fields']]"
   ]
  },
  {
   "cell_type": "markdown",
   "id": "a02e59c0",
   "metadata": {},
   "source": [
    "### Joining Lora Tracking Data to Roads"
   ]
  },
  {
   "cell_type": "code",
   "execution_count": 27,
   "id": "c2fb7f32",
   "metadata": {},
   "outputs": [],
   "source": [
    "near_table = gpd.GeoDataFrame(arcpy.da.TableToNumPyArray(\"lora_road_near_table\", _fieldnames))"
   ]
  },
  {
   "cell_type": "code",
   "execution_count": 28,
   "id": "396804aa",
   "metadata": {},
   "outputs": [],
   "source": [
    "_lora_road_join = (lora_jldp_gdf_clipped\n",
    "    .merge(near_table, left_on = \"FID\", right_on=\"IN_FID\", how=\"left\")\n",
    "    .rename(columns={'NEAR_FID':'road_ID'}))\n",
    "\n",
    "_lora_road_join['date'] = _lora_road_join['rec_tm_utc'].dt.floor(\"D\")\n",
    "\n",
    "daily_road_use = (_lora_road_join\n",
    "                  .groupby(['road_ID', 'date', 'dev'])[['road_ID', 'date', 'dev']]\n",
    "                  .agg(lambda x: None or x))\n",
    "\n",
    "daily_road_use['month'] = _lora_road_join['date'].dt.strftime('%Y/%m')\n",
    "daily_road_use['year'] = _lora_road_join['date'].dt.strftime('%Y')\n",
    "\n",
    "monthly_road_use = (daily_road_use\n",
    "                    .groupby(['road_ID', 'month'])[['dev']]\n",
    "                    .count()\n",
    "                    .rename(columns = {\"dev\":'vehicle_count'})\n",
    "                    .reset_index())\n",
    "\n",
    "yearly_road_use = (daily_road_use\n",
    "                   .groupby(['road_ID', 'year'])[['dev']]\n",
    "                   .count()\n",
    "                   .rename(columns = {\"dev\":'vehicle_count'})\n",
    "                   .reset_index())\n",
    "\n",
    "total_road_use = (daily_road_use\n",
    "                  .groupby(['road_ID'])[['dev']]\n",
    "                  .count()\n",
    "                  .rename(columns = {\"dev\": 'vehicle_count'})\n",
    "                  .reset_index())"
   ]
  },
  {
   "cell_type": "code",
   "execution_count": 40,
   "id": "bb25f1fe",
   "metadata": {},
   "outputs": [
    {
     "data": {
      "text/html": [
       "<div>\n",
       "<style scoped>\n",
       "    .dataframe tbody tr th:only-of-type {\n",
       "        vertical-align: middle;\n",
       "    }\n",
       "\n",
       "    .dataframe tbody tr th {\n",
       "        vertical-align: top;\n",
       "    }\n",
       "\n",
       "    .dataframe thead th {\n",
       "        text-align: right;\n",
       "    }\n",
       "</style>\n",
       "<table border=\"1\" class=\"dataframe\">\n",
       "  <thead>\n",
       "    <tr style=\"text-align: right;\">\n",
       "      <th></th>\n",
       "      <th>FID</th>\n",
       "      <th>Type</th>\n",
       "      <th>Road_Compo</th>\n",
       "      <th>Condition</th>\n",
       "      <th>Safety_Lev</th>\n",
       "      <th>Notes</th>\n",
       "      <th>Length</th>\n",
       "      <th>name</th>\n",
       "      <th>road_type</th>\n",
       "      <th>vehicle_ty</th>\n",
       "      <th>...</th>\n",
       "      <th>comments</th>\n",
       "      <th>compositio</th>\n",
       "      <th>Tier</th>\n",
       "      <th>Flag</th>\n",
       "      <th>Pasture</th>\n",
       "      <th>Zone</th>\n",
       "      <th>GlobalID</th>\n",
       "      <th>Shape__Length</th>\n",
       "      <th>geometry</th>\n",
       "      <th>vehicle_count</th>\n",
       "    </tr>\n",
       "    <tr>\n",
       "      <th>road_ID</th>\n",
       "      <th></th>\n",
       "      <th></th>\n",
       "      <th></th>\n",
       "      <th></th>\n",
       "      <th></th>\n",
       "      <th></th>\n",
       "      <th></th>\n",
       "      <th></th>\n",
       "      <th></th>\n",
       "      <th></th>\n",
       "      <th></th>\n",
       "      <th></th>\n",
       "      <th></th>\n",
       "      <th></th>\n",
       "      <th></th>\n",
       "      <th></th>\n",
       "      <th></th>\n",
       "      <th></th>\n",
       "      <th></th>\n",
       "      <th></th>\n",
       "      <th></th>\n",
       "    </tr>\n",
       "  </thead>\n",
       "  <tbody>\n",
       "    <tr>\n",
       "      <th>252.0</th>\n",
       "      <td>252</td>\n",
       "      <td>Rugged - 2x2</td>\n",
       "      <td>Dirt/Grass</td>\n",
       "      <td>Poor</td>\n",
       "      <td>4.0</td>\n",
       "      <td></td>\n",
       "      <td>290.599869</td>\n",
       "      <td>CMT Road</td>\n",
       "      <td>Primary Dirt Road</td>\n",
       "      <td>AWD Vehicle</td>\n",
       "      <td>...</td>\n",
       "      <td></td>\n",
       "      <td>Dirt/Grass</td>\n",
       "      <td>Tier 2</td>\n",
       "      <td>Restoration</td>\n",
       "      <td>54</td>\n",
       "      <td>Cojo Coast</td>\n",
       "      <td>{43840fc8-7bbd-4187-8e8a-a60c28bd7c56}</td>\n",
       "      <td>953.409737</td>\n",
       "      <td>LINESTRING Z (-120.42018 34.45319 0.00000, -12...</td>\n",
       "      <td>236.0</td>\n",
       "    </tr>\n",
       "    <tr>\n",
       "      <th>251.0</th>\n",
       "      <td>251</td>\n",
       "      <td>Rugged - 2x2</td>\n",
       "      <td>Asphalt</td>\n",
       "      <td>Good</td>\n",
       "      <td>5.0</td>\n",
       "      <td></td>\n",
       "      <td>174.457302</td>\n",
       "      <td>Cojo Bay Road</td>\n",
       "      <td>Paved Private Road</td>\n",
       "      <td>2WD Vehicle</td>\n",
       "      <td>...</td>\n",
       "      <td></td>\n",
       "      <td>Asphalt</td>\n",
       "      <td>Tier 1</td>\n",
       "      <td></td>\n",
       "      <td>54</td>\n",
       "      <td>Cojo Coast</td>\n",
       "      <td>{caeed10b-cbd1-4469-ac19-0c3993e111a7}</td>\n",
       "      <td>284.358726</td>\n",
       "      <td>LINESTRING Z (-120.42018 34.45319 0.00000, -12...</td>\n",
       "      <td>22.0</td>\n",
       "    </tr>\n",
       "    <tr>\n",
       "      <th>492.0</th>\n",
       "      <td>492</td>\n",
       "      <td>Rugged - 2x2</td>\n",
       "      <td>Asphalt</td>\n",
       "      <td>Good</td>\n",
       "      <td>5.0</td>\n",
       "      <td></td>\n",
       "      <td>39.041557</td>\n",
       "      <td>Cojo Bay Road</td>\n",
       "      <td>Paved Private Road</td>\n",
       "      <td>2WD Vehicle</td>\n",
       "      <td>...</td>\n",
       "      <td></td>\n",
       "      <td>Asphalt</td>\n",
       "      <td>Tier 1</td>\n",
       "      <td></td>\n",
       "      <td>Steve's Flat?</td>\n",
       "      <td>Cojo Coast</td>\n",
       "      <td>{893e189c-830f-4e25-8e1e-150728b6505e}</td>\n",
       "      <td>128.088841</td>\n",
       "      <td>MULTILINESTRING Z ((-120.42024 34.45353 0.0000...</td>\n",
       "      <td>3.0</td>\n",
       "    </tr>\n",
       "    <tr>\n",
       "      <th>259.0</th>\n",
       "      <td>259</td>\n",
       "      <td>Rugged - 4x4</td>\n",
       "      <td>Dirt/Grass</td>\n",
       "      <td>Poor</td>\n",
       "      <td>3.0</td>\n",
       "      <td>washouts</td>\n",
       "      <td>729.883927</td>\n",
       "      <td>UTV Test</td>\n",
       "      <td>Backcountry Road</td>\n",
       "      <td>ATV/UTV</td>\n",
       "      <td>...</td>\n",
       "      <td></td>\n",
       "      <td>Dirt/Grass</td>\n",
       "      <td>Tier 3</td>\n",
       "      <td>Rain</td>\n",
       "      <td>Steve's Flat?</td>\n",
       "      <td>Cojo Coast</td>\n",
       "      <td>{ebd68f6a-4b6d-4919-a95f-ea557ca0b7bf}</td>\n",
       "      <td>2394.627519</td>\n",
       "      <td>MULTILINESTRING Z ((-120.42024 34.45359 0.0000...</td>\n",
       "      <td>9.0</td>\n",
       "    </tr>\n",
       "    <tr>\n",
       "      <th>NaN</th>\n",
       "      <td>793</td>\n",
       "      <td>Rugged - 2x2</td>\n",
       "      <td>Asphalt</td>\n",
       "      <td>Good</td>\n",
       "      <td>5.0</td>\n",
       "      <td></td>\n",
       "      <td>6.743531</td>\n",
       "      <td>Cojo Bay Road</td>\n",
       "      <td>Paved Private Road</td>\n",
       "      <td>2WD Vehicle</td>\n",
       "      <td>...</td>\n",
       "      <td></td>\n",
       "      <td>Asphalt</td>\n",
       "      <td>Tier 1</td>\n",
       "      <td></td>\n",
       "      <td>Steve's Flat?</td>\n",
       "      <td>Cojo Coast</td>\n",
       "      <td>{855ba6ce-6b25-4b38-a6b8-0d5078a1235e}</td>\n",
       "      <td>22.124400</td>\n",
       "      <td>LINESTRING Z (-120.42024 34.45359 0.00000, -12...</td>\n",
       "      <td>NaN</td>\n",
       "    </tr>\n",
       "  </tbody>\n",
       "</table>\n",
       "<p>5 rows × 21 columns</p>\n",
       "</div>"
      ],
      "text/plain": [
       "         FID          Type  Road_Compo Condition  Safety_Lev     Notes  \\\n",
       "road_ID                                                                  \n",
       "252.0    252  Rugged - 2x2  Dirt/Grass      Poor         4.0             \n",
       "251.0    251  Rugged - 2x2     Asphalt      Good         5.0             \n",
       "492.0    492  Rugged - 2x2     Asphalt      Good         5.0             \n",
       "259.0    259  Rugged - 4x4  Dirt/Grass      Poor         3.0  washouts   \n",
       "NaN      793  Rugged - 2x2     Asphalt      Good         5.0             \n",
       "\n",
       "             Length           name           road_type   vehicle_ty  ...  \\\n",
       "road_ID                                                              ...   \n",
       "252.0    290.599869       CMT Road   Primary Dirt Road  AWD Vehicle  ...   \n",
       "251.0    174.457302  Cojo Bay Road  Paved Private Road  2WD Vehicle  ...   \n",
       "492.0     39.041557  Cojo Bay Road  Paved Private Road  2WD Vehicle  ...   \n",
       "259.0    729.883927       UTV Test    Backcountry Road      ATV/UTV  ...   \n",
       "NaN        6.743531  Cojo Bay Road  Paved Private Road  2WD Vehicle  ...   \n",
       "\n",
       "        comments  compositio    Tier         Flag        Pasture        Zone  \\\n",
       "road_ID                                                                        \n",
       "252.0             Dirt/Grass  Tier 2  Restoration             54  Cojo Coast   \n",
       "251.0                Asphalt  Tier 1                          54  Cojo Coast   \n",
       "492.0                Asphalt  Tier 1               Steve's Flat?  Cojo Coast   \n",
       "259.0             Dirt/Grass  Tier 3         Rain  Steve's Flat?  Cojo Coast   \n",
       "NaN                  Asphalt  Tier 1               Steve's Flat?  Cojo Coast   \n",
       "\n",
       "                                       GlobalID Shape__Length  \\\n",
       "road_ID                                                         \n",
       "252.0    {43840fc8-7bbd-4187-8e8a-a60c28bd7c56}    953.409737   \n",
       "251.0    {caeed10b-cbd1-4469-ac19-0c3993e111a7}    284.358726   \n",
       "492.0    {893e189c-830f-4e25-8e1e-150728b6505e}    128.088841   \n",
       "259.0    {ebd68f6a-4b6d-4919-a95f-ea557ca0b7bf}   2394.627519   \n",
       "NaN      {855ba6ce-6b25-4b38-a6b8-0d5078a1235e}     22.124400   \n",
       "\n",
       "                                                  geometry vehicle_count  \n",
       "road_ID                                                                   \n",
       "252.0    LINESTRING Z (-120.42018 34.45319 0.00000, -12...         236.0  \n",
       "251.0    LINESTRING Z (-120.42018 34.45319 0.00000, -12...          22.0  \n",
       "492.0    MULTILINESTRING Z ((-120.42024 34.45353 0.0000...           3.0  \n",
       "259.0    MULTILINESTRING Z ((-120.42024 34.45359 0.0000...           9.0  \n",
       "NaN      LINESTRING Z (-120.42024 34.45359 0.00000, -12...           NaN  \n",
       "\n",
       "[5 rows x 21 columns]"
      ]
     },
     "execution_count": 40,
     "metadata": {},
     "output_type": "execute_result"
    }
   ],
   "source": [
    "total_road_use_lines = gpd.GeoDataFrame(roads_jldp_gdf_clipped\n",
    "                       .merge(total_road_use, left_on=\"FID\", right_on=\"road_ID\", how=\"left\")\n",
    "                       .set_index('road_ID'))\n",
    "\n",
    "total_road_use_lines.head()"
   ]
  },
  {
   "cell_type": "code",
   "execution_count": 41,
   "id": "c0a0f093",
   "metadata": {},
   "outputs": [],
   "source": [
    "monthly = (roads_jldp_gdf_clipped\n",
    "    .merge(monthly_road_use, left_on=\"FID\", right_on=\"road_ID\", how=\"right\")[['road_ID', 'geometry', 'month', 'vehicle_count']]\n",
    "    .sort_values('month')\n",
    "    .set_index('road_ID'))\n",
    "\n",
    "#monthly.head()"
   ]
  },
  {
   "cell_type": "markdown",
   "id": "ac44571f",
   "metadata": {},
   "source": [
    "### Write Data Back to ArcGIS Project"
   ]
  },
  {
   "cell_type": "code",
   "execution_count": 42,
   "id": "ee38c29d",
   "metadata": {},
   "outputs": [
    {
     "name": "stdout",
     "output_type": "stream",
     "text": [
      "This Shapefile (monthly_road_use) has already been created, would you like to overwite (y/n)n\n",
      "Successfully added to geodatabase\n"
     ]
    }
   ],
   "source": [
    "GDFToLayer(monthly, \"monthly_road_use\", \"POLYLINE\", aprx)\n",
    "GDFToLayer(total_road_use_lines, \"total_road_use\", \"POLYLINE\", aprx)"
   ]
  },
  {
   "cell_type": "markdown",
   "id": "523f6a0e",
   "metadata": {},
   "source": [
    "### Attempted Methods"
   ]
  },
  {
   "cell_type": "code",
   "execution_count": 22,
   "id": "1d701608",
   "metadata": {},
   "outputs": [],
   "source": [
    "lora_tracking_jldp_df = pd.DataFrame.spatial.from_featureclass(\"lora_tracking_3\")"
   ]
  }
 ],
 "metadata": {
  "kernelspec": {
   "display_name": "Python 3",
   "language": "python",
   "name": "python3"
  },
  "language_info": {
   "codemirror_mode": {
    "name": "ipython",
    "version": 3
   },
   "file_extension": ".py",
   "mimetype": "text/x-python",
   "name": "python",
   "nbconvert_exporter": "python",
   "pygments_lexer": "ipython3",
   "version": "3.9.11"
  },
  "toc": {
   "base_numbering": 1,
   "nav_menu": {},
   "number_sections": true,
   "sideBar": true,
   "skip_h1_title": false,
   "title_cell": "Table of Contents",
   "title_sidebar": "Contents",
   "toc_cell": false,
   "toc_position": {},
   "toc_section_display": true,
   "toc_window_display": false
  },
  "varInspector": {
   "cols": {
    "lenName": 16,
    "lenType": 16,
    "lenVar": 40
   },
   "kernels_config": {
    "python": {
     "delete_cmd_postfix": "",
     "delete_cmd_prefix": "del ",
     "library": "var_list.py",
     "varRefreshCmd": "print(var_dic_list())"
    },
    "r": {
     "delete_cmd_postfix": ") ",
     "delete_cmd_prefix": "rm(",
     "library": "var_list.r",
     "varRefreshCmd": "cat(var_dic_list()) "
    }
   },
   "types_to_exclude": [
    "module",
    "function",
    "builtin_function_or_method",
    "instance",
    "_Feature"
   ],
   "window_display": false
  }
 },
 "nbformat": 4,
 "nbformat_minor": 5
}
