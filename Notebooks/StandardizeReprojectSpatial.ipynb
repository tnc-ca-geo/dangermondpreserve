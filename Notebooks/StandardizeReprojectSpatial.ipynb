{
 "cells": [
  {
   "cell_type": "markdown",
   "id": "c09e01f1",
   "metadata": {},
   "source": [
    "# Standardizing and Reprojecting Spatial Data\n",
    "This script can be run to comb through a provided directory to conduct the following conversions:\n",
    "\n",
    "Parameters:\n",
    "- DataPath (string) - The path to a folder containing GEOTIFFS, Shapefiles (can be a nested directory)\n",
    "- DestinationPath (string) - The path for the folder into which the standardized and reprojected data will be saved.\n",
    "- Resolution (integer) - The required resolution in meters (default 2 meters)\n",
    "- Projection (string) - Desired EPSG projection name string (default EPSG:4326)\n",
    "\n",
    "Required continued input: \n",
    "For each shapefile layer the user will be prompted to select a series of analyses techniques to be run on the objects, each analysis output is written to a different file with the path structure \"your_shapefile_raster_pointDensity\" for example."
   ]
  },
  {
   "cell_type": "code",
   "execution_count": 37,
   "id": "a3f87791",
   "metadata": {},
   "outputs": [],
   "source": [
    "import numpy as np\n",
    "import glob\n",
    "import geopandas as gpd\n",
    "import pandas as pd\n",
    "import arcpy\n",
    "import dotenv \n",
    "import os\n",
    "\n",
    "dotenv.load_dotenv()\n",
    "\n",
    "USER_DIR = dotenv.get_key(\".env\", key_to_get = \"USER_DIR\")"
   ]
  },
  {
   "cell_type": "code",
   "execution_count": 38,
   "id": "3355f6ab",
   "metadata": {},
   "outputs": [
    {
     "name": "stdout",
     "output_type": "stream",
     "text": [
      "Found file: i02_NCCAG_Vegetation.shp\n",
      "Found file: i02_NCCAG_Wetlands.shp\n",
      "Found file: jldp_flow_acc.tif\n"
     ]
    }
   ],
   "source": [
    "data_path = f\"{USER_DIR}/Box/0_Dangermond Preserve_Core Team/Conservation Technology_DP/data/FreshwaterData\"\n",
    "\n",
    "file_exts = [\"shp\", \"tif\"]\n",
    "found_inputs = {ext:[] for ext in file_exts}\n",
    "\n",
    "for ext in file_exts: \n",
    "    _flist = glob.glob(f\"{data_path}/**/*.{ext}\", recursive=True)\n",
    "    for _f in _flist:\n",
    "        print(f\"Found file: {os.path.basename(p = _f)}\")\n",
    "        \n",
    "    found_inputs = {ext: _flist}\n",
    "\n",
    "#If you want to include shapefiles or raster layers from AGO, provide their ids here\n",
    "AGO_IDs = {\"jldp_wells\": \"816a5a6db6134b2ab1bf6815d2ca9978\", \"jldp_streams\":\"7c4fb7bf8b4e47f1ace186b24152bb1b\", \"springs\":\"4086f9db1d484ae999a3d35558ed97bc\"}"
   ]
  },
  {
   "cell_type": "markdown",
   "id": "2a883c8b",
   "metadata": {},
   "source": [
    "### Processing Point Data\n",
    "\n",
    "### Processing Polygon Data\n",
    "\n",
    "### Processing Raster Data\n",
    "Raster data may be input at higher or lower resolutions than requested, as a result they may be interpolated, downscaled, or upscaled for analysis. \n",
    "\n",
    "Interpolation avoids the creation of hard-edges in the output raster, but introduces uncertainty into the data. The degree of uncertainty is informed by the interpolation method itself. \n",
    "\n",
    "Using `rasterio`; a python package for analyzing and processing raster TIFFS"
   ]
  },
  {
   "cell_type": "code",
   "execution_count": null,
   "id": "f6ff425d",
   "metadata": {},
   "outputs": [],
   "source": []
  }
 ],
 "metadata": {
  "kernelspec": {
   "display_name": "Python 3",
   "language": "python",
   "name": "python3"
  },
  "language_info": {
   "codemirror_mode": {
    "name": "ipython",
    "version": 3
   },
   "file_extension": ".py",
   "mimetype": "text/x-python",
   "name": "python",
   "nbconvert_exporter": "python",
   "pygments_lexer": "ipython3",
   "version": "3.9.11"
  },
  "toc": {
   "base_numbering": 1,
   "nav_menu": {},
   "number_sections": true,
   "sideBar": true,
   "skip_h1_title": false,
   "title_cell": "Table of Contents",
   "title_sidebar": "Contents",
   "toc_cell": false,
   "toc_position": {},
   "toc_section_display": true,
   "toc_window_display": false
  },
  "varInspector": {
   "cols": {
    "lenName": 16,
    "lenType": 16,
    "lenVar": 40
   },
   "kernels_config": {
    "python": {
     "delete_cmd_postfix": "",
     "delete_cmd_prefix": "del ",
     "library": "var_list.py",
     "varRefreshCmd": "print(var_dic_list())"
    },
    "r": {
     "delete_cmd_postfix": ") ",
     "delete_cmd_prefix": "rm(",
     "library": "var_list.r",
     "varRefreshCmd": "cat(var_dic_list()) "
    }
   },
   "types_to_exclude": [
    "module",
    "function",
    "builtin_function_or_method",
    "instance",
    "_Feature"
   ],
   "window_display": false
  }
 },
 "nbformat": 4,
 "nbformat_minor": 5
}
