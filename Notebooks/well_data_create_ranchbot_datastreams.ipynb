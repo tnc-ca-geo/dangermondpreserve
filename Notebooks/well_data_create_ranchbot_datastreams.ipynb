{
 "cells": [
  {
   "cell_type": "markdown",
   "id": "f89f4be0",
   "metadata": {},
   "source": [
    "# Create New Datastreams of Ranchbot Devices\n",
    "\n",
    "This script was created following the integration of Ranchbot data to Dendra. Currently a webhook pipes Ranchbot data as it arrives into Dendra tables. To set up datastreams for existing Ranchbot devices as well as to prepare for anticipated new installations, this script creates new datastreams on Dendra to surface the stored Ranchbot data. Each well at the Dangermond Preserve already has a station on Dendra.\n",
    "\n",
    "When new ranchbot devices are installed and datastreams need to be created for them on Dendra follow this workflow:\n",
    "\n",
    "1. Reach out to Scott @ Dendra to let him know that data should be arriving on Dendra from the new ranchbots.\n",
    "2. Scott will send you a spreadsheet with information about where that data is stored on Dendra. This table will have fields for sensor_depth for you to fill out.\n",
    "3. Either run this script on a csv generated from the filled out spreadsheet, or ask Scott to set up the datastreams. "
   ]
  },
  {
   "cell_type": "markdown",
   "id": "057c5300",
   "metadata": {},
   "source": [
    "# Load Libraries"
   ]
  },
  {
   "cell_type": "code",
   "execution_count": 48,
   "id": "e5ff53ae",
   "metadata": {
    "ExecuteTime": {
     "end_time": "2023-02-15T18:06:23.149256Z",
     "start_time": "2023-02-15T18:06:13.958121Z"
    }
   },
   "outputs": [],
   "source": [
    "import pandas as pd\n",
    "import numpy as np\n",
    "import os\n",
    "from copy import deepcopy\n",
    "import sys\n",
    "import getpass\n",
    "import json\n",
    "import requests\n",
    "\n",
    "den_utils_path = \"../ArcGIS Tools/Utils/\"\n",
    "sys.path.append(den_utils_path)\n",
    "import well_data_dendra_helpers as dendra\n",
    "\n",
    "url = 'https://api.dendra.science/v2/'  \n",
    "headers = {\"Content-Type\":\"application/json\"}"
   ]
  },
  {
   "cell_type": "code",
   "execution_count": 49,
   "id": "0aa22c3a",
   "metadata": {},
   "outputs": [],
   "source": [
    "#Authenticate Dendra User:\n",
    "# If you have a login and the data is not public, you must authenticate using your Dendra login\n",
    "dendra_user = \"YOURDENDRAEMAIL\"\n",
    "dendra_pass = getpass.getpass()\n",
    "\n",
    "\n",
    "creds = {\n",
    "    'email': dendra_user,\n",
    "    'strategy': 'local',\n",
    "    'password': dendra_pass\n",
    "}\n",
    "\n",
    "r = requests.post(url+'authentication', json=creds)\n",
    "if r.status_code != 201:\n",
    "    raise AssertionError(\"Dendra authentication failed, check your email/password\")\n",
    "\n",
    "token = r.json()['accessToken']\n",
    "headers['Authorization'] = token"
   ]
  },
  {
   "cell_type": "code",
   "execution_count": 71,
   "id": "15267672",
   "metadata": {},
   "outputs": [],
   "source": [
    "#Point to folder where jsons for dendra API can be stored\n",
    "if not os.path.exists(\"./DendraJSONs\"):\n",
    "    os.mkdir(\"./DendraJSONs\")\n",
    "    os.mkdir(\"./DendraJSONs/Stations\")\n",
    "    os.mkdir(\"./DendraJSONs/Datastreams\")\n",
    "    os.mkdir(\"./DendraJSONs/Annotations\")\n",
    "\n",
    "if not os.path.exists(\"./DendraJSONs/Requests\"):\n",
    "    os.mkdir(\"./DendraJSONs/Requests\")\n",
    "    \n",
    "dendra_dir = \"./DendraJSONs/\"\n",
    "\n"
   ]
  },
  {
   "cell_type": "markdown",
   "id": "88b55da3",
   "metadata": {},
   "source": [
    "# Fetch metadata on datastreams to create"
   ]
  },
  {
   "cell_type": "code",
   "execution_count": 88,
   "id": "6845f606",
   "metadata": {},
   "outputs": [],
   "source": [
    "datastreams = pd.read_csv(\"TNCRanchbotDendraTables.csv\")\n",
    "column_to_template = {\n",
    "    \"sensor_109_mm\": \"ranchbot_dailyrainfall.json\",\n",
    "    \"sensor_127_m\": \"ranchbot_depthtogroundwater.json\",\n",
    "    \"sensor_107_degc\":  \"ranchbot_watertemperature.json\"\n",
    "}"
   ]
  },
  {
   "cell_type": "code",
   "execution_count": 83,
   "id": "b03208e0",
   "metadata": {},
   "outputs": [],
   "source": [
    "#Iterate through datastreams to create and create new jsons\n",
    "for _i, data in datastreams.iterrows():\n",
    "    datastream_template_file = column_to_template.get(data['column'][:-7])\n",
    "    if not datastream_template_file:\n",
    "        continue\n",
    "\n",
    "    with open(f\"{dendra_dir}/Templates/{datastream_template_file}\") as datastream_template_raw:\n",
    "        datastream_template = deepcopy(json.load(datastream_template_raw))\n",
    "    \n",
    "    station_metadata = requests.get(url + \"stations/\", headers=headers, params = {\"_id\":data['station_id']}).json()['data'][0]\n",
    "\n",
    "    #Populate datastream metadata\n",
    "    datapoints_query = datastream_template['datapoints_config'][0]['params']['query']\n",
    "    datapoints_query['fc'] = data['fc']\n",
    "    datapoints_query['sc'] = datapoints_query['sc'].replace(\"VARIABLEID\", data['column'].split(\"_\")[-1])\n",
    "    datapoints_query['source'] = datapoints_query['source'].replace(\"DEVICEID\", data['fc'])\n",
    "    datastream_template['datapoints_config'][0]['params']['query'] = datapoints_query\n",
    "\n",
    "    datastream_template['description'] = datastream_template['description'].replace(\"DEVICEID\", data['fc'].split(\"_\")[1])\n",
    "    datastream_template['description'] = datastream_template['description'].replace(\"STATIONNAME\", station_metadata['name'])\n",
    "    datastream_template['station_id'] = station_metadata['_id']\n",
    "\n",
    "    #If depth to groundwater, set sensor depth\n",
    "    if \"sensor_127_m\" in data['column']:\n",
    "        datastream_template['attributes']['ranchbot_sensor_depth'] = data['sensor_depth']\n",
    "\n",
    "    datastream_template[\"geo\"] = station_metadata['geo']\n",
    "    \n",
    "    # Write the JSON objects to a file\n",
    "    with open(f\"{dendra_dir}/Requests/{station_metadata['slug']}-{data['column']}.datastream.json\", 'w') as json_file:\n",
    "        json.dump(datastream_template, json_file, indent=4)"
   ]
  },
  {
   "cell_type": "code",
   "execution_count": 84,
   "id": "682bdcc7",
   "metadata": {},
   "outputs": [
    {
     "name": "stdout",
     "output_type": "stream",
     "text": [
      "\n",
      "Created:       ./DendraJSONs/Requests/dangermond-escondido-3-sensor_107_degc_214573.datastream.json\n",
      "Created:       ./DendraJSONs/Requests/dangermond-escondido-3-sensor_109_mm_225791.datastream.json\n",
      "Created:       ./DendraJSONs/Requests/dangermond-escondido-3-sensor_127_m_225790.datastream.json\n",
      "Created:       ./DendraJSONs/Requests/dangermond-escondido5-sensor_107_degc_195322.datastream.json\n",
      "Created:       ./DendraJSONs/Requests/dangermond-escondido5-sensor_109_mm_197851.datastream.json\n",
      "Created:       ./DendraJSONs/Requests/dangermond-escondido5-sensor_127_m_196054.datastream.json\n",
      "Created:       ./DendraJSONs/Requests/dangermond-lowerjalamavaqueros-sensor_107_degc_214589.datastream.json\n",
      "Created:       ./DendraJSONs/Requests/dangermond-lowerjalamavaqueros-sensor_109_mm_221165.datastream.json\n",
      "Created:       ./DendraJSONs/Requests/dangermond-lowerjalamavaqueros-sensor_127_m_221164.datastream.json\n",
      "Created:       ./DendraJSONs/Requests/dangermond-oaks2-sensor_107_degc_214653.datastream.json\n",
      "Created:       ./DendraJSONs/Requests/dangermond-oaks2-sensor_109_mm_223691.datastream.json\n",
      "Created:       ./DendraJSONs/Requests/dangermond-oaks5-sensor_107_degc_214571.datastream.json\n",
      "Created:       ./DendraJSONs/Requests/dangermond-oaks5-sensor_109_mm_221448.datastream.json\n",
      "Created:       ./DendraJSONs/Requests/dangermond-oaks5-sensor_127_m_221447.datastream.json\n",
      "Created:       ./DendraJSONs/Requests/dangermond-tinta2-sensor_107_degc_214547.datastream.json\n",
      "Created:       ./DendraJSONs/Requests/dangermond-tinta2-sensor_127_m_225306.datastream.json\n",
      "Created:       ./DendraJSONs/Requests/dangermond-tinta5-sensor_107_degc_214665.datastream.json\n",
      "Created:       ./DendraJSONs/Requests/dangermond-tinta5-sensor_109_mm_221176.datastream.json\n",
      "Created:       ./DendraJSONs/Requests/dangermond-tinta5-sensor_127_m_221175.datastream.json\n",
      "Created:       ./DendraJSONs/Requests/dangermond-tinta6-sensor_107_degc_214374.datastream.json\n",
      "Created:       ./DendraJSONs/Requests/dangermond-tinta6-sensor_109_mm_214377.datastream.json\n",
      "Created:       ./DendraJSONs/Requests/dangermond-tinta6-sensor_127_m_225302.datastream.json\n",
      "Created:       ./DendraJSONs/Requests/old-espada-water-tank-sensor_109_mm_195175.datastream.json\n",
      "\n",
      "Done!\n"
     ]
    }
   ],
   "source": [
    "#Run this cell to push those stations to Dendra!\n",
    "!den meta push-datastreams --filespec=$dendra_dir/Requests/*.datastream.json --verbose"
   ]
  },
  {
   "cell_type": "code",
   "execution_count": null,
   "id": "2fc7cd32",
   "metadata": {},
   "outputs": [],
   "source": []
  }
 ],
 "metadata": {
  "kernelspec": {
   "display_name": "Python 3 (ipykernel)",
   "language": "python",
   "name": "python3"
  },
  "language_info": {
   "codemirror_mode": {
    "name": "ipython",
    "version": 3
   },
   "file_extension": ".py",
   "mimetype": "text/x-python",
   "name": "python",
   "nbconvert_exporter": "python",
   "pygments_lexer": "ipython3",
   "version": "3.9.12"
  },
  "toc": {
   "base_numbering": 1,
   "nav_menu": {},
   "number_sections": true,
   "sideBar": true,
   "skip_h1_title": false,
   "title_cell": "Table of Contents",
   "title_sidebar": "Contents",
   "toc_cell": false,
   "toc_position": {},
   "toc_section_display": true,
   "toc_window_display": false
  },
  "varInspector": {
   "cols": {
    "lenName": 16,
    "lenType": 16,
    "lenVar": 40
   },
   "kernels_config": {
    "python": {
     "delete_cmd_postfix": "",
     "delete_cmd_prefix": "del ",
     "library": "var_list.py",
     "varRefreshCmd": "print(var_dic_list())"
    },
    "r": {
     "delete_cmd_postfix": ") ",
     "delete_cmd_prefix": "rm(",
     "library": "var_list.r",
     "varRefreshCmd": "cat(var_dic_list()) "
    }
   },
   "types_to_exclude": [
    "module",
    "function",
    "builtin_function_or_method",
    "instance",
    "_Feature"
   ],
   "window_display": false
  }
 },
 "nbformat": 4,
 "nbformat_minor": 5
}
