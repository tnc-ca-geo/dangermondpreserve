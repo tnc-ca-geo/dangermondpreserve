{
 "cells": [
  {
   "cell_type": "code",
   "execution_count": 2,
   "id": "0bbf0957",
   "metadata": {},
   "outputs": [],
   "source": [
    "import pandas as pd\n",
    "import numpy as np\n",
    "import os, glob, linecache, uuid\n",
    "import seaborn as sns\n",
    "import re\n",
    "import matplotlib.pyplot as plt\n",
    "from hampel import hampel\n",
    "\n",
    "sns.set(rc={'figure.figsize':(12, 10)})\n",
    "uuid_gen = uuid.uuid4()"
   ]
  },
  {
   "cell_type": "markdown",
   "id": "0a747ed4",
   "metadata": {},
   "source": [
    "### Example of properties on Dendra Station Object\n",
    "{\n",
    "  \"description\": \"\",\n",
    "  \"full_name\": \"\",\n",
    "  \"is_active\": true,\n",
    "  \"is_enabled\": true,\n",
    "  \"is_geo_protected\": false,\n",
    "  \"is_hidden\": false,\n",
    "  \"is_stationary\": true,\n",
    "  \"name\": \"\",\n",
    "  \"slug\": \"name-lower\",\n",
    "  \"state\": \"pending\",\n",
    "  \"time_zone\": \"PST\",\n",
    "  \"organization_id\": \"5eb41ff0883adf89568569d0\",\n",
    "  \"utc_offset\": -28800,\n",
    "  \"station_type\": \"well\"\n",
    "    # Altitude\n",
    "    # Instrument\n",
    "    # Annotations\n",
    "        # Date Start\n",
    "        # Date End\n",
    "        # Depth to Sensor\n",
    "        # Instrument\n",
    "        # Baro Corrected\n",
    "}\n",
    "\n",
    "\n",
    "### Example of properties on Dendra Datastream Object\n",
    "{\n",
    "    \"\"\n",
    "    \n",
    "}\n"
   ]
  },
  {
   "cell_type": "code",
   "execution_count": null,
   "id": "7d0a9004",
   "metadata": {},
   "outputs": [],
   "source": [
    "pd.read_csv(\"\")"
   ]
  }
 ],
 "metadata": {
  "kernelspec": {
   "display_name": "Python 3 (ipykernel)",
   "language": "python",
   "name": "python3"
  },
  "language_info": {
   "codemirror_mode": {
    "name": "ipython",
    "version": 3
   },
   "file_extension": ".py",
   "mimetype": "text/x-python",
   "name": "python",
   "nbconvert_exporter": "python",
   "pygments_lexer": "ipython3",
   "version": "3.9.12"
  },
  "toc": {
   "base_numbering": 1,
   "nav_menu": {},
   "number_sections": true,
   "sideBar": true,
   "skip_h1_title": false,
   "title_cell": "Table of Contents",
   "title_sidebar": "Contents",
   "toc_cell": false,
   "toc_position": {},
   "toc_section_display": true,
   "toc_window_display": false
  }
 },
 "nbformat": 4,
 "nbformat_minor": 5
}
