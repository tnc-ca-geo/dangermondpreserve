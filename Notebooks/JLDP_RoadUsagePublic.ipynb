{
 "cells": [
  {
   "cell_type": "markdown",
   "id": "b73d578e",
   "metadata": {},
   "source": [
    "# Road Usage Analysis Notebook\n",
    "This notebook walks you through the work flow for how road usage data on the Dangermond Preserve was collected, analyzed, and published. This script will require you to point certain variables to relative paths on your machine. As such, running it without setting these paths will fail."
   ]
  },
  {
   "cell_type": "markdown",
   "id": "af082b00",
   "metadata": {},
   "source": [
    "## Include Required Python Packages and Libraries"
   ]
  },
  {
   "cell_type": "code",
   "execution_count": null,
   "id": "a72cf21d",
   "metadata": {},
   "outputs": [],
   "source": [
    "import arcpy\n",
    "import os\n",
    "import glob\n",
    "import pandas as pd\n",
    "import numpy as np\n",
    "import geopandas as gpd\n",
    "from arcgis.features import GeoAccessor, GeoSeriesAccessor\n",
    "from arcgis.gis import GIS\n",
    "from shapely import Point\n",
    "import ipdb\n",
    "import dotenv"
   ]
  },
  {
   "cell_type": "markdown",
   "id": "f161e377",
   "metadata": {},
   "source": [
    "## Use .env to store and reference local paths"
   ]
  },
  {
   "cell_type": "code",
   "execution_count": null,
   "id": "26002354",
   "metadata": {
    "scrolled": true
   },
   "outputs": [],
   "source": [
    "from dotenv import load_dotenv\n",
    "\n",
    "load_dotenv()\n",
    "PROJECT_DIR = dotenv.get_key(\".env\", key_to_get = \"PROJECT_DIR\")"
   ]
  },
  {
   "cell_type": "markdown",
   "id": "8bc5ccd8",
   "metadata": {},
   "source": [
    "## Attach notebook to your ArcGIS Project\n",
    "This notebook references an already created ArcGIS Pro Project. In order to run this script properly, please create an ArcGIS Project with the two following layers added:\n",
    "\n",
    "- 1st - JLDP Roads: https://tnc.maps.arcgis.com/home/item.html?id=000625f21f054e93b67ef44bd4026a49\n",
    "- 2nd - JLDP LoRa Vehicle Tracking: https://tnc.maps.arcgis.com/home/item.html?id=f77e630cfe914483929f2a0bfba230c3\n",
    "\n",
    "- Additionally, store the JLDP Boundary shapefile in your project folder: https://tnc.box.com/s/0f4unpe3dmd6b5uhxpo4z65idv1qnmx6\n",
    "\n",
    "If you do not have permissions to access these datasets please contact: Jinsu.elhance@tnc.org with information regarding your usage and institution. "
   ]
  },
  {
   "cell_type": "code",
   "execution_count": null,
   "id": "951d816a",
   "metadata": {},
   "outputs": [],
   "source": [
    "project_dir = f\"{PROJECT_DIR}/FinalRoadUse/\"\n",
    "aprx = arcpy.mp.ArcGISProject(f\"{project_dir}/FinalRoadUse.aprx\")\n",
    "\n",
    "try:\n",
    "    mp = aprx.listMaps()[0]\n",
    "except IndexError:\n",
    "    print(\"Please add a map to your project\")\n",
    "    \n",
    "arcpy.env.workspace = f\"{project_dir}/your_geodatabase.gdb\" #replace with your project's geodatabase path"
   ]
  },
  {
   "cell_type": "markdown",
   "id": "7270266f",
   "metadata": {},
   "source": [
    "## Create or Identify Directories for GeoJSON and Shapefile Outputs\n",
    "To move files out of the ArcGIS file types and read them into Geopandas (the library used here for spatial analysis) the files must be converted into geojsons. In order to add the final outputs of our analysis back to our project, we convert a geodataframe to a shapefile and place it in the project's geodatabase. "
   ]
  },
  {
   "cell_type": "code",
   "execution_count": null,
   "id": "c451911d",
   "metadata": {},
   "outputs": [],
   "source": [
    "#Check if directories for storing the intermittent geojsons and shapefiles exist, if not, create them. \n",
    "#These can be found in your ArcGIS Project directory. \n",
    "if not os.path.exists(f\"{project_dir}/GeoJSONs\"):\n",
    "    os.makedirs(f\"{project_dir}/GeoJSONs\")\n",
    "geojson_dir = f\"{project_dir}/GeoJSONs\"\n",
    "    \n",
    "if not os.path.exists(f\"{project_dir}/Shapefiles\"):\n",
    "    os.makedirs(f\"{project_dir}/Shapefiles\")\n",
    "shapefile_dir = f\"{project_dir}/Shapefiles\""
   ]
  },
  {
   "cell_type": "markdown",
   "id": "ec634a6e",
   "metadata": {},
   "source": [
    "# Useful Functions"
   ]
  },
  {
   "cell_type": "code",
   "execution_count": null,
   "id": "78132c5a",
   "metadata": {},
   "outputs": [],
   "source": [
    "#Helper functions for manipulating arcpy layers and geodataframes.\n",
    "\n",
    "def getFields(layer):\n",
    "    \"\"\"\n",
    "    Inputs: \n",
    "    layer (arcpy._mp.Layer): Input layer with data table to pull fields from.\n",
    "    Outputs:\n",
    "    list (arcpy._mp.Field): a list of fields from the input layer data table.\n",
    "    \"\"\"\n",
    "    assert type(layer) == arcpy._mp.Layer\n",
    "    _dsc = arcpy.da.Describe(layer)\n",
    "    if _dsc.get('children', False):\n",
    "        print(\"This layer is a grouped layer\")\n",
    "        return None\n",
    "    return arcpy.da.Describe(layer)['fields']\n",
    "\n",
    "def getFieldNames(layer):\n",
    "    \"\"\"\n",
    "    Inputs: \n",
    "    layer (arcpy._mp.Layer): Input layer with data table to pull fields from.\n",
    "    Outputs:\n",
    "    list (string): a list of field names from the input layer data table.\n",
    "    \"\"\"\n",
    "    assert type(layer) == arcpy._mp.Layer\n",
    "    _dsc = arcpy.da.Describe(layer)\n",
    "    if _dsc.get('children', False):\n",
    "        print(\"This layer is a grouped layer\")\n",
    "        return None\n",
    "    return [field.name for field in arcpy.da.Describe(layer)['fields']]\n",
    "\n",
    "def LayerToGDF(project, layer, crs):\n",
    "    \"\"\"\n",
    "    Input: \n",
    "    project (arcpy._mp.ArcGISProject) : Current working project\n",
    "    layer (arc._mp.Layer) : layer with data to be converted to a geodataframe\n",
    "    crs (string) : EPSG crs that you want layer to be projected to. Defaults to 'EPSG:4326'\n",
    "    Output:\n",
    "    returns geopandas geodataframe from layer\n",
    "    \"\"\"\n",
    "    assert type(project) == arcpy._mp.ArcGISProject and geojson_dir\n",
    "    output_file = arcpy.da.Describe(layer)['aliasName']\n",
    "    \n",
    "    if (os.path.exists(f\"{geojson_dir}/{output_file}.geojson\")):\n",
    "        _owrite = input(f\"This GeoJSON ({output_file}) has already been created, would you like to overwite (y/n)\").lower()\n",
    "        if _owrite == \"y\":\n",
    "            os.remove(f\"{geojson_dir}/{output_file}.geojson\")\n",
    "            LayerToGDF(project, layer, crs)\n",
    "        else:\n",
    "            return gpd.GeoDataFrame.from_file(f\"{geojson_dir}/{output_file}.geojson\").to_crs(crs)\n",
    "\n",
    "    arcpy.conversion.FeaturesToJSON(layer, f\"{geojson_dir}/{output_file}.geojson\", geoJSON = True)\n",
    "    return gpd.GeoDataFrame.from_file(f\"{geojson_dir}/{output_file}.geojson\").to_crs(crs)\n",
    "\n",
    "def GDFToLayer(gdf, out_features, geometry_type, project):\n",
    "    \"\"\"\n",
    "    Inputs:\n",
    "    gdf (GeoDataFrame)\n",
    "    out_features (string)\n",
    "    geometry_type (string)\n",
    "    project (arcpy._mp.ArcGISProject)\n",
    "    Output:\n",
    "    None -> Prints status message\n",
    "    \"\"\"\n",
    "    #Assert Geojson dir and shapefile dir are defined\n",
    "    assert geojson_dir and shapefile_dir\n",
    "    \n",
    "    if (os.path.exists(f\"{shapefile_dir}/{out_features}.shp\")):\n",
    "        _owrite = input(f\"This Shapefile ({out_features}) has already been created, would you like to overwite (y/n)\").lower()\n",
    "        if _owrite == \"y\":\n",
    "            os.remove(f\"{geojson_dir}/{out_features}.geojson\")\n",
    "            for f in glob.glob(f\"{shapefile_dir}/{out_features}.*\"):\n",
    "                os.remove(f)\n",
    "            GDFToLayer(gdf, out_features, geometry_type, project)\n",
    "        else: \n",
    "            arcpy.conversion.FeatureClassToGeodatabase(f\"{shapefile_dir}/{out_features}.shp\", project.defaultGeodatabase)\n",
    "            return\n",
    "        \n",
    "    else: #Create new GeoJSON and shp\n",
    "        #Write GeoDataFrame to a GeoJSON in the geojson_dir \n",
    "        gdf.to_file(f\"{geojson_dir}/{out_features}.geojson\", driver=\"GeoJSON\")\n",
    "        #Read new GeoJSON to a shapefile\n",
    "        arcpy.conversion.JSONToFeatures(f\"{geojson_dir}/{out_features}.geojson\", f\"{shapefile_dir}/{out_features}\", geometry_type = geometry_type)\n",
    "    \n",
    "    #Add shapefile to project as a layer\n",
    "    arcpy.conversion.FeatureClassToGeodatabase(f\"{shapefile_dir}/{out_features}.shp\", project.defaultGeodatabase)\n",
    "    \n",
    "    print(\"Successfully added to geodatabase\")\n",
    "    return"
   ]
  },
  {
   "cell_type": "markdown",
   "id": "8ece5b8a",
   "metadata": {},
   "source": [
    "# Perform Analysis"
   ]
  },
  {
   "cell_type": "markdown",
   "id": "cb872d5c",
   "metadata": {},
   "source": [
    "### Pull Layers into GeoDataFrames\n",
    "Use the helper functions defined above to read in layers from the project as geodataframes. \n",
    "Ensure the indices used in line 2 and 3 are correctly pointing to the roads and lora tracking layers."
   ]
  },
  {
   "cell_type": "code",
   "execution_count": null,
   "id": "e701dd5d",
   "metadata": {},
   "outputs": [],
   "source": [
    "layer_list = [layer.name for layer in mp.listLayers()]\n",
    "roads_jldp = mp.listLayers()[0]\n",
    "lora_tracking_jldp = mp.listLayers()[1]\n",
    "\n",
    "roads_jldp_gdf = LayerToGDF(aprx, roads_jldp, \"EPSG:4326\")\n",
    "lora_jldp_gdf = LayerToGDF(aprx, lora_tracking_jldp, \"EPSG:4326\")"
   ]
  },
  {
   "cell_type": "markdown",
   "id": "e72ee0f3",
   "metadata": {},
   "source": [
    "### Clip Data to JLDP Boundary"
   ]
  },
  {
   "cell_type": "code",
   "execution_count": null,
   "id": "54b189c6",
   "metadata": {},
   "outputs": [],
   "source": [
    "jldp_bounds = gpd.read_file(\"JLDP_BOUNDARY_SHAPEFILE_DIR.shp\") #Replace with the location of the JLDP Boundary you downloaded.\n",
    "\n",
    "#Clip data to the JLDP Boundary\n",
    "lora_jldp_gdf_clipped = gpd.clip(lora_jldp_gdf, jldp_bounds)\n",
    "roads_jldp_gdf_clipped = gpd.clip(roads_jldp_gdf, jldp_bounds)"
   ]
  },
  {
   "cell_type": "markdown",
   "id": "ca91c658",
   "metadata": {},
   "source": [
    "### Generate Near Table\n",
    "Associate LoRa tracking points to the nearest road, with a search limit of 20 meters."
   ]
  },
  {
   "cell_type": "code",
   "execution_count": null,
   "id": "7ca20d6f",
   "metadata": {},
   "outputs": [],
   "source": [
    "try:\n",
    "    arcpy.analysis.GenerateNearTable(lora_tracking_jldp, roads_jldp, \"lora_road_near_table\", \"20 meters\", closest=True)\n",
    "except:\n",
    "    print(\"File already exists\")"
   ]
  },
  {
   "cell_type": "code",
   "execution_count": null,
   "id": "9ec4b082",
   "metadata": {},
   "outputs": [],
   "source": [
    "near_table_ptr = arcpy.ListTables(\"lora_road_near_table\")[0]\n",
    "_fieldnames = [field.name for field in arcpy.da.Describe(near_table_ptr)['fields']]"
   ]
  },
  {
   "cell_type": "markdown",
   "id": "b8e2ca14",
   "metadata": {},
   "source": [
    "### Joining Lora Tracking Data to Roads\n",
    "Create a geodataframe from the near table to perform a spatial join between the lora tracking point data and the roads data."
   ]
  },
  {
   "cell_type": "code",
   "execution_count": null,
   "id": "85e45e68",
   "metadata": {},
   "outputs": [],
   "source": [
    "near_table = gpd.GeoDataFrame(arcpy.da.TableToNumPyArray(\"lora_road_near_table\", _fieldnames))"
   ]
  },
  {
   "cell_type": "code",
   "execution_count": null,
   "id": "ee1110c1",
   "metadata": {},
   "outputs": [],
   "source": [
    "_lora_road_join = (lora_jldp_gdf_clipped\n",
    "    .merge(near_table, left_on = \"FID\", right_on=\"IN_FID\", how=\"left\")\n",
    "    .rename(columns={'NEAR_FID':'road_ID'}))\n",
    "\n",
    "_lora_road_join['date'] = _lora_road_join['rec_tm_utc'].dt.floor(\"D\")\n",
    "\n",
    "daily_road_use = (_lora_road_join\n",
    "                  .groupby(['road_ID', 'date', 'dev'])[['road_ID', 'date', 'dev']]\n",
    "                  .agg(lambda x: None or x))\n",
    "\n",
    "#Collate all points which belong to the same unique combination of (road ID, vehicle, and date)\n",
    "daily_road_use['month'] = _lora_road_join['date'].dt.strftime('%Y/%m')\n",
    "daily_road_use['year'] = _lora_road_join['date'].dt.strftime('%Y')\n",
    "\n",
    "#Generate periodic summaries of road usage\n",
    "monthly_road_use = (daily_road_use\n",
    "                    .groupby(['road_ID', 'month'])[['dev']]\n",
    "                    .count()\n",
    "                    .rename(columns = {\"dev\":'vehicle_count'})\n",
    "                    .reset_index())\n",
    "\n",
    "yearly_road_use = (daily_road_use\n",
    "                   .groupby(['road_ID', 'year'])[['dev']]\n",
    "                   .count()\n",
    "                   .rename(columns = {\"dev\":'vehicle_count'})\n",
    "                   .reset_index())\n",
    "\n",
    "total_road_use = (daily_road_use\n",
    "                  .groupby(['road_ID'])[['dev']]\n",
    "                  .count()\n",
    "                  .rename(columns = {\"dev\": 'vehicle_count'})\n",
    "                  .reset_index())"
   ]
  },
  {
   "cell_type": "code",
   "execution_count": null,
   "id": "330ec03d",
   "metadata": {},
   "outputs": [],
   "source": [
    "#Preview total road usage\n",
    "total_road_use_lines = gpd.GeoDataFrame(roads_jldp_gdf_clipped\n",
    "                       .merge(total_road_use, left_on=\"FID\", right_on=\"road_ID\", how=\"left\")\n",
    "                       .set_index('road_ID'))\n",
    "\n",
    "total_road_use_lines.head()"
   ]
  },
  {
   "cell_type": "code",
   "execution_count": null,
   "id": "0d260ac9",
   "metadata": {},
   "outputs": [],
   "source": [
    "#Preview monthly summary of road usage\n",
    "monthly = (roads_jldp_gdf_clipped\n",
    "    .merge(monthly_road_use, left_on=\"FID\", right_on=\"road_ID\", how=\"right\")[['road_ID', 'geometry', 'month', 'vehicle_count']]\n",
    "    .sort_values('month')\n",
    "    .set_index('road_ID'))\n",
    "\n",
    "monthly.head()"
   ]
  },
  {
   "cell_type": "markdown",
   "id": "ec5269e0",
   "metadata": {},
   "source": [
    "### Write Data Back to ArcGIS Project"
   ]
  },
  {
   "cell_type": "code",
   "execution_count": null,
   "id": "77eb327b",
   "metadata": {},
   "outputs": [],
   "source": [
    "#Use helpers to add monthly and total road use data to the ArcGIS project.\n",
    "GDFToLayer(monthly, \"monthly_road_use\", \"POLYLINE\", aprx)\n",
    "GDFToLayer(total_road_use_lines, \"total_road_use\", \"POLYLINE\", aprx)"
   ]
  }
 ],
 "metadata": {
  "kernelspec": {
   "display_name": "Python 3 (ipykernel)",
   "language": "python",
   "name": "python3"
  },
  "language_info": {
   "codemirror_mode": {
    "name": "ipython",
    "version": 3
   },
   "file_extension": ".py",
   "mimetype": "text/x-python",
   "name": "python",
   "nbconvert_exporter": "python",
   "pygments_lexer": "ipython3",
   "version": "3.9.12"
  },
  "toc": {
   "base_numbering": 1,
   "nav_menu": {},
   "number_sections": true,
   "sideBar": true,
   "skip_h1_title": false,
   "title_cell": "Table of Contents",
   "title_sidebar": "Contents",
   "toc_cell": false,
   "toc_position": {},
   "toc_section_display": true,
   "toc_window_display": false
  },
  "varInspector": {
   "cols": {
    "lenName": 16,
    "lenType": 16,
    "lenVar": 40
   },
   "kernels_config": {
    "python": {
     "delete_cmd_postfix": "",
     "delete_cmd_prefix": "del ",
     "library": "var_list.py",
     "varRefreshCmd": "print(var_dic_list())"
    },
    "r": {
     "delete_cmd_postfix": ") ",
     "delete_cmd_prefix": "rm(",
     "library": "var_list.r",
     "varRefreshCmd": "cat(var_dic_list()) "
    }
   },
   "types_to_exclude": [
    "module",
    "function",
    "builtin_function_or_method",
    "instance",
    "_Feature"
   ],
   "window_display": false
  }
 },
 "nbformat": 4,
 "nbformat_minor": 5
}
