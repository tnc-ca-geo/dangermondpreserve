{
 "cells": [
  {
   "cell_type": "markdown",
   "id": "f89f4be0",
   "metadata": {},
   "source": [
    "# Create New Groundwater Well Stations on Dendra\n",
    "\n",
    "Hello, welcome to this script! This script is a tool for creating new Groundwater Wells and their associated datastreams on Dendra. Each well requires a name, lat/long, and elevation (meters). \n",
    "\n",
    "If Dendra doesn't have a station to host your data yet, run this cell. It will create a station with your provided name. The station will have 5 datastreams which can be empty if there is no data to fill them. The 5 datastreams are:\n",
    "- Level from XLE/LEV (1 stream) and XLSX (1 stream) files\n",
    "- Temperature from XLE/LEV (1 stream) and XLSX (1 stream) files\n",
    "- Depth to Groundwater (1 stream)"
   ]
  },
  {
   "cell_type": "markdown",
   "id": "057c5300",
   "metadata": {},
   "source": [
    "# Load Libraries"
   ]
  },
  {
   "cell_type": "code",
   "execution_count": 4,
   "id": "e5ff53ae",
   "metadata": {
    "ExecuteTime": {
     "end_time": "2023-02-15T18:06:23.149256Z",
     "start_time": "2023-02-15T18:06:13.958121Z"
    }
   },
   "outputs": [],
   "source": [
    "import pandas as pd\n",
    "import numpy as np\n",
    "import os, glob, linecache, uuid\n",
    "# import matplotlib.pyplot as plt\n",
    "import shutil\n",
    "from scipy.stats import zscore\n",
    "from copy import deepcopy\n",
    "import re\n",
    "import sys\n",
    "import json\n",
    "\n",
    "#Import helper functions\n",
    "from well_data_dendra_helpers import *\n",
    "\n",
    "uuid_gen = uuid.uuid4()\n",
    "\n",
    "den_api_lib_path = \"C:\\\\Users\\\\jinsu.elhance\\\\Box\\\\000. Jinsu Elhance\\\\Github\\\\dendra-api-client-python\"\n",
    "sys.path.append(den_api_lib_path)\n",
    "import dendra_api_client as dendra"
   ]
  },
  {
   "cell_type": "code",
   "execution_count": 5,
   "id": "0aa22c3a",
   "metadata": {},
   "outputs": [
    {
     "name": "stdout",
     "output_type": "stream",
     "text": [
      "········\n"
     ]
    }
   ],
   "source": [
    "#Authenticate Dendra API\n",
    "# If you have a login and the data is not public, you must authenticatte using your Dendra login\n",
    "dendra.authenticate('jinsu.elhance@tnc.org')"
   ]
  },
  {
   "cell_type": "code",
   "execution_count": 6,
   "id": "15267672",
   "metadata": {},
   "outputs": [],
   "source": [
    "#Point to folder where jsons for dendra API can be stored\n",
    "if not os.path.exists(\"./DendraJSONs\"):\n",
    "    os.mkdir(\"./DendraJSONs\")\n",
    "    os.mkdir(\"./DendraJSONs/Stations\")\n",
    "    os.mkdir(\"./DendraJSONs/Datastreams\")\n",
    "    os.mkdir(\"./DendraJSONs/Annotations\")\n",
    "    \n",
    "dendra_dir = \"./DendraJSONs/\""
   ]
  },
  {
   "cell_type": "markdown",
   "id": "88b55da3",
   "metadata": {},
   "source": [
    "# Provide Information on Wells to Create\n",
    "Here you can provide a template containing information about the well stations you want to create. For each well you should have the well's name, lat/long coordinates, and elevation in meters. "
   ]
  },
  {
   "cell_type": "code",
   "execution_count": 86,
   "id": "6845f606",
   "metadata": {},
   "outputs": [],
   "source": [
    "wells_to_create = [\n",
    "    {\n",
    "        \"name\": \"Escondido 1\",\n",
    "        \"lat\": \"34.504\",\n",
    "        \"lon\": \"-120.479200838299\",\n",
    "        \"elevation_m\": 159.9,\n",
    "    },\n",
    "    {\n",
    "        \"name\": \"Tinta 6\",\n",
    "        \"lat\": \"34.711\",\n",
    "        \"lon\": \"-120.479\",\n",
    "        \"elevation_m\": 172.1,\n",
    "    }\n",
    "]"
   ]
  },
  {
   "cell_type": "markdown",
   "id": "9dc412f4",
   "metadata": {},
   "source": [
    "## Verify that stations do not already exist on Dendra"
   ]
  },
  {
   "cell_type": "code",
   "execution_count": 87,
   "id": "acf7cad2",
   "metadata": {},
   "outputs": [
    {
     "name": "stdout",
     "output_type": "stream",
     "text": [
      "['Alegria', 'Alexander Ramajal', 'Buckhorn 1', 'Buckhorn 2', 'Cojo Canyon', 'Damsite Canyon', 'Diamond Corral', 'East Ramajal', 'Escondido 1', 'Escondido 2', 'Escondido 3', 'Escondido 3B', 'Escondido 4', 'Escondido 5', 'Gaspar 1', 'Gaspar 2', 'Gaucho 1', 'Gaucho 2', 'Jalachichi 1', 'Jalachichi 2', 'Lower Espada', 'Lower Jalama Vaqueros', 'North Ramajal', 'Oaks 1', 'Oaks 2', 'Oaks 3', 'Oaks 3B', 'Oaks 4', 'Oaks 5', 'Old Espada', 'Quail Canyon 1', 'Quarry 1', 'South Ramajal', 'Tinta 1', 'Tinta 10', 'Tinta 11A', 'Tinta 11B', 'Tinta 2', 'Tinta 3', 'Tinta 4', 'Tinta 5', 'Tinta 5B', 'Tinta 6', 'Tinta 7', 'Tinta 8', 'Tinta 9', 'Upper Espada', 'Vaqueros', 'Venadito 1', 'Venadito 2', 'Wood Canyon']\n",
      "Well Escondido 1 already exists on Dendra.\n",
      "Well Tinta 6 already exists on Dendra.\n"
     ]
    }
   ],
   "source": [
    "#Verify that the wells you are trying to create do not already exist on Dendra.\n",
    "dendra_wells = dendra.list_stations(orgslug=\"tnc\", query_add={\"description\":\"Groundwater well @ Dangermond Preserve\"})\n",
    "\n",
    "print([dendra_well['name'].replace(\"Dangermond \",\"\") for dendra_well in dendra_wells])\n",
    "\n",
    "# dendra_well_metas = [dendra.get_meta_station_by_id(well['_id']) for well in dendra_wells] \n",
    "\n",
    "for well in wells_to_create:\n",
    "    if well['name'] in [dendra_well['name'].replace(\"Dangermond \", \"\") for dendra_well in dendra_wells]:\n",
    "            print(f\"Well {well['name']} already exists on Dendra.\")"
   ]
  },
  {
   "cell_type": "markdown",
   "id": "19f0877e",
   "metadata": {},
   "source": [
    "# Create Station and Datastreams\n",
    "If Dendra doesn't have a station to host your data yet, run this cell. It will create a station with your provided name. The station will have 5 datastreams which can be empty if there is no data to fill them. The 5 datastreams are:\n",
    "- Level from XLE/LEV (1 stream) and XLSX (1 stream) files\n",
    "- Temperature from XLE/LEV (1 stream) and XLSX (1 stream) files\n",
    "- Depth to Groundwater (1 stream)"
   ]
  },
  {
   "cell_type": "code",
   "execution_count": 88,
   "id": "39604578",
   "metadata": {},
   "outputs": [],
   "source": [
    "# station_template = deepcopy(station_template) #station template from well_data_dendra_helpers.py\n",
    "with open(f\"{dendra_dir}/Templates/well_station.json\") as station_template_raw:\n",
    "        station_template = deepcopy(json.load(station_template_raw))\n",
    "\n",
    "json_objects = []\n",
    "\n",
    "for well in wells_to_create:\n",
    "    well_station_json = deepcopy(station_template)\n",
    "    well_station_json[\"full_name\"] = well_station_json[\"full_name\"].replace(\"WELLNAME\", well['name'])\n",
    "    well_station_json[\"name\"] = well_station_json[\"name\"].replace(\"WELL NAME\", well['name'])\n",
    "    well_station_json['slug'] = well_station_json['slug'].replace('wellname', well['name'].lower().replace(\" \",\"\"))\n",
    "    well_station_json[\"geo\"] = {\n",
    "        'type' : 'Point',\n",
    "        'coordinates' : [float(well['lat']), float(well['lon']), float(well['elevation_m'])]\n",
    "    }\n",
    "\n",
    "    # Write the JSON objects to a file\n",
    "    with open(f\"{dendra_dir}/Stations/{well['name']}.station.json\", 'w') as json_file:\n",
    "        json.dump(well_station_json, json_file, indent=4)"
   ]
  },
  {
   "cell_type": "code",
   "execution_count": 89,
   "id": "f39c60f7",
   "metadata": {},
   "outputs": [
    {
     "name": "stdout",
     "output_type": "stream",
     "text": [
      "\n",
      "\u001b[1mWill create:  \u001b[22m \u001b[1m./DendraJSONs/Stations/Escondido 1.station.json\u001b[22m\n",
      "\u001b[1mWill create:  \u001b[22m \u001b[1m./DendraJSONs/Stations/Tinta 5B.station.json\u001b[22m\n",
      "\u001b[1mWill create:  \u001b[22m \u001b[1m./DendraJSONs/Stations/Tinta 6.station.json\u001b[22m\n",
      "\n",
      "Done!\n"
     ]
    }
   ],
   "source": [
    "#Run this cell to see the stations that will be created\n",
    "!den meta push-stations --filespec=$dendra_dir/Stations/*.station.json --dry-run --verbose"
   ]
  },
  {
   "cell_type": "code",
   "execution_count": 90,
   "id": "682bdcc7",
   "metadata": {},
   "outputs": [],
   "source": [
    "#Run this cell to push those stations to Dendra!\n",
    "#!den meta push-stations --filespec=$dendra_dir/Stations/*.station.json --verbose"
   ]
  },
  {
   "cell_type": "markdown",
   "id": "bae91d84",
   "metadata": {},
   "source": [
    "# Create Level and Temperature Datastreams"
   ]
  },
  {
   "cell_type": "code",
   "execution_count": 7,
   "id": "da10d7aa",
   "metadata": {},
   "outputs": [],
   "source": [
    "#First create level and temperature datastreams\n",
    "datastreams = [(\"level\", \"xle_lev\"), (\"temperature\", \"xle_lev\"), (\"temperature\", \"xlsx\"), (\"level\", \"xlsx\")]\n",
    "datastream_template_paths = [\"xle_lev_level.json\", \"xlsx_level.json\", \"xle_lev_temp.json\", \"xlsx_temp.json\"]\n",
    "datastream_templates = []\n",
    "\n",
    "for t in datastream_template_paths: \n",
    "    with open(f\"{dendra_dir}/Templates/{t}\") as template_raw:\n",
    "        datastream_templates.append(deepcopy(json.load(template_raw)))"
   ]
  },
  {
   "cell_type": "code",
   "execution_count": 9,
   "id": "333625d2",
   "metadata": {},
   "outputs": [
    {
     "name": "stdout",
     "output_type": "stream",
     "text": [
      "[{'_id': '64dbe9ce55264567723ea32c', 'name': 'Dangermond South Ramajal', 'slug': 'dangermond-southramajal'}, {'_id': '654bf9492457b360fd240160', 'name': 'Dangermond Test Well', 'slug': 'dangermond-testwell'}, {'_id': '64dead5cd070872b26d54105', 'name': 'Dangermond Tinta 5B', 'slug': 'dangermond-tinta5b'}]\n"
     ]
    }
   ],
   "source": [
    "dendra_wells = dendra.list_stations(orgslug=\"tnc\", query_add={\"description\":\"Groundwater well @ Dangermond Preserve\"})\n",
    "new_dendra_wells = []\n",
    "\n",
    "#Only consider newly created wells\n",
    "for dendra_well in dendra_wells:\n",
    "    if dendra_well['name'].replace(\"Dangermond \", \"\") in [well['name'] for well in wells_to_create]:\n",
    "        new_dendra_wells.append(dendra_well)\n",
    "        \n",
    "print(new_dendra_wells)\n",
    "\n",
    "#Get metadata from the newly created well stations on dendra\n",
    "new_dendra_well_metas = [dendra.get_meta_station_by_id(dendra_well['_id']) for dendra_well in new_dendra_wells]\n",
    "\n",
    "for new_dendra_well in new_dendra_well_metas:\n",
    "    for i in range(4):\n",
    "        datastream = datastreams[i]\n",
    "        datastream_template = deepcopy(datastream_templates[i]) \n",
    "        \n",
    "        #Fill in values on the template to create a new datastream object\n",
    "        datastream_template['datapoints_config'][0][\"params\"][\"query\"][\"fc\"] = datastream_template['datapoints_config'][0][\"params\"][\"query\"][\"fc\"].replace(\"WELL\", new_dendra_well['name'])\n",
    "        datastream_template['description'] = datastream_template['description'].replace(\"STATIONNAME\", new_dendra_well['full_name'].replace(\"Dangermond \", \"\"))\n",
    "        datastream_template['datapoints_config_refd'][0]['params']['query']['fc'] = datastream_template['datapoints_config'][0][\"params\"][\"query\"][\"fc\"]\n",
    "        datastream_template['station_id'] = new_dendra_well['_id']\n",
    "        \n",
    "        #Attach coordinates and elevation to each datastream as attributes from their stations.\n",
    "        datastream_template['geo'] = new_dendra_well['geo']\n",
    "        datastream_template['attributes'] = {\n",
    "            'well_elevation_m':new_dendra_well['geo']['coordinates'][2]\n",
    "        }\n",
    "        \n",
    "        #Write JSON objects to be pushed to Dendra.\n",
    "        with open(f\"{dendra_dir}/Datastreams/{new_dendra_well['slug']}.{datastream[0]}.{datastream[1]}.raw.datastream.json\", 'w') as json_file:\n",
    "            json.dump(datastream_template, json_file, indent=4)"
   ]
  },
  {
   "cell_type": "code",
   "execution_count": 93,
   "id": "43010ec9",
   "metadata": {},
   "outputs": [
    {
     "name": "stdout",
     "output_type": "stream",
     "text": [
      "\n",
      "\u001b[1mWill create:  \u001b[22m \u001b[1m./DendraJSONs/Datastreams/dangermond-escondido1.level.xle_lev.raw.datastream.json\u001b[22m\n",
      "\u001b[1mWill create:  \u001b[22m \u001b[1m./DendraJSONs/Datastreams/dangermond-escondido1.level.xlsx.raw.datastream.json\u001b[22m\n",
      "\u001b[1mWill create:  \u001b[22m \u001b[1m./DendraJSONs/Datastreams/dangermond-escondido1.temperature.xle_lev.raw.datastream.json\u001b[22m\n",
      "\u001b[1mWill create:  \u001b[22m \u001b[1m./DendraJSONs/Datastreams/dangermond-escondido1.temperature.xlsx.raw.datastream.json\u001b[22m\n",
      "\u001b[1mWill create:  \u001b[22m \u001b[1m./DendraJSONs/Datastreams/dangermond-tinta5b.level.xle_lev.raw.datastream.json\u001b[22m\n",
      "\u001b[1mWill create:  \u001b[22m \u001b[1m./DendraJSONs/Datastreams/dangermond-tinta5b.level.xlsx.raw.datastream.json\u001b[22m\n",
      "\u001b[1mWill create:  \u001b[22m \u001b[1m./DendraJSONs/Datastreams/dangermond-tinta5b.temperature.xle_lev.raw.datastream.json\u001b[22m\n",
      "\u001b[1mWill create:  \u001b[22m \u001b[1m./DendraJSONs/Datastreams/dangermond-tinta5b.temperature.xlsx.raw.datastream.json\u001b[22m\n",
      "\u001b[1mWill create:  \u001b[22m \u001b[1m./DendraJSONs/Datastreams/dangermond-tinta6.level.xle_lev.raw.datastream.json\u001b[22m\n",
      "\u001b[1mWill create:  \u001b[22m \u001b[1m./DendraJSONs/Datastreams/dangermond-tinta6.level.xlsx.raw.datastream.json\u001b[22m\n",
      "\u001b[1mWill create:  \u001b[22m \u001b[1m./DendraJSONs/Datastreams/dangermond-tinta6.temperature.xle_lev.raw.datastream.json\u001b[22m\n",
      "\u001b[1mWill create:  \u001b[22m \u001b[1m./DendraJSONs/Datastreams/dangermond-tinta6.temperature.xlsx.raw.datastream.json\u001b[22m\n",
      "\n",
      "Done!\n"
     ]
    }
   ],
   "source": [
    "# !den meta push-datastreams --filespec=$dendra_dir/Datastreams/*raw.datastream.json --dry-run --verbose"
   ]
  },
  {
   "cell_type": "code",
   "execution_count": 94,
   "id": "5a2e0edd",
   "metadata": {},
   "outputs": [],
   "source": [
    "# !den meta push-datastreams --filespec=$dendra_dir/Datastreams/*raw.datastream.json --verbose"
   ]
  },
  {
   "cell_type": "markdown",
   "id": "85d682ad",
   "metadata": {},
   "source": [
    "# Create Derived Datastreams"
   ]
  },
  {
   "cell_type": "code",
   "execution_count": 10,
   "id": "25cb4b23",
   "metadata": {},
   "outputs": [],
   "source": [
    "with open(f\"{dendra_dir}\\\\Templates\\\\level_derived.json\", encoding=\"utf-8\") as level_template_file:\n",
    "    level_template_json = json.load(level_template_file)\n",
    "level_template_json = deepcopy(level_template_json)\n",
    "\n",
    "with open(f\"{dendra_dir}\\\\Templates\\\\temperature_derived.json\", encoding=\"utf-8\") as temp_template_file:\n",
    "    temp_template_json = json.load(temp_template_file)\n",
    "temp_template_json = deepcopy(temp_template_json)\n",
    "\n",
    "for new_dendra_well in new_dendra_well_metas:\n",
    "    new_well_datastreams = dendra.list_datastreams_by_station_id(new_dendra_well['_id'])\n",
    "    well_name_C = new_dendra_well['full_name']\n",
    "    well_name = new_dendra_well['slug'].replace(\"dangermond-\",\"\")\n",
    "        \n",
    "    level_xle, level_xlsx, temp_xle, temp_xlsx = None, None, None, None\n",
    "    level_json = deepcopy(level_template_json)\n",
    "    temp_json = deepcopy(temp_template_json)\n",
    "    \n",
    "    for datastream in new_well_datastreams: \n",
    "        datastream_id = datastream['_id']\n",
    "        \n",
    "        if datastream['name'] == \"Well Water Level xle/lev\":\n",
    "            level_xle = datastream\n",
    "        elif datastream['name'] == \"Well Water Level xlsx\":\n",
    "            level_xlsx = datastream\n",
    "        elif datastream['name'] == \"Well Water Temperature xle/lev\":\n",
    "            temp_xle = datastream\n",
    "        elif datastream['name'] == \"Well Water Temperature xlsx\":\n",
    "            temp_xlsx = datastream\n",
    "\n",
    "    #Create Derived Level datastream\n",
    "    level_json['description'] = f\"Derived datastream for {well_name_C} Well Water Level\"\n",
    "    level_json['derived_from_datastream_ids'] = [level_xle['_id'], level_xlsx['_id']]\n",
    "    level_json['name'] = \"Well Water Level\"\n",
    "    level_json['station_id'] = new_dendra_well['_id']\n",
    "    level_json['geo'] = new_dendra_well['geo']\n",
    "    level_json['attributes'] = {}\n",
    "    level_json['attributes']['well_elevation_m'] = new_dendra_well['geo']['coordinates'][2]\n",
    "    \n",
    "    with open(f\"{dendra_dir}/Datastreams/{well_name}.level.derived.datastream.json\", 'w') as json_file:\n",
    "        json.dump(level_json, json_file, indent=4)\n",
    "    \n",
    "    #Create Derived temperature datastream\n",
    "    temp_json['description'] = f\"Derived datastream for {well_name_C} Well Water Temperature\"\n",
    "    temp_json['derived_from_datastream_ids'] = [temp_xle['_id'], temp_xlsx['_id']]\n",
    "    temp_json['name'] = \"Well Water Temperature\"\n",
    "    temp_json['station_id'] = new_dendra_well['_id']\n",
    "    temp_json['geo'] = new_dendra_well['geo']\n",
    "    temp_json['attributes'] = {}\n",
    "    temp_json['attributes']['well_elevation_m'] = new_dendra_well['geo']['coordinates'][2]\n",
    "    \n",
    "    with open(f\"{dendra_dir}/Datastreams/{well_name}.temperature.derived.datastream.json\", 'w') as json_file:\n",
    "        json.dump(temp_json, json_file, indent=4)"
   ]
  },
  {
   "cell_type": "code",
   "execution_count": 11,
   "id": "ccb3c8bf",
   "metadata": {},
   "outputs": [
    {
     "name": "stdout",
     "output_type": "stream",
     "text": [
      "\n",
      "Will create:   ./DendraJSONs/Datastreams/southramajal.level.derived.datastream.json\n",
      "Will create:   ./DendraJSONs/Datastreams/southramajal.temperature.derived.datastream.json\n",
      "Will create:   ./DendraJSONs/Datastreams/testwell.level.derived.datastream.json\n",
      "Will create:   ./DendraJSONs/Datastreams/testwell.temperature.derived.datastream.json\n",
      "Will create:   ./DendraJSONs/Datastreams/tinta5b.level.derived.datastream.json\n",
      "Will create:   ./DendraJSONs/Datastreams/tinta5b.temperature.derived.datastream.json\n",
      "\n",
      "Done!\n"
     ]
    }
   ],
   "source": [
    "# !den meta push-datastreams --filespec=$dendra_dir/Datastreams/*derived.datastream.json --dry-run --verbose"
   ]
  },
  {
   "cell_type": "code",
   "execution_count": 12,
   "id": "76c3baab",
   "metadata": {},
   "outputs": [
    {
     "name": "stdout",
     "output_type": "stream",
     "text": [
      "\n",
      "Created:       ./DendraJSONs/Datastreams/southramajal.level.derived.datastream.json\n",
      "Created:       ./DendraJSONs/Datastreams/southramajal.temperature.derived.datastream.json\n",
      "Created:       ./DendraJSONs/Datastreams/testwell.level.derived.datastream.json\n",
      "Created:       ./DendraJSONs/Datastreams/testwell.temperature.derived.datastream.json\n",
      "Created:       ./DendraJSONs/Datastreams/tinta5b.level.derived.datastream.json\n",
      "Created:       ./DendraJSONs/Datastreams/tinta5b.temperature.derived.datastream.json\n",
      "\n",
      "Done!\n"
     ]
    }
   ],
   "source": [
    "# !den meta push-datastreams --filespec=$dendra_dir/Datastreams/*derived.datastream.json --verbose"
   ]
  },
  {
   "cell_type": "markdown",
   "id": "d670bd8e",
   "metadata": {},
   "source": [
    "# Create Depth to Groundwater Datastream"
   ]
  },
  {
   "cell_type": "code",
   "execution_count": 21,
   "id": "33ae2e8b",
   "metadata": {},
   "outputs": [],
   "source": [
    "#This is a tricky one just because each period will need a corresponding sensor depth. I'm not sure if we can make the depth to groundwater stream just run for the entire period. Maybe we need to re-write the datapoint config expression.\n",
    "with open(f\"{dendra_dir}\\\\Templates\\\\depthtogroundwater.json\", encoding=\"utf-8\") as d2g_template_file:\n",
    "    d2g_template_json = json.load(d2g_template_file)\n",
    "d2g_template_json = deepcopy(d2g_template_json)\n",
    "\n",
    "for new_dendra_well in new_dendra_well_metas:\n",
    "    new_well_level_datastream = dendra.list_datastreams_by_station_id(new_dendra_well['_id'], query_add={\"name\":\"Well Water Level\"})\n",
    "    d2g_json = deepcopy(d2g_template_json)\n",
    "    \n",
    "    #Create Derived Depth to Groundwater Datastream\n",
    "    d2g_json['derived_from_datastream_ids'] = [new_well_level_datastream[0]['_id']]\n",
    "    d2g_json['station_id'] = new_dendra_well['_id']\n",
    "    d2g_json['geo'] = new_dendra_well['geo']\n",
    "    d2g_json['attributes']['well_elevation_m'] = new_dendra_well['geo']['coordinates'][2]\n",
    "    \n",
    "    with open(f\"{dendra_dir}/Datastreams/{new_dendra_well['name']}.d2g.derived.datastream.json\", 'w') as json_file:\n",
    "        json.dump(d2g_json, json_file, indent=4)"
   ]
  },
  {
   "cell_type": "code",
   "execution_count": 22,
   "id": "2b7fa8e0",
   "metadata": {},
   "outputs": [
    {
     "name": "stdout",
     "output_type": "stream",
     "text": [
      "\n",
      "Created:       ./DendraJSONs/Datastreams/Dangermond South Ramajal.d2g.derived.datastream.json\n",
      "Created:       ./DendraJSONs/Datastreams/Dangermond Test Well.d2g.derived.datastream.json\n",
      "Created:       ./DendraJSONs/Datastreams/Dangermond Tinta 5B.d2g.derived.datastream.json\n",
      "\n",
      "Done!\n"
     ]
    }
   ],
   "source": [
    "!den meta push-datastreams --filespec=$dendra_dir/Datastreams/*d2g.derived.datastream.json --dry-run --verbose"
   ]
  }
 ],
 "metadata": {
  "kernelspec": {
   "display_name": "Python 3 (ipykernel)",
   "language": "python",
   "name": "python3"
  },
  "language_info": {
   "codemirror_mode": {
    "name": "ipython",
    "version": 3
   },
   "file_extension": ".py",
   "mimetype": "text/x-python",
   "name": "python",
   "nbconvert_exporter": "python",
   "pygments_lexer": "ipython3",
   "version": "3.9.12"
  },
  "toc": {
   "base_numbering": 1,
   "nav_menu": {},
   "number_sections": true,
   "sideBar": true,
   "skip_h1_title": false,
   "title_cell": "Table of Contents",
   "title_sidebar": "Contents",
   "toc_cell": false,
   "toc_position": {},
   "toc_section_display": true,
   "toc_window_display": false
  },
  "varInspector": {
   "cols": {
    "lenName": 16,
    "lenType": 16,
    "lenVar": 40
   },
   "kernels_config": {
    "python": {
     "delete_cmd_postfix": "",
     "delete_cmd_prefix": "del ",
     "library": "var_list.py",
     "varRefreshCmd": "print(var_dic_list())"
    },
    "r": {
     "delete_cmd_postfix": ") ",
     "delete_cmd_prefix": "rm(",
     "library": "var_list.r",
     "varRefreshCmd": "cat(var_dic_list()) "
    }
   },
   "types_to_exclude": [
    "module",
    "function",
    "builtin_function_or_method",
    "instance",
    "_Feature"
   ],
   "window_display": false
  }
 },
 "nbformat": 4,
 "nbformat_minor": 5
}
