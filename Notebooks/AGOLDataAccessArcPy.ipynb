{
 "cells": [
  {
   "cell_type": "markdown",
   "id": "f0884618",
   "metadata": {},
   "source": [
    "### Code Credits\n",
    "The majority of this code comes from a script written by Ira Koroleva on the Conservation Technology Team:\n",
    "https://github.com/tnc-ca-geo/freshwater/blob/master/Function_loading_layers_from_AGOL.ipynb"
   ]
  },
  {
   "cell_type": "code",
   "execution_count": null,
   "id": "2fd6722c",
   "metadata": {},
   "outputs": [],
   "source": [
    "import pandas as pd\n",
    "import numpy as np\n",
    "import os\n",
    "import geopandas as gpd\n",
    "import arcgis\n",
    "from arcgis.gis import GIS\n",
    "import json\n",
    "import datetime as dt\n",
    "from datetime import date\n",
    "import getpass\n",
    "from shapely.validation import explain_validity\n",
    "from shapely.validation import make_valid"
   ]
  },
  {
   "cell_type": "code",
   "execution_count": null,
   "id": "e7678402",
   "metadata": {},
   "outputs": [],
   "source": [
    "def get_AGOL_layer(layer_id, crs, output_file=None): \n",
    "    \"\"\"\n",
    "    This function loads the layer from ArcGIS Online, converts it to pandas geodataframe, projects, \n",
    "    and saves to disc as a new file with current date in the name.\n",
    "    \n",
    "    Parameters:\n",
    "    layer_id* (str): ArcGIS Online layer ID can be retrieved from its browser link. For example, in \n",
    "    \"https://tnc.maps.arcgis.com/home/item.html?id=23fcdb5591ae4889a054b63bcbd7fc98\" the ID comes after \"id=\" and \n",
    "    is equal to 23fcdb5591ae4889a054b63bcbd7fc98.\n",
    "    \n",
    "    crs* (int): geographic coordinate system as EPSG code. You can find the codes at https://spatialreference.org/ref/epsg/\n",
    "    \n",
    "    output_file (str): optional; full path to the shapefile wiht extension \".shp\" where the output file will be \n",
    "    saved. Please add \"r\" before the string or use double slash \"\\\\\" instead of single slash in the path.\n",
    "    \n",
    "    Example:\n",
    "    tnc = get_AGOL_layer(layer_id = 'de8681a325f643f49a1fc848a0dac5bb', \n",
    "                        crs = 3310,\n",
    "                        output_file = r'C:\\Documents\\TNC_lands.shp')\n",
    "    \n",
    "    Please address your questions to Ira Koroleva (irina.koroleva@tnc.org)\n",
    "    The Nature Conservancy, 2023\n",
    "    \"\"\"\n",
    "    \n",
    "    # log into AGOL\n",
    "    link = 'https://www.arcgis.com/sharing/rest'\n",
    "    gis = GIS(link, client_id='ztKl8vv9x4R8bE20')\n",
    "    \n",
    "    # Get the hosted feature layer\n",
    "    flayer = gis.content.get(layer_id).layers[0]\n",
    "    # .query() returns a FeatureSet\n",
    "    fset = flayer.query()\n",
    "    # Get a GeoJSON string representation of the FeatureSet\n",
    "    gjson_string = fset.to_geojson\n",
    "    # Read GeoJSON string into a dict\n",
    "    gjson_dict = json.loads(gjson_string)\n",
    "    # Read in as geodataframe\n",
    "    layer = gpd.GeoDataFrame.from_features(gjson_dict['features'], crs=3857)\n",
    "    \n",
    "    # Project layer\n",
    "    layer = layer.to_crs(crs)\n",
    "    \n",
    "    # Check validity\n",
    "    total = len(layer['geometry'])\n",
    "    valid = len(layer.is_valid)\n",
    "    invalid = total - valid\n",
    "    \n",
    "    # Multipolygons might have been turned into polygons and their parts became invalid, fix them by turning them back into multipolygons\n",
    "    if invalid > 0:\n",
    "        layer['geometry'] = layer['geometry'].apply(make_valid)\n",
    "        print(invalid + ' invalid features were fixed')\n",
    "    \n",
    "    # Save as shapefile if the location is provided\n",
    "    if not (output_file is None):\n",
    "        # Change any date fields to text\n",
    "        layer_save = layer.copy()\n",
    "        cols = list(layer_save)\n",
    "        for i in cols:\n",
    "            if layer_save[i].dtype == 'datetime64[ns]': \n",
    "                layer_save[i] = layer_save[i].astype(str)\n",
    "        \n",
    "        layer_save.to_file(output_file) \n",
    "    return layer"
   ]
  },
  {
   "cell_type": "code",
   "execution_count": null,
   "id": "3c3bd0ea",
   "metadata": {},
   "outputs": [],
   "source": [
    "# Example - loading TNC lands\n",
    "tnc = get_AGOL_layer(layer_id = 'f77e630cfe914483929f2a0bfba230c3', \n",
    "                    crs = 4326,\n",
    "                    output_file = r'C:\\Users\\jinsu.elhance\\file.shp');"
   ]
  }
 ],
 "metadata": {
  "kernelspec": {
   "display_name": "Python 3 (ipykernel)",
   "language": "python",
   "name": "python3"
  },
  "language_info": {
   "codemirror_mode": {
    "name": "ipython",
    "version": 3
   },
   "file_extension": ".py",
   "mimetype": "text/x-python",
   "name": "python",
   "nbconvert_exporter": "python",
   "pygments_lexer": "ipython3",
   "version": "3.9.12"
  },
  "toc": {
   "base_numbering": 1,
   "nav_menu": {},
   "number_sections": true,
   "sideBar": true,
   "skip_h1_title": false,
   "title_cell": "Table of Contents",
   "title_sidebar": "Contents",
   "toc_cell": false,
   "toc_position": {},
   "toc_section_display": true,
   "toc_window_display": false
  },
  "varInspector": {
   "cols": {
    "lenName": 16,
    "lenType": 16,
    "lenVar": 40
   },
   "kernels_config": {
    "python": {
     "delete_cmd_postfix": "",
     "delete_cmd_prefix": "del ",
     "library": "var_list.py",
     "varRefreshCmd": "print(var_dic_list())"
    },
    "r": {
     "delete_cmd_postfix": ") ",
     "delete_cmd_prefix": "rm(",
     "library": "var_list.r",
     "varRefreshCmd": "cat(var_dic_list()) "
    }
   },
   "types_to_exclude": [
    "module",
    "function",
    "builtin_function_or_method",
    "instance",
    "_Feature"
   ],
   "window_display": false
  }
 },
 "nbformat": 4,
 "nbformat_minor": 5
}
