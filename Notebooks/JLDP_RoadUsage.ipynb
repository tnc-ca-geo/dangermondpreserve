{
 "cells": [
  {
   "cell_type": "code",
   "execution_count": 13,
   "id": "f617cc7b",
   "metadata": {},
   "outputs": [],
   "source": [
    "import arcpy\n",
    "import os\n",
    "import glob\n",
    "import pandas as pd\n",
    "import numpy as np\n",
    "import geopandas as gpd\n",
    "from arcgis.features import GeoAccessor, GeoSeriesAccessor\n",
    "from arcgis.gis import GIS\n",
    "from shapely import Point\n",
    "import ipdb"
   ]
  },
  {
   "cell_type": "code",
   "execution_count": 43,
   "id": "e095cb7f",
   "metadata": {},
   "outputs": [],
   "source": [
    "import pandas as pd\n",
    "import numpy as np\n",
    "import os\n",
    "import geopandas as gpd\n",
    "import arcgis\n",
    "from arcgis.gis import GIS\n",
    "import json\n",
    "import datetime as dt\n",
    "from datetime import date\n",
    "import getpass\n",
    "from shapely.validation import explain_validity\n",
    "from shapely.validation import make_valid"
   ]
  },
  {
   "cell_type": "code",
   "execution_count": 45,
   "id": "0ca326a2",
   "metadata": {},
   "outputs": [],
   "source": [
    "def get_AGOL_layer(layer_id, crs, output_file=None): \n",
    "    \"\"\"\n",
    "    This function loads the layer from ArcGIS Online, converts it to pandas geodataframe, projects, \n",
    "    and saves to disc as a new file with current date in the name.\n",
    "    \n",
    "    Parameters:\n",
    "    layer_id* (str): ArcGIS Online layer ID can be retrieved from its browser link. For example, in \n",
    "    \"https://tnc.maps.arcgis.com/home/item.html?id=23fcdb5591ae4889a054b63bcbd7fc98\" the ID comes after \"id=\" and \n",
    "    is equal to 23fcdb5591ae4889a054b63bcbd7fc98.\n",
    "    \n",
    "    crs* (int): geographic coordinate system as EPSG code. You can find the codes at https://spatialreference.org/ref/epsg/\n",
    "    \n",
    "    output_file (str): optional; full path to the shapefile wiht extension \".shp\" where the output file will be \n",
    "    saved. Please add \"r\" before the string or use double slash \"\\\\\" instead of single slash in the path.\n",
    "    \n",
    "    Example:\n",
    "    tnc = get_AGOL_layer(layer_id = 'de8681a325f643f49a1fc848a0dac5bb', \n",
    "                        crs = 3310,\n",
    "                        output_file = r'C:\\Documents\\TNC_lands.shp')\n",
    "    \n",
    "    Please address your questions to Ira Koroleva (irina.koroleva@tnc.org)\n",
    "    The Nature Conservancy, 2023\n",
    "    \"\"\"\n",
    "    \n",
    "    # log into AGOL\n",
    "    link = 'https://www.arcgis.com/sharing/rest'\n",
    "    gis = GIS(link, client_id='ztKl8vv9x4R8bE20')\n",
    "    \n",
    "    # Get the hosted feature layer\n",
    "    flayer = gis.content.get(layer_id).layers[0]\n",
    "    # .query() returns a FeatureSet\n",
    "    fset = flayer.query()\n",
    "    # Get a GeoJSON string representation of the FeatureSet\n",
    "    gjson_string = fset.to_geojson\n",
    "    # Read GeoJSON string into a dict\n",
    "    gjson_dict = json.loads(gjson_string)\n",
    "    # Read in as geodataframe\n",
    "    layer = gpd.GeoDataFrame.from_features(gjson_dict['features'], crs=3857)\n",
    "    \n",
    "    # Project layer\n",
    "    layer = layer.to_crs(crs)\n",
    "    \n",
    "    # Check validity\n",
    "    total = len(layer['geometry'])\n",
    "    valid = len(layer.is_valid)\n",
    "    invalid = total - valid\n",
    "    \n",
    "    # Multipolygons might have been turned into polygons and their parts became invalid, fix them by turning them back into multipolygons\n",
    "    if invalid > 0:\n",
    "        layer['geometry'] = layer['geometry'].apply(make_valid)\n",
    "        print(invalid + ' invalid features were fixed')\n",
    "    \n",
    "    # Save as shapefile if the location is provided\n",
    "    if not (output_file is None):\n",
    "        # Change any date fields to text\n",
    "        layer_save = layer.copy()\n",
    "        cols = list(layer_save)\n",
    "        for i in cols:\n",
    "            if layer_save[i].dtype == 'datetime64[ns]': \n",
    "                layer_save[i] = layer_save[i].astype(str)\n",
    "        \n",
    "        layer_save.to_file(output_file) \n",
    "    return layer"
   ]
  },
  {
   "cell_type": "code",
   "execution_count": null,
   "id": "648442e6",
   "metadata": {},
   "outputs": [
    {
     "name": "stdout",
     "output_type": "stream",
     "text": [
      "Please sign in to your GIS and paste the code that is obtained below.\n",
      "If a web browser does not automatically open, please navigate to the URL below yourself instead.\n",
      "Opening web browser to navigate to: https://www.arcgis.com/sharing/rest/oauth2/authorize?response_type=code&client_id=ztKl8vv9x4R8bE20&redirect_uri=urn%3Aietf%3Awg%3Aoauth%3A2.0%3Aoob&state=n9jc0095YcPgQielW0Ev0lxhW6QxgD&allow_verification=false\n"
     ]
    }
   ],
   "source": [
    "# Example - loading TNC lands\n",
    "tnc = get_AGOL_layer(layer_id = 'f77e630cfe914483929f2a0bfba230c3', \n",
    "                    crs = 4326,\n",
    "                    output_file = r'C:\\Users\\jinsu.elhance\\file.shp');"
   ]
  },
  {
   "cell_type": "code",
   "execution_count": 14,
   "id": "7e38ebac",
   "metadata": {
    "scrolled": false
   },
   "outputs": [
    {
     "name": "stdout",
     "output_type": "stream",
     "text": [
      "Signed in as dangermond_preserve@tnc.org_TNC\n"
     ]
    }
   ],
   "source": [
    "arcpy.SignInToPortal(\"https://tnc.maps.arcgis.com\") ##Authentication\n",
    "p_info = arcpy.GetPortalDescription(\"https://tnc.maps.arcgis.com\")\n",
    "print(f\"Signed in as {p_info['user']['username']}\")"
   ]
  },
  {
   "cell_type": "code",
   "execution_count": 15,
   "id": "d5056b38",
   "metadata": {
    "scrolled": false
   },
   "outputs": [],
   "source": [
    "#Pointer for portal data access\n",
    "portal = GIS(\"https://tnc.maps.arcgis.com\")"
   ]
  },
  {
   "cell_type": "markdown",
   "id": "a7fdb53e",
   "metadata": {},
   "source": [
    "# Loading Portal Data Into Workbook"
   ]
  },
  {
   "cell_type": "markdown",
   "id": "af263181",
   "metadata": {},
   "source": [
    "## Attach workbook to your ArcGIS Project"
   ]
  },
  {
   "cell_type": "code",
   "execution_count": 16,
   "id": "0cb7b44f",
   "metadata": {},
   "outputs": [],
   "source": [
    "project_dir = \"C:/Users/jinsu.elhance/Documents/ArcGIS/Projects/FinalRoadUse/\"\n",
    "aprx = arcpy.mp.ArcGISProject(f\"{project_dir}/FinalRoadUse.aprx\")\n",
    "\n",
    "try:\n",
    "    mp = aprx.listMaps()[0]\n",
    "except IndexError:\n",
    "    print(\"Please add a map to your project\")\n",
    "    \n",
    "arcpy.env.workspace = f\"{project_dir}/FinalRoadUse.gdb\""
   ]
  },
  {
   "cell_type": "markdown",
   "id": "6f570d61",
   "metadata": {},
   "source": [
    "## Create or Identify Directories for GeoJSON and Shapefile Outputs"
   ]
  },
  {
   "cell_type": "code",
   "execution_count": 17,
   "id": "2e90e1b7",
   "metadata": {},
   "outputs": [],
   "source": [
    "if not os.path.exists(f\"{project_dir}/GeoJSONs\"):\n",
    "    os.makedirs(f\"{project_dir}/GeoJSONs\")\n",
    "geojson_dir = f\"{project_dir}/GeoJSONs\"\n",
    "    \n",
    "if not os.path.exists(f\"{project_dir}/Shapefiles\"):\n",
    "    os.makedirs(f\"{project_dir}/Shapefiles\")\n",
    "shapefile_dir = f\"{project_dir}/Shapefiles\""
   ]
  },
  {
   "cell_type": "markdown",
   "id": "9aacf3d4",
   "metadata": {},
   "source": [
    "# Useful Functions"
   ]
  },
  {
   "cell_type": "code",
   "execution_count": 22,
   "id": "e460897c",
   "metadata": {},
   "outputs": [],
   "source": [
    "def getFields(layer):\n",
    "    assert type(layer) == arcpy._mp.Layer\n",
    "    _dsc = arcpy.da.Describe(layer)\n",
    "    if _dsc.get('children', False):\n",
    "        print(\"This layer is a grouped layer\")\n",
    "        return None\n",
    "    return arcpy.da.Describe(layer)['fields']\n",
    "\n",
    "def getFieldNames(layer):\n",
    "    assert type(layer) == arcpy._mp.Layer\n",
    "    _dsc = arcpy.da.Describe(layer)\n",
    "    if _dsc.get('children', False):\n",
    "        print(\"This layer is a grouped layer\")\n",
    "        return None\n",
    "    return [field.name for field in arcpy.da.Describe(layer)['fields']]\n",
    "\n",
    "def LayerToGDF(project, layer, crs):\n",
    "    \"\"\"\n",
    "    Input: \n",
    "    project (arcpy._mp.ArcGISProject) : Current working project\n",
    "    layer (arc._mp.Layer) : layer with data to be converted to a geodataframe\n",
    "    crs (string) : EPSG crs that you want layer to be projected to. Defaults to 'EPSG:4326'\n",
    "    Output:\n",
    "    returns geopandas geodataframe from layer\n",
    "    \"\"\"\n",
    "    assert type(project) == arcpy._mp.ArcGISProject and geojson_dir\n",
    "    output_file = arcpy.da.Describe(layer)['aliasName']\n",
    "    \n",
    "    if (os.path.exists(f\"{geojson_dir}/{output_file}.geojson\")):\n",
    "        _owrite = input(f\"This GeoJSON ({output_file}) has already been created, would you like to overwite (y/n)\").lower()\n",
    "        if _owrite == \"y\":\n",
    "            os.remove(f\"{geojson_dir}/{output_file}.geojson\")\n",
    "            LayerToGDF(project, layer, crs)\n",
    "        else:\n",
    "            return gpd.GeoDataFrame.from_file(f\"{geojson_dir}/{output_file}.geojson\").to_crs(crs)\n",
    "\n",
    "    arcpy.conversion.FeaturesToJSON(layer, f\"{geojson_dir}/{output_file}.geojson\", geoJSON = True)\n",
    "    return gpd.GeoDataFrame.from_file(f\"{geojson_dir}/{output_file}.geojson\").to_crs(crs)\n",
    "\n",
    "def GDFToLayer(gdf, out_features, geometry_type, project):\n",
    "    \"\"\"\n",
    "    Inputs:\n",
    "    gdf (GeoDataFrame)\n",
    "    out_features (string)\n",
    "    geometry_type (string)\n",
    "    project (arcpy._mp.ArcGISProject)\n",
    "    Output:\n",
    "    None -> Prints status message\n",
    "    \"\"\"\n",
    "    #Assert Geojson dir and shapefile dir are defined\n",
    "    assert geojson_dir and shapefile_dir\n",
    "    \n",
    "    if (os.path.exists(f\"{shapefile_dir}/{out_features}.shp\")):\n",
    "        _owrite = input(f\"This Shapefile ({out_features}) has already been created, would you like to overwite (y/n)\").lower()\n",
    "        if _owrite == \"y\":\n",
    "            os.remove(f\"{geojson_dir}/{out_features}.geojson\")\n",
    "            for f in glob.glob(f\"{shapefile_dir}/{out_features}.*\"):\n",
    "                os.remove(f)\n",
    "            GDFToLayer(gdf, out_features, geometry_type, project)\n",
    "        else: \n",
    "            arcpy.conversion.FeatureClassToGeodatabase(f\"{shapefile_dir}/{out_features}.shp\", project.defaultGeodatabase)\n",
    "            return\n",
    "        \n",
    "    else: #Create new GeoJSON and shp\n",
    "        #Write GeoDataFrame to a GeoJSON in the geojson_dir \n",
    "        gdf.to_file(f\"{geojson_dir}/{out_features}.geojson\", driver=\"GeoJSON\")\n",
    "        #Read new GeoJSON to a shapefile\n",
    "        arcpy.conversion.JSONToFeatures(f\"{geojson_dir}/{out_features}.geojson\", f\"{shapefile_dir}/{out_features}\", geometry_type = geometry_type)\n",
    "    \n",
    "    #Add shapefile to project as a layer\n",
    "    arcpy.conversion.FeatureClassToGeodatabase(f\"{shapefile_dir}/{out_features}.shp\", project.defaultGeodatabase)\n",
    "    \n",
    "    print(\"Successfully added to geodatabase\")\n",
    "    return"
   ]
  },
  {
   "cell_type": "markdown",
   "id": "74b05cb4",
   "metadata": {},
   "source": [
    "# Perform Analysis"
   ]
  },
  {
   "cell_type": "markdown",
   "id": "d0de6725",
   "metadata": {},
   "source": [
    "### Pull Layers into GeoDataFrames"
   ]
  },
  {
   "cell_type": "code",
   "execution_count": 23,
   "id": "f2faabde",
   "metadata": {},
   "outputs": [
    {
     "name": "stdout",
     "output_type": "stream",
     "text": [
      "This GeoJSON (jldp_roads_root_2022_02) has already been created, would you like to overwite (y/n)n\n",
      "This GeoJSON (lora_tracking_3) has already been created, would you like to overwite (y/n)n\n"
     ]
    }
   ],
   "source": [
    "layer_list = [layer.name for layer in mp.listLayers()]\n",
    "roads_jldp = mp.listLayers()[0]\n",
    "lora_tracking_jldp = mp.listLayers()[1]\n",
    "\n",
    "roads_jldp_gdf = LayerToGDF(aprx, roads_jldp, \"EPSG:4326\")\n",
    "lora_jldp_gdf = LayerToGDF(aprx, lora_tracking_jldp, \"EPSG:4326\")"
   ]
  },
  {
   "cell_type": "markdown",
   "id": "4b071fb6",
   "metadata": {},
   "source": [
    "### Clip Data to JLDP Boundary"
   ]
  },
  {
   "cell_type": "code",
   "execution_count": 24,
   "id": "5cc55625",
   "metadata": {},
   "outputs": [],
   "source": [
    "jldp_bounds = gpd.read_file(\"C:/Users/jinsu.elhance/Box/000. Jinsu Elhance/HelpfulShapes/Shapefiles/DP_Boundary.shp\")\n",
    "\n",
    "lora_jldp_gdf_clipped = gpd.clip(lora_jldp_gdf, jldp_bounds)\n",
    "roads_jldp_gdf_clipped = gpd.clip(roads_jldp_gdf, jldp_bounds)"
   ]
  },
  {
   "cell_type": "markdown",
   "id": "83a80102",
   "metadata": {},
   "source": [
    "### Generate Near Table"
   ]
  },
  {
   "cell_type": "code",
   "execution_count": 25,
   "id": "93b54332",
   "metadata": {},
   "outputs": [
    {
     "name": "stdout",
     "output_type": "stream",
     "text": [
      "File already exists\n"
     ]
    }
   ],
   "source": [
    "try:\n",
    "    arcpy.analysis.GenerateNearTable(lora_tracking_jldp, roads_jldp, \"lora_road_near_table\", \"20 meters\", closest=True)\n",
    "except:\n",
    "    print(\"File already exists\")"
   ]
  },
  {
   "cell_type": "code",
   "execution_count": 26,
   "id": "38e33058",
   "metadata": {},
   "outputs": [],
   "source": [
    "near_table_ptr = arcpy.ListTables(\"lora_road_near_table\")[0]\n",
    "_fieldnames = [field.name for field in arcpy.da.Describe(near_table_ptr)['fields']]"
   ]
  },
  {
   "cell_type": "markdown",
   "id": "240e85d2",
   "metadata": {},
   "source": [
    "### Joining Lora Tracking Data to Roads"
   ]
  },
  {
   "cell_type": "code",
   "execution_count": 27,
   "id": "da920443",
   "metadata": {},
   "outputs": [],
   "source": [
    "near_table = gpd.GeoDataFrame(arcpy.da.TableToNumPyArray(\"lora_road_near_table\", _fieldnames))"
   ]
  },
  {
   "cell_type": "code",
   "execution_count": 28,
   "id": "a56a15e5",
   "metadata": {},
   "outputs": [],
   "source": [
    "_lora_road_join = (lora_jldp_gdf_clipped\n",
    "    .merge(near_table, left_on = \"FID\", right_on=\"IN_FID\", how=\"left\")\n",
    "    .rename(columns={'NEAR_FID':'road_ID'}))\n",
    "\n",
    "_lora_road_join['date'] = _lora_road_join['rec_tm_utc'].dt.floor(\"D\")\n",
    "\n",
    "daily_road_use = (_lora_road_join\n",
    "                  .groupby(['road_ID', 'date', 'dev'])[['road_ID', 'date', 'dev']]\n",
    "                  .agg(lambda x: None or x))\n",
    "\n",
    "daily_road_use['month'] = _lora_road_join['date'].dt.strftime('%Y/%m')\n",
    "daily_road_use['year'] = _lora_road_join['date'].dt.strftime('%Y')\n",
    "\n",
    "monthly_road_use = (daily_road_use\n",
    "                    .groupby(['road_ID', 'month'])[['dev']]\n",
    "                    .count()\n",
    "                    .rename(columns = {\"dev\":'vehicle_count'})\n",
    "                    .reset_index())\n",
    "\n",
    "yearly_road_use = (daily_road_use\n",
    "                   .groupby(['road_ID', 'year'])[['dev']]\n",
    "                   .count()\n",
    "                   .rename(columns = {\"dev\":'vehicle_count'})\n",
    "                   .reset_index())\n",
    "\n",
    "total_road_use = (daily_road_use\n",
    "                  .groupby(['road_ID'])[['dev']]\n",
    "                  .count()\n",
    "                  .rename(columns = {\"dev\": 'vehicle_count'})\n",
    "                  .reset_index())"
   ]
  },
  {
   "cell_type": "code",
   "execution_count": 40,
   "id": "5990279d",
   "metadata": {},
   "outputs": [
    {
     "data": {
      "text/html": [
       "<div>\n",
       "<style scoped>\n",
       "    .dataframe tbody tr th:only-of-type {\n",
       "        vertical-align: middle;\n",
       "    }\n",
       "\n",
       "    .dataframe tbody tr th {\n",
       "        vertical-align: top;\n",
       "    }\n",
       "\n",
       "    .dataframe thead th {\n",
       "        text-align: right;\n",
       "    }\n",
       "</style>\n",
       "<table border=\"1\" class=\"dataframe\">\n",
       "  <thead>\n",
       "    <tr style=\"text-align: right;\">\n",
       "      <th></th>\n",
       "      <th>FID</th>\n",
       "      <th>Type</th>\n",
       "      <th>Road_Compo</th>\n",
       "      <th>Condition</th>\n",
       "      <th>Safety_Lev</th>\n",
       "      <th>Notes</th>\n",
       "      <th>Length</th>\n",
       "      <th>name</th>\n",
       "      <th>road_type</th>\n",
       "      <th>vehicle_ty</th>\n",
       "      <th>...</th>\n",
       "      <th>comments</th>\n",
       "      <th>compositio</th>\n",
       "      <th>Tier</th>\n",
       "      <th>Flag</th>\n",
       "      <th>Pasture</th>\n",
       "      <th>Zone</th>\n",
       "      <th>GlobalID</th>\n",
       "      <th>Shape__Length</th>\n",
       "      <th>geometry</th>\n",
       "      <th>vehicle_count</th>\n",
       "    </tr>\n",
       "    <tr>\n",
       "      <th>road_ID</th>\n",
       "      <th></th>\n",
       "      <th></th>\n",
       "      <th></th>\n",
       "      <th></th>\n",
       "      <th></th>\n",
       "      <th></th>\n",
       "      <th></th>\n",
       "      <th></th>\n",
       "      <th></th>\n",
       "      <th></th>\n",
       "      <th></th>\n",
       "      <th></th>\n",
       "      <th></th>\n",
       "      <th></th>\n",
       "      <th></th>\n",
       "      <th></th>\n",
       "      <th></th>\n",
       "      <th></th>\n",
       "      <th></th>\n",
       "      <th></th>\n",
       "      <th></th>\n",
       "    </tr>\n",
       "  </thead>\n",
       "  <tbody>\n",
       "    <tr>\n",
       "      <th>252.0</th>\n",
       "      <td>252</td>\n",
       "      <td>Rugged - 2x2</td>\n",
       "      <td>Dirt/Grass</td>\n",
       "      <td>Poor</td>\n",
       "      <td>4.0</td>\n",
       "      <td></td>\n",
       "      <td>290.599869</td>\n",
       "      <td>CMT Road</td>\n",
       "      <td>Primary Dirt Road</td>\n",
       "      <td>AWD Vehicle</td>\n",
       "      <td>...</td>\n",
       "      <td></td>\n",
       "      <td>Dirt/Grass</td>\n",
       "      <td>Tier 2</td>\n",
       "      <td>Restoration</td>\n",
       "      <td>54</td>\n",
       "      <td>Cojo Coast</td>\n",
       "      <td>{43840fc8-7bbd-4187-8e8a-a60c28bd7c56}</td>\n",
       "      <td>953.409737</td>\n",
       "      <td>LINESTRING Z (-120.42018 34.45319 0.00000, -12...</td>\n",
       "      <td>236.0</td>\n",
       "    </tr>\n",
       "    <tr>\n",
       "      <th>251.0</th>\n",
       "      <td>251</td>\n",
       "      <td>Rugged - 2x2</td>\n",
       "      <td>Asphalt</td>\n",
       "      <td>Good</td>\n",
       "      <td>5.0</td>\n",
       "      <td></td>\n",
       "      <td>174.457302</td>\n",
       "      <td>Cojo Bay Road</td>\n",
       "      <td>Paved Private Road</td>\n",
       "      <td>2WD Vehicle</td>\n",
       "      <td>...</td>\n",
       "      <td></td>\n",
       "      <td>Asphalt</td>\n",
       "      <td>Tier 1</td>\n",
       "      <td></td>\n",
       "      <td>54</td>\n",
       "      <td>Cojo Coast</td>\n",
       "      <td>{caeed10b-cbd1-4469-ac19-0c3993e111a7}</td>\n",
       "      <td>284.358726</td>\n",
       "      <td>LINESTRING Z (-120.42018 34.45319 0.00000, -12...</td>\n",
       "      <td>22.0</td>\n",
       "    </tr>\n",
       "    <tr>\n",
       "      <th>492.0</th>\n",
       "      <td>492</td>\n",
       "      <td>Rugged - 2x2</td>\n",
       "      <td>Asphalt</td>\n",
       "      <td>Good</td>\n",
       "      <td>5.0</td>\n",
       "      <td></td>\n",
       "      <td>39.041557</td>\n",
       "      <td>Cojo Bay Road</td>\n",
       "      <td>Paved Private Road</td>\n",
       "      <td>2WD Vehicle</td>\n",
       "      <td>...</td>\n",
       "      <td></td>\n",
       "      <td>Asphalt</td>\n",
       "      <td>Tier 1</td>\n",
       "      <td></td>\n",
       "      <td>Steve's Flat?</td>\n",
       "      <td>Cojo Coast</td>\n",
       "      <td>{893e189c-830f-4e25-8e1e-150728b6505e}</td>\n",
       "      <td>128.088841</td>\n",
       "      <td>MULTILINESTRING Z ((-120.42024 34.45353 0.0000...</td>\n",
       "      <td>3.0</td>\n",
       "    </tr>\n",
       "    <tr>\n",
       "      <th>259.0</th>\n",
       "      <td>259</td>\n",
       "      <td>Rugged - 4x4</td>\n",
       "      <td>Dirt/Grass</td>\n",
       "      <td>Poor</td>\n",
       "      <td>3.0</td>\n",
       "      <td>washouts</td>\n",
       "      <td>729.883927</td>\n",
       "      <td>UTV Test</td>\n",
       "      <td>Backcountry Road</td>\n",
       "      <td>ATV/UTV</td>\n",
       "      <td>...</td>\n",
       "      <td></td>\n",
       "      <td>Dirt/Grass</td>\n",
       "      <td>Tier 3</td>\n",
       "      <td>Rain</td>\n",
       "      <td>Steve's Flat?</td>\n",
       "      <td>Cojo Coast</td>\n",
       "      <td>{ebd68f6a-4b6d-4919-a95f-ea557ca0b7bf}</td>\n",
       "      <td>2394.627519</td>\n",
       "      <td>MULTILINESTRING Z ((-120.42024 34.45359 0.0000...</td>\n",
       "      <td>9.0</td>\n",
       "    </tr>\n",
       "    <tr>\n",
       "      <th>NaN</th>\n",
       "      <td>793</td>\n",
       "      <td>Rugged - 2x2</td>\n",
       "      <td>Asphalt</td>\n",
       "      <td>Good</td>\n",
       "      <td>5.0</td>\n",
       "      <td></td>\n",
       "      <td>6.743531</td>\n",
       "      <td>Cojo Bay Road</td>\n",
       "      <td>Paved Private Road</td>\n",
       "      <td>2WD Vehicle</td>\n",
       "      <td>...</td>\n",
       "      <td></td>\n",
       "      <td>Asphalt</td>\n",
       "      <td>Tier 1</td>\n",
       "      <td></td>\n",
       "      <td>Steve's Flat?</td>\n",
       "      <td>Cojo Coast</td>\n",
       "      <td>{855ba6ce-6b25-4b38-a6b8-0d5078a1235e}</td>\n",
       "      <td>22.124400</td>\n",
       "      <td>LINESTRING Z (-120.42024 34.45359 0.00000, -12...</td>\n",
       "      <td>NaN</td>\n",
       "    </tr>\n",
       "  </tbody>\n",
       "</table>\n",
       "<p>5 rows × 21 columns</p>\n",
       "</div>"
      ],
      "text/plain": [
       "         FID          Type  Road_Compo Condition  Safety_Lev     Notes  \\\n",
       "road_ID                                                                  \n",
       "252.0    252  Rugged - 2x2  Dirt/Grass      Poor         4.0             \n",
       "251.0    251  Rugged - 2x2     Asphalt      Good         5.0             \n",
       "492.0    492  Rugged - 2x2     Asphalt      Good         5.0             \n",
       "259.0    259  Rugged - 4x4  Dirt/Grass      Poor         3.0  washouts   \n",
       "NaN      793  Rugged - 2x2     Asphalt      Good         5.0             \n",
       "\n",
       "             Length           name           road_type   vehicle_ty  ...  \\\n",
       "road_ID                                                              ...   \n",
       "252.0    290.599869       CMT Road   Primary Dirt Road  AWD Vehicle  ...   \n",
       "251.0    174.457302  Cojo Bay Road  Paved Private Road  2WD Vehicle  ...   \n",
       "492.0     39.041557  Cojo Bay Road  Paved Private Road  2WD Vehicle  ...   \n",
       "259.0    729.883927       UTV Test    Backcountry Road      ATV/UTV  ...   \n",
       "NaN        6.743531  Cojo Bay Road  Paved Private Road  2WD Vehicle  ...   \n",
       "\n",
       "        comments  compositio    Tier         Flag        Pasture        Zone  \\\n",
       "road_ID                                                                        \n",
       "252.0             Dirt/Grass  Tier 2  Restoration             54  Cojo Coast   \n",
       "251.0                Asphalt  Tier 1                          54  Cojo Coast   \n",
       "492.0                Asphalt  Tier 1               Steve's Flat?  Cojo Coast   \n",
       "259.0             Dirt/Grass  Tier 3         Rain  Steve's Flat?  Cojo Coast   \n",
       "NaN                  Asphalt  Tier 1               Steve's Flat?  Cojo Coast   \n",
       "\n",
       "                                       GlobalID Shape__Length  \\\n",
       "road_ID                                                         \n",
       "252.0    {43840fc8-7bbd-4187-8e8a-a60c28bd7c56}    953.409737   \n",
       "251.0    {caeed10b-cbd1-4469-ac19-0c3993e111a7}    284.358726   \n",
       "492.0    {893e189c-830f-4e25-8e1e-150728b6505e}    128.088841   \n",
       "259.0    {ebd68f6a-4b6d-4919-a95f-ea557ca0b7bf}   2394.627519   \n",
       "NaN      {855ba6ce-6b25-4b38-a6b8-0d5078a1235e}     22.124400   \n",
       "\n",
       "                                                  geometry vehicle_count  \n",
       "road_ID                                                                   \n",
       "252.0    LINESTRING Z (-120.42018 34.45319 0.00000, -12...         236.0  \n",
       "251.0    LINESTRING Z (-120.42018 34.45319 0.00000, -12...          22.0  \n",
       "492.0    MULTILINESTRING Z ((-120.42024 34.45353 0.0000...           3.0  \n",
       "259.0    MULTILINESTRING Z ((-120.42024 34.45359 0.0000...           9.0  \n",
       "NaN      LINESTRING Z (-120.42024 34.45359 0.00000, -12...           NaN  \n",
       "\n",
       "[5 rows x 21 columns]"
      ]
     },
     "execution_count": 40,
     "metadata": {},
     "output_type": "execute_result"
    }
   ],
   "source": [
    "total_road_use_lines = gpd.GeoDataFrame(roads_jldp_gdf_clipped\n",
    "                       .merge(total_road_use, left_on=\"FID\", right_on=\"road_ID\", how=\"left\")\n",
    "                       .set_index('road_ID'))\n",
    "\n",
    "total_road_use_lines.head()"
   ]
  },
  {
   "cell_type": "code",
   "execution_count": 41,
   "id": "0a709cbb",
   "metadata": {},
   "outputs": [],
   "source": [
    "monthly = (roads_jldp_gdf_clipped\n",
    "    .merge(monthly_road_use, left_on=\"FID\", right_on=\"road_ID\", how=\"right\")[['road_ID', 'geometry', 'month', 'vehicle_count']]\n",
    "    .sort_values('month')\n",
    "    .set_index('road_ID'))\n",
    "\n",
    "#monthly.head()"
   ]
  },
  {
   "cell_type": "markdown",
   "id": "f056f050",
   "metadata": {},
   "source": [
    "### Write Data Back to ArcGIS Project"
   ]
  },
  {
   "cell_type": "code",
   "execution_count": 42,
   "id": "545290ba",
   "metadata": {},
   "outputs": [
    {
     "name": "stdout",
     "output_type": "stream",
     "text": [
      "This Shapefile (monthly_road_use) has already been created, would you like to overwite (y/n)n\n",
      "Successfully added to geodatabase\n"
     ]
    }
   ],
   "source": [
    "GDFToLayer(monthly, \"monthly_road_use\", \"POLYLINE\", aprx)\n",
    "GDFToLayer(total_road_use_lines, \"total_road_use\", \"POLYLINE\", aprx)"
   ]
  },
  {
   "cell_type": "markdown",
   "id": "b5c30624",
   "metadata": {},
   "source": [
    "### Attempted Methods"
   ]
  },
  {
   "cell_type": "code",
   "execution_count": 22,
   "id": "41431466",
   "metadata": {},
   "outputs": [],
   "source": [
    "lora_tracking_jldp_df = pd.DataFrame.spatial.from_featureclass(\"lora_tracking_3\")"
   ]
  }
 ],
 "metadata": {
  "kernelspec": {
   "display_name": "Python 3 (ipykernel)",
   "language": "python",
   "name": "python3"
  },
  "language_info": {
   "codemirror_mode": {
    "name": "ipython",
    "version": 3
   },
   "file_extension": ".py",
   "mimetype": "text/x-python",
   "name": "python",
   "nbconvert_exporter": "python",
   "pygments_lexer": "ipython3",
   "version": "3.9.12"
  },
  "toc": {
   "base_numbering": 1,
   "nav_menu": {},
   "number_sections": true,
   "sideBar": true,
   "skip_h1_title": false,
   "title_cell": "Table of Contents",
   "title_sidebar": "Contents",
   "toc_cell": false,
   "toc_position": {},
   "toc_section_display": true,
   "toc_window_display": false
  },
  "varInspector": {
   "cols": {
    "lenName": 16,
    "lenType": 16,
    "lenVar": 40
   },
   "kernels_config": {
    "python": {
     "delete_cmd_postfix": "",
     "delete_cmd_prefix": "del ",
     "library": "var_list.py",
     "varRefreshCmd": "print(var_dic_list())"
    },
    "r": {
     "delete_cmd_postfix": ") ",
     "delete_cmd_prefix": "rm(",
     "library": "var_list.r",
     "varRefreshCmd": "cat(var_dic_list()) "
    }
   },
   "types_to_exclude": [
    "module",
    "function",
    "builtin_function_or_method",
    "instance",
    "_Feature"
   ],
   "window_display": false
  }
 },
 "nbformat": 4,
 "nbformat_minor": 5
}
